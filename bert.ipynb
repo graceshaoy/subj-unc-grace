{
 "cells": [
  {
   "cell_type": "code",
   "execution_count": 1,
   "id": "43188a03",
   "metadata": {},
   "outputs": [
    {
     "ename": "SyntaxError",
     "evalue": "invalid syntax (639700151.py, line 14)",
     "output_type": "error",
     "traceback": [
      "\u001b[0;36m  File \u001b[0;32m\"/scratch/local/jobs/4655713/ipykernel_3043367/639700151.py\"\u001b[0;36m, line \u001b[0;32m14\u001b[0m\n\u001b[0;31m    df_path = <path to a DF, e.g., a coll_parsed_.. file that has a column named \"CONCLUSION\">\u001b[0m\n\u001b[0m              ^\u001b[0m\n\u001b[0;31mSyntaxError\u001b[0m\u001b[0;31m:\u001b[0m invalid syntax\n"
     ]
    }
   ],
   "source": [
    "import sys\n",
    "path = \"/project/jevans/jamshid/subjective-uncertainty/\"\n",
    "sys.path.insert(0,path)\n",
    "from subj_unc import models, utils\n",
    "\n",
    "# load the model\n",
    "M = models.SubjectiveUncertainty('scibert', device=0)\n",
    "\n",
    "# now, you can either apply the model on standalone sentences ...\n",
    "MM.estimator([\"this is just a test.\", \"this may be another test.\"])\n",
    "\n",
    "# ... or you can apply it on undivided sentences that are grouped\n",
    "# in a column of a dataframe (as we did with zero-shot model)\n",
    "df_path = <path to a DF, e.g., a coll_parsed_.. file that has a column named \"CONCLUSION\">\n",
    "df = pd.read_csv(df_path, sep='\\t')\n",
    "# remove empty and NA rows\n",
    "subdf = df[(df.CONCLUSION!=\"\") & (~df.CONCLUSION.isna())]\n",
    "utils.measure_uncertainty_df_abstracts(subdf, M, 700, \"CONCLUSION\")"
   ]
  },
  {
   "cell_type": "code",
   "execution_count": null,
   "id": "40d93c82",
   "metadata": {},
   "outputs": [],
   "source": []
  }
 ],
 "metadata": {
  "kernelspec": {
   "display_name": "Python 3 (ipykernel)",
   "language": "python",
   "name": "python3"
  },
  "language_info": {
   "codemirror_mode": {
    "name": "ipython",
    "version": 3
   },
   "file_extension": ".py",
   "mimetype": "text/x-python",
   "name": "python",
   "nbconvert_exporter": "python",
   "pygments_lexer": "ipython3",
   "version": "3.8.5"
  }
 },
 "nbformat": 4,
 "nbformat_minor": 5
}
