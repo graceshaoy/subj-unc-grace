{
 "cells": [
  {
   "cell_type": "code",
   "execution_count": 1,
   "id": "43188a03",
   "metadata": {},
   "outputs": [
    {
     "ename": "SyntaxError",
     "evalue": "invalid syntax (639700151.py, line 14)",
     "output_type": "error",
     "traceback": [
      "\u001b[0;36m  File \u001b[0;32m\"/scratch/local/jobs/4655713/ipykernel_3043367/639700151.py\"\u001b[0;36m, line \u001b[0;32m14\u001b[0m\n\u001b[0;31m    df_path = <path to a DF, e.g., a coll_parsed_.. file that has a column named \"CONCLUSION\">\u001b[0m\n\u001b[0m              ^\u001b[0m\n\u001b[0;31mSyntaxError\u001b[0m\u001b[0;31m:\u001b[0m invalid syntax\n"
     ]
    }
   ],
   "source": [
    "import sys\n",
    "path = \"/project/jevans/jamshid/subjective-uncertainty/\"\n",
    "sys.path.insert(0,path)\n",
    "from subj_unc import models, utils\n",
    "\n",
    "# load the model\n",
    "M = models.SubjectiveUncertainty('scibert', device=0)\n",
    "\n",
    "# now, you can either apply the model on standalone sentences ...\n",
    "MM.estimator([\"this is just a test.\", \"this may be another test.\"])\n",
    "\n",
    "# ... or you can apply it on undivided sentences that are grouped\n",
    "# in a column of a dataframe (as we did with zero-shot model)\n",
    "df_path = <path to a DF, e.g., a coll_parsed_.. file that has a column named \"CONCLUSION\">\n",
    "df = pd.read_csv(df_path, sep='\\t')\n",
    "# remove empty and NA rows\n",
    "subdf = df[(df.CONCLUSION!=\"\") & (~df.CONCLUSION.isna())]\n",
    "utils.measure_uncertainty_df_abstracts(subdf, M, 700, \"CONCLUSION\")"
   ]
  },
  {
   "cell_type": "code",
   "execution_count": 1,
   "id": "40d93c82",
   "metadata": {},
   "outputs": [
    {
     "name": "stderr",
     "output_type": "stream",
     "text": [
      "\n",
      "Bad key text.latex.preview in file /software/python-anaconda-2020.11-el8-x86_64/lib/python3.8/site-packages/matplotlib/mpl-data/stylelib/_classic_test.mplstyle, line 123 ('text.latex.preview : False')\n",
      "You probably need to get an updated matplotlibrc file from\n",
      "https://github.com/matplotlib/matplotlib/blob/v3.6.0/matplotlibrc.template\n",
      "or from the matplotlib source distribution\n",
      "\n",
      "Bad key mathtext.fallback_to_cm in file /software/python-anaconda-2020.11-el8-x86_64/lib/python3.8/site-packages/matplotlib/mpl-data/stylelib/_classic_test.mplstyle, line 155 ('mathtext.fallback_to_cm : True  # When True, use symbols from the Computer Modern')\n",
      "You probably need to get an updated matplotlibrc file from\n",
      "https://github.com/matplotlib/matplotlib/blob/v3.6.0/matplotlibrc.template\n",
      "or from the matplotlib source distribution\n",
      "\n",
      "Bad key savefig.jpeg_quality in file /software/python-anaconda-2020.11-el8-x86_64/lib/python3.8/site-packages/matplotlib/mpl-data/stylelib/_classic_test.mplstyle, line 418 ('savefig.jpeg_quality: 95       # when a jpeg is saved, the default quality parameter.')\n",
      "You probably need to get an updated matplotlibrc file from\n",
      "https://github.com/matplotlib/matplotlib/blob/v3.6.0/matplotlibrc.template\n",
      "or from the matplotlib source distribution\n",
      "\n",
      "Bad key keymap.all_axes in file /software/python-anaconda-2020.11-el8-x86_64/lib/python3.8/site-packages/matplotlib/mpl-data/stylelib/_classic_test.mplstyle, line 466 ('keymap.all_axes : a                 # enable all axes')\n",
      "You probably need to get an updated matplotlibrc file from\n",
      "https://github.com/matplotlib/matplotlib/blob/v3.6.0/matplotlibrc.template\n",
      "or from the matplotlib source distribution\n",
      "\n",
      "Bad key animation.avconv_path in file /software/python-anaconda-2020.11-el8-x86_64/lib/python3.8/site-packages/matplotlib/mpl-data/stylelib/_classic_test.mplstyle, line 477 ('animation.avconv_path: avconv     # Path to avconv binary. Without full path')\n",
      "You probably need to get an updated matplotlibrc file from\n",
      "https://github.com/matplotlib/matplotlib/blob/v3.6.0/matplotlibrc.template\n",
      "or from the matplotlib source distribution\n",
      "\n",
      "Bad key animation.avconv_args in file /software/python-anaconda-2020.11-el8-x86_64/lib/python3.8/site-packages/matplotlib/mpl-data/stylelib/_classic_test.mplstyle, line 479 ('animation.avconv_args:            # Additional arguments to pass to avconv')\n",
      "You probably need to get an updated matplotlibrc file from\n",
      "https://github.com/matplotlib/matplotlib/blob/v3.6.0/matplotlibrc.template\n",
      "or from the matplotlib source distribution\n"
     ]
    }
   ],
   "source": [
    "import csv\n",
    "import time\n",
    "import sys\n",
    "import os\n",
    "\n",
    "import dask.dataframe as dd \n",
    "import pandas as pd\n",
    "import numpy as np\n",
    "import matplotlib.pyplot as plt\n",
    "\n",
    "%matplotlib inline\n",
    "path_prefix = \"/project/jevans/jamshid/mag/\"\n",
    "\n",
    "import warnings\n",
    "warnings.filterwarnings(\"ignore\")"
   ]
  },
  {
   "cell_type": "code",
   "execution_count": 6,
   "id": "a42c4a4b",
   "metadata": {},
   "outputs": [],
   "source": [
    "phys_auth = pd.read_csv('/project/jevans/jamshid/mag/physics/physics_authors.tsv',sep='\\t')"
   ]
  },
  {
   "cell_type": "code",
   "execution_count": null,
   "id": "e3705c05",
   "metadata": {},
   "outputs": [],
   "source": [
    "11,500,791"
   ]
  },
  {
   "cell_type": "code",
   "execution_count": 9,
   "id": "6d06b014",
   "metadata": {},
   "outputs": [
    {
     "data": {
      "text/plain": [
       "11500791"
      ]
     },
     "execution_count": 9,
     "metadata": {},
     "output_type": "execute_result"
    }
   ],
   "source": [
    "phys_auth.authorID.nunique()"
   ]
  }
 ],
 "metadata": {
  "kernelspec": {
   "display_name": "Python 3 (ipykernel)",
   "language": "python",
   "name": "python3"
  },
  "language_info": {
   "codemirror_mode": {
    "name": "ipython",
    "version": 3
   },
   "file_extension": ".py",
   "mimetype": "text/x-python",
   "name": "python",
   "nbconvert_exporter": "python",
   "pygments_lexer": "ipython3",
   "version": "3.8.5"
  }
 },
 "nbformat": 4,
 "nbformat_minor": 5
}
