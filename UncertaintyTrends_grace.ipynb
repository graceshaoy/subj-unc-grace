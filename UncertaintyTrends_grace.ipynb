{
 "cells": [
  {
   "cell_type": "code",
   "execution_count": 249,
   "id": "93b2ee20",
   "metadata": {},
   "outputs": [],
   "source": [
    "import sys\n",
    "import pandas as pd\n",
    "import numpy as np\n",
    "\n",
    "from scipy.stats import pearsonr\n",
    "from scipy.stats import spearmanr\n",
    "\n",
    "import matplotlib.pyplot as plt\n",
    "import altair as alt\n",
    "alt.renderers.enable('jupyterlab')\n",
    "\n",
    "%matplotlib inline\n",
    "path_prefix = \"/project/jevans/jamshid/mag/\"\n",
    "\n",
    "import json"
   ]
  },
  {
   "cell_type": "code",
   "execution_count": 59,
   "id": "8a51d09e",
   "metadata": {},
   "outputs": [],
   "source": [
    "# bio_fin_wyear = pd.read_csv('/project/jevans/jamshid/mag/biology/MAX_ZS_uncertainties_years.tsv', sep='\\t', index_col=0)\n",
    "phys_fin_wyear = pd.read_csv('/project/jevans/jamshid/mag/physics/MAX_ZS_uncertainties_years.tsv', sep='\\t', index_col=0)\n",
    "# ee_fin_wyear = pd.read_csv('/project/jevans/jamshid/mag/electrical_engineering//MAX_ZS_uncertainties_years.tsv', sep='\\t', index_col=0)\n",
    "# chem_fin_wyear = pd.read_csv('/project/jevans/jamshid/mag/chemistry//MAX_ZS_uncertainties_years.tsv', sep='\\t', index_col=0)\n",
    "# cs_fin_wyear = pd.read_csv('/project/jevans/jamshid/mag/computer_science//MAX_ZS_uncertainties_years.tsv', sep='\\t', index_col=0)\n",
    "# econ_fin_wyear = pd.read_csv('/project/jevans/jamshid/mag/economics//MAX_ZS_uncertainties_years.tsv', sep='\\t', index_col=0)\n",
    "# matsci_fin_wyear = pd.read_csv('/project/jevans/jamshid/mag/materials_science//MAX_ZS_uncertainties_years.tsv', sep='\\t', index_col=0)\n",
    "# math_fin_wyear = pd.read_csv('/project/jevans/jamshid/mag/math//MAX_ZS_uncertainties_years.tsv', sep='\\t', index_col=0)\n",
    "# psych_fin_wyear = pd.read_csv('/project/jevans/jamshid/mag/psychology//MAX_ZS_uncertainties_years.tsv', sep='\\t', index_col=0)\n",
    "soc_fin_wyear = pd.read_csv('/project/jevans/jamshid/mag/sociology//MAX_ZS_uncertainties_years.tsv', sep='\\t', index_col=0)"
   ]
  },
  {
   "cell_type": "markdown",
   "id": "a27e2413",
   "metadata": {},
   "source": [
    "# cultural background -- Journal Publisher"
   ]
  },
  {
   "cell_type": "markdown",
   "id": "d4ce216b",
   "metadata": {},
   "source": [
    "### getting info"
   ]
  },
  {
   "cell_type": "code",
   "execution_count": 3,
   "id": "d592bcd3",
   "metadata": {},
   "outputs": [],
   "source": [
    "journals = pd.read_csv('/project/jevans/MAG_Dec_2021_snapshot/mag/Journals.txt', sep='\\t', header=None, usecols=[0,2,3,5,7])\n",
    "journals.columns = [\"jid\",\"norm_name\",\"display_name\",\"publisher\",\"pcount\"]"
   ]
  },
  {
   "cell_type": "code",
   "execution_count": 4,
   "id": "5e43a80a",
   "metadata": {},
   "outputs": [],
   "source": [
    "# journals"
   ]
  },
  {
   "cell_type": "code",
   "execution_count": 28,
   "id": "ecd7db8f",
   "metadata": {},
   "outputs": [],
   "source": [
    "# physics_jid = journals.loc[[x for x in journals.index if journals.norm_name[x].__contains__('physic')\\\n",
    "#                             and not journals.norm_name[x].__contains__('physical')\\\n",
    "#                             and not journals.norm_name[x].__contains__('physician')]]\n",
    "# *! physic includes physicians & medical physics, physics excludes physical , ..\n",
    "topic_jid = journals.loc[[x for x in journals.index if journals.norm_name[x].__contains__('physics')]]"
   ]
  },
  {
   "cell_type": "code",
   "execution_count": 29,
   "id": "c227a97e",
   "metadata": {},
   "outputs": [],
   "source": [
    "america_jid = set([topic_jid.jid[x] for x in topic_jid.index if topic_jid.norm_name[x].__contains__('america')])\n",
    "japan_jid = set([topic_jid.jid[x] for x in topic_jid.index if topic_jid.norm_name[x].__contains__('japan')])\n",
    "china_jid = set([topic_jid.jid[x] for x in topic_jid.index if topic_jid.norm_name[x].__contains__('chine')])\n",
    "europe_jid = set([topic_jid.jid[x] for x in topic_jid.index if topic_jid.norm_name[x].__contains__('euro')])\n",
    "britain_jid = set([topic_jid.jid[x] for x in topic_jid.index if topic_jid.norm_name[x].__contains__('brit')])\n",
    "iran_jid = set([topic_jid.jid[x] for x in topic_jid.index if topic_jid.norm_name[x].__contains__('iran')])"
   ]
  },
  {
   "cell_type": "code",
   "execution_count": 7,
   "id": "e991ad2a",
   "metadata": {},
   "outputs": [
    {
     "name": "stderr",
     "output_type": "stream",
     "text": [
      "/software/python-anaconda-2020.11-el8-x86_64/lib/python3.8/site-packages/IPython/core/interactiveshell.py:3457: DtypeWarning: Columns (2) have mixed types.Specify dtype option on import or set low_memory=False.\n",
      "  exec(code_obj, self.user_global_ns, self.user_ns)\n"
     ]
    }
   ],
   "source": [
    "# pjid = pd.read_csv('pjid.csv')"
   ]
  },
  {
   "cell_type": "code",
   "execution_count": 30,
   "id": "d8367c5d",
   "metadata": {},
   "outputs": [],
   "source": [
    "america_pid, japan_pid, china_pid, europe_pid, britain_pid, iran_pid = [],[],[],[],[],[]\n",
    "for x in pjid.index:\n",
    "    xjid,xpid = pjid.jid[x],pjid.pid[x]\n",
    "    if xjid in america_jid:\n",
    "        america_pid.append(xpid)\n",
    "    elif xjid in japan_jid:\n",
    "        japan_pid.append(xpid)\n",
    "    elif xjid in china_jid:\n",
    "        china_pid.append(xpid)\n",
    "    elif xjid in europe_jid:\n",
    "        europe_pid.append(xpid)\n",
    "    elif xjid in britain_jid:\n",
    "        britain_pid.append(xpid)\n",
    "    elif xjid in iran_jid:\n",
    "        iran_pid.append(xpid)"
   ]
  },
  {
   "cell_type": "code",
   "execution_count": 21,
   "id": "f04bf508",
   "metadata": {},
   "outputs": [
    {
     "data": {
      "text/plain": [
       "2144637206"
      ]
     },
     "execution_count": 21,
     "metadata": {},
     "output_type": "execute_result"
    }
   ],
   "source": [
    "topic_loc_pids['america'][0]"
   ]
  },
  {
   "cell_type": "code",
   "execution_count": 31,
   "id": "99454fea",
   "metadata": {},
   "outputs": [],
   "source": [
    "topic_loc_pids = {}\n",
    "for loc in [\"america\",\"japan\",\"china\",\"europe\",\"britain\",\"iran\"]:\n",
    "    loc_pids = list(map(int, locals()[loc+\"_pid\"]))\n",
    "    topic_loc_pids[loc] = loc_pids"
   ]
  },
  {
   "cell_type": "code",
   "execution_count": 32,
   "id": "74f700e3",
   "metadata": {},
   "outputs": [],
   "source": [
    "json.dump(topic_loc_pids, open(\"phys_loc_pids.json\",\"w\"), indent=4)"
   ]
  },
  {
   "cell_type": "markdown",
   "id": "a9a2cd20",
   "metadata": {},
   "source": [
    "### merging location w uncertainty df"
   ]
  },
  {
   "cell_type": "code",
   "execution_count": 51,
   "id": "485c09b5",
   "metadata": {},
   "outputs": [],
   "source": [
    "with open('soc_loc_pids.json','r') as file:\n",
    "    loc_pids = json.load(file)\n",
    "for c in loc_pids:\n",
    "    loc_pids[c] = set(loc_pids[c])"
   ]
  },
  {
   "cell_type": "code",
   "execution_count": 52,
   "id": "2d21af2d",
   "metadata": {},
   "outputs": [],
   "source": [
    "locs, pids = [],[]\n",
    "for loc in loc_pids:\n",
    "    for p in loc_pids[loc]:\n",
    "        locs.append(loc)\n",
    "        pids.append(p)\n",
    "loc_df = pd.DataFrame()\n",
    "loc_df['pid'] = pids\n",
    "loc_df['location'] = locs\n",
    "loc_df = loc_df.set_index('pid')"
   ]
  },
  {
   "cell_type": "code",
   "execution_count": 49,
   "id": "ad2a3b6b",
   "metadata": {},
   "outputs": [],
   "source": [
    "phys_uncertain_wloc = pd.merge(loc_df,phys_fin_wyear,how='left',left_index=True,right_index=True).dropna()\n",
    "phys_uncertain_wloc.to_csv('phys_uncertain_wloc.csv')"
   ]
  },
  {
   "cell_type": "code",
   "execution_count": 60,
   "id": "00e6ae39",
   "metadata": {},
   "outputs": [],
   "source": [
    "soc_uncertain_wloc = pd.merge(loc_df,soc_fin_wyear,how='left',left_index=True,right_index=True).dropna()\n",
    "soc_uncertain_wloc.to_csv('soc_uncertain_wloc.csv')"
   ]
  },
  {
   "cell_type": "markdown",
   "id": "c4442945",
   "metadata": {},
   "source": [
    "### analyzing data"
   ]
  },
  {
   "cell_type": "code",
   "execution_count": 61,
   "id": "b3188389",
   "metadata": {},
   "outputs": [],
   "source": [
    "phys_uncertain_wloc = pd.read_csv('phys_uncertain_wloc.csv')\n",
    "soc_uncertain_wloc = pd.read_csv('soc_uncertain_wloc.csv')"
   ]
  },
  {
   "cell_type": "code",
   "execution_count": 104,
   "id": "2962bde9",
   "metadata": {},
   "outputs": [
    {
     "name": "stdout",
     "output_type": "stream",
     "text": [
      "--phys\n",
      "china      4929\n",
      "america    3342\n",
      "japan      1195\n",
      "europe     1033\n",
      "iran         75\n",
      "britain      68\n",
      "Name: location, dtype: int64\n",
      "--soc\n",
      "america    848\n",
      "britain    568\n",
      "europe     193\n",
      "japan      181\n",
      "china       49\n",
      "Name: location, dtype: int64\n"
     ]
    }
   ],
   "source": [
    "print(\"--phys\")\n",
    "print(phys_uncertain_wloc.location.value_counts())\n",
    "print(\"--soc\")\n",
    "print(soc_uncertain_wloc.location.value_counts())"
   ]
  },
  {
   "cell_type": "code",
   "execution_count": 97,
   "id": "40515b6d",
   "metadata": {},
   "outputs": [],
   "source": [
    "phys_byLoc = phys_uncertain_wloc[['location','uncertain']].groupby('location').mean().reset_index()\n",
    "phys_byLoc['uncertain'] = phys_byLoc['uncertain'] - phys_uncertain_wloc.uncertain.mean()\n",
    "soc_byLoc = soc_uncertain_wloc[['location','uncertain']].groupby('location').mean().reset_index()\n",
    "soc_byLoc['uncertain'] = soc_byLoc['uncertain'] - soc_uncertain_wloc.uncertain.mean()"
   ]
  },
  {
   "cell_type": "code",
   "execution_count": 93,
   "id": "6567d839",
   "metadata": {},
   "outputs": [
    {
     "data": {
      "text/html": [
       "<div>\n",
       "<style scoped>\n",
       "    .dataframe tbody tr th:only-of-type {\n",
       "        vertical-align: middle;\n",
       "    }\n",
       "\n",
       "    .dataframe tbody tr th {\n",
       "        vertical-align: top;\n",
       "    }\n",
       "\n",
       "    .dataframe thead th {\n",
       "        text-align: right;\n",
       "    }\n",
       "</style>\n",
       "<table border=\"1\" class=\"dataframe\">\n",
       "  <thead>\n",
       "    <tr style=\"text-align: right;\">\n",
       "      <th></th>\n",
       "      <th>phys</th>\n",
       "      <th>soc</th>\n",
       "    </tr>\n",
       "    <tr>\n",
       "      <th>location</th>\n",
       "      <th></th>\n",
       "      <th></th>\n",
       "    </tr>\n",
       "  </thead>\n",
       "  <tbody>\n",
       "    <tr>\n",
       "      <th>america</th>\n",
       "      <td>0.007132</td>\n",
       "      <td>0.000646</td>\n",
       "    </tr>\n",
       "    <tr>\n",
       "      <th>britain</th>\n",
       "      <td>0.019806</td>\n",
       "      <td>-0.001679</td>\n",
       "    </tr>\n",
       "    <tr>\n",
       "      <th>china</th>\n",
       "      <td>0.001659</td>\n",
       "      <td>-0.037504</td>\n",
       "    </tr>\n",
       "    <tr>\n",
       "      <th>europe</th>\n",
       "      <td>0.053469</td>\n",
       "      <td>-0.006352</td>\n",
       "    </tr>\n",
       "    <tr>\n",
       "      <th>japan</th>\n",
       "      <td>-0.076326</td>\n",
       "      <td>0.019168</td>\n",
       "    </tr>\n",
       "  </tbody>\n",
       "</table>\n",
       "</div>"
      ],
      "text/plain": [
       "              phys       soc\n",
       "location                    \n",
       "america   0.007132  0.000646\n",
       "britain   0.019806 -0.001679\n",
       "china     0.001659 -0.037504\n",
       "europe    0.053469 -0.006352\n",
       "japan    -0.076326  0.019168"
      ]
     },
     "execution_count": 93,
     "metadata": {},
     "output_type": "execute_result"
    }
   ],
   "source": [
    "compare_byLoc = pd.merge(phys_byLoc, soc_byLoc, how='inner',on='location').set_index('location')\n",
    "compare_byLoc.columns = ['phys','soc']\n",
    "compare_byLoc"
   ]
  },
  {
   "cell_type": "code",
   "execution_count": 107,
   "id": "a8ce6bc6",
   "metadata": {},
   "outputs": [
    {
     "data": {
      "text/plain": [
       "<AxesSubplot: xlabel='location'>"
      ]
     },
     "execution_count": 107,
     "metadata": {},
     "output_type": "execute_result"
    },
    {
     "data": {
      "image/png": "[encoded data removed]",
      "text/plain": [
       "<Figure size 432x288 with 1 Axes>"
      ]
     },
     "metadata": {
      "needs_background": "light"
     },
     "output_type": "display_data"
    }
   ],
   "source": [
    "compare_byLoc.plot(kind='bar')"
   ]
  },
  {
   "cell_type": "code",
   "execution_count": 198,
   "id": "1aede9be",
   "metadata": {},
   "outputs": [
    {
     "data": {
      "text/plain": [
       "2018.0    5\n",
       "2010.0    5\n",
       "2020.0    5\n",
       "2000.0    5\n",
       "2001.0    5\n",
       "         ..\n",
       "1934.0    1\n",
       "1938.0    1\n",
       "1949.0    1\n",
       "1941.0    1\n",
       "2022.0    1\n",
       "Name: year, Length: 77, dtype: int64"
      ]
     },
     "execution_count": 198,
     "metadata": {},
     "output_type": "execute_result"
    }
   ],
   "source": [
    "phys_byYear.year.value_counts()"
   ]
  },
  {
   "cell_type": "code",
   "execution_count": 189,
   "id": "680d3e95",
   "metadata": {},
   "outputs": [],
   "source": [
    "west_dict = {'america':True,'europe':True,'britain':True,'japan':False,'china':False,'iran':False}"
   ]
  },
  {
   "cell_type": "code",
   "execution_count": 200,
   "id": "c83f470e",
   "metadata": {},
   "outputs": [],
   "source": [
    "phys_uncertain_wloc['west'] = phys_uncertain_wloc['location'].map(west_dict)\n",
    "soc_uncertain_wloc['west'] = soc_uncertain_wloc['location'].map(west_dict)"
   ]
  },
  {
   "cell_type": "code",
   "execution_count": 225,
   "id": "4e32f33d",
   "metadata": {},
   "outputs": [],
   "source": [
    "roll = 3\n",
    "\n",
    "phys_byYear = phys_uncertain_wloc[['west','uncertain','year']].groupby(['west','year']).mean().reset_index()\n",
    "phys_byYear['uncertain'] = phys_byYear['uncertain'] - phys_byYear.uncertain.mean()\n",
    "phys_byYear['rollingUncertain'] = phys_byYear['uncertain'].rolling(window=roll).mean()\n",
    "phys_byYear['topic'] = ['phys']*len(phys_byYear)\n",
    "soc_byYear = soc_uncertain_wloc[['west','uncertain','year']].groupby(['west','year']).mean().reset_index()\n",
    "soc_byYear['uncertain'] = soc_byYear['uncertain'] - soc_byYear.uncertain.mean()\n",
    "soc_byYear['rollingUncertain'] = soc_byYear['uncertain'].rolling(window=roll).mean()\n",
    "soc_byYear['topic'] = ['soc']*len(soc_byYear)"
   ]
  },
  {
   "cell_type": "code",
   "execution_count": 226,
   "id": "da197c54",
   "metadata": {},
   "outputs": [],
   "source": [
    "compare_byYear = pd.concat([phys_byYear, soc_byYear])\n",
    "compare_byYear = compare_byYear.query('year > 1960')"
   ]
  },
  {
   "cell_type": "code",
   "execution_count": 227,
   "id": "31f3e821",
   "metadata": {},
   "outputs": [],
   "source": [
    "# compare_byYear = compare_byYear.query('topic == \"soc\"')"
   ]
  },
  {
   "cell_type": "code",
   "execution_count": 250,
   "id": "c9f25d8b",
   "metadata": {},
   "outputs": [
    {
     "data": {
      "application/vnd.vegalite.v4+json": {
       "$schema": "https://vega.github.io/schema/vega-lite/v4.17.0.json",
       "config": {
        "view": {
         "continuousHeight": 300,
         "continuousWidth": 400
        }
       },
       "data": {
        "name": "data-dd67b6ddac0d0ace1e2145a479ac21f3"
       },
       "datasets": {
        "data-dd67b6ddac0d0ace1e2145a479ac21f3": [
         {
          "rollingUncertain": 0.014786226966894467,
          "topic": "soc",
          "uncertain": 0.14170498988918145,
          "west": false,
          "year": 1964
         },
         {
          "rollingUncertain": 0.08988634091508074,
          "topic": "soc",
          "uncertain": 0.22711787960819096,
          "west": false,
          "year": 1966
         },
         {
          "rollingUncertain": 0.1576354597200124,
          "topic": "soc",
          "uncertain": 0.10408350966266477,
          "west": false,
          "year": 1967
         },
         {
          "rollingUncertain": 0.09499675598632977,
          "topic": "soc",
          "uncertain": -0.04621112131186644,
          "west": false,
          "year": 1968
         },
         {
          "rollingUncertain": 0.04674633112442176,
          "topic": "soc",
          "uncertain": 0.08236660502246695,
          "west": false,
          "year": 1969
         },
         {
          "rollingUncertain": -0.01941288345166366,
          "topic": "soc",
          "uncertain": -0.0943941340655915,
          "west": false,
          "year": 1970
         },
         {
          "rollingUncertain": -0.016213153383218454,
          "topic": "soc",
          "uncertain": -0.036611931106530826,
          "west": false,
          "year": 1971
         },
         {
          "rollingUncertain": -0.007247971078836124,
          "topic": "soc",
          "uncertain": 0.10926215193561395,
          "west": false,
          "year": 1972
         },
         {
          "rollingUncertain": 0.0027936068696281513,
          "topic": "soc",
          "uncertain": -0.06426940022019867,
          "west": false,
          "year": 1973
         },
         {
          "rollingUncertain": 0.0033606674544514417,
          "topic": "soc",
          "uncertain": -0.034910749352060955,
          "west": false,
          "year": 1975
         },
         {
          "rollingUncertain": 0.03498984240219009,
          "topic": "soc",
          "uncertain": 0.2041496767788299,
          "west": false,
          "year": 1976
         },
         {
          "rollingUncertain": 0.03886205152728506,
          "topic": "soc",
          "uncertain": -0.052652772844913764,
          "west": false,
          "year": 1977
         },
         {
          "rollingUncertain": 0.031177885087579644,
          "topic": "soc",
          "uncertain": -0.05796324867117719,
          "west": false,
          "year": 1978
         },
         {
          "rollingUncertain": -0.03194673682029033,
          "topic": "soc",
          "uncertain": 0.014775811055219967,
          "west": false,
          "year": 1979
         },
         {
          "rollingUncertain": -0.009329874231831736,
          "topic": "soc",
          "uncertain": 0.015197814920462016,
          "west": false,
          "year": 1980
         },
         {
          "rollingUncertain": 0.04357581113999102,
          "topic": "soc",
          "uncertain": 0.10075380744429108,
          "west": false,
          "year": 1981
         },
         {
          "rollingUncertain": -0.11987155402476575,
          "topic": "soc",
          "uncertain": -0.47556628443905036,
          "west": false,
          "year": 1982
         },
         {
          "rollingUncertain": -0.05928277894631018,
          "topic": "soc",
          "uncertain": 0.19696414015582875,
          "west": false,
          "year": 1984
         },
         {
          "rollingUncertain": -0.1766968295783631,
          "topic": "soc",
          "uncertain": -0.25148834445186774,
          "west": false,
          "year": 1985
         },
         {
          "rollingUncertain": -0.028152426164431588,
          "topic": "soc",
          "uncertain": -0.02993307419725577,
          "west": false,
          "year": 1986
         },
         {
          "rollingUncertain": -0.01746434378731565,
          "topic": "soc",
          "uncertain": 0.22902838728717656,
          "west": false,
          "year": 1987
         },
         {
          "rollingUncertain": 0.04633766404680095,
          "topic": "soc",
          "uncertain": -0.06008232094951793,
          "west": false,
          "year": 1988
         },
         {
          "rollingUncertain": 0.06078076106202287,
          "topic": "soc",
          "uncertain": 0.01339621684840997,
          "west": false,
          "year": 1989
         },
         {
          "rollingUncertain": 0.006633656639771446,
          "topic": "soc",
          "uncertain": 0.0665870740204223,
          "west": false,
          "year": 1990
         },
         {
          "rollingUncertain": 0.014686657407797177,
          "topic": "soc",
          "uncertain": -0.03592331864544074,
          "west": false,
          "year": 1991
         },
         {
          "rollingUncertain": 0.009546267409043296,
          "topic": "soc",
          "uncertain": -0.0020249531478516714,
          "west": false,
          "year": 1992
         },
         {
          "rollingUncertain": -0.015178375026666338,
          "topic": "soc",
          "uncertain": -0.007586853286706607,
          "west": false,
          "year": 1993
         },
         {
          "rollingUncertain": -0.011841558000528033,
          "topic": "soc",
          "uncertain": -0.02591286756702582,
          "west": false,
          "year": 1994
         },
         {
          "rollingUncertain": -0.06071267905938945,
          "topic": "soc",
          "uncertain": -0.14863831632443592,
          "west": false,
          "year": 1995
         },
         {
          "rollingUncertain": -0.009785030117713625,
          "topic": "soc",
          "uncertain": 0.14519609353832086,
          "west": false,
          "year": 1996
         },
         {
          "rollingUncertain": 0.0218872058745061,
          "topic": "soc",
          "uncertain": 0.06910384040963335,
          "west": false,
          "year": 1997
         },
         {
          "rollingUncertain": 0.04718727378605155,
          "topic": "soc",
          "uncertain": -0.07273811258979956,
          "west": false,
          "year": 1998
         },
         {
          "rollingUncertain": -0.021309326007382594,
          "topic": "soc",
          "uncertain": -0.06029370584198157,
          "west": false,
          "year": 1999
         },
         {
          "rollingUncertain": -0.05211507082944574,
          "topic": "soc",
          "uncertain": -0.02331339405655608,
          "west": false,
          "year": 2000
         },
         {
          "rollingUncertain": -0.0560563220014055,
          "topic": "soc",
          "uncertain": -0.08456186610567884,
          "west": false,
          "year": 2001
         },
         {
          "rollingUncertain": -0.08850928422963555,
          "topic": "soc",
          "uncertain": -0.15765259252667174,
          "west": false,
          "year": 2002
         },
         {
          "rollingUncertain": -0.020004018819651265,
          "topic": "soc",
          "uncertain": 0.18220240217339678,
          "west": false,
          "year": 2003
         },
         {
          "rollingUncertain": 0.005278889990858311,
          "topic": "soc",
          "uncertain": -0.008713139674150105,
          "west": false,
          "year": 2004
         },
         {
          "rollingUncertain": 0.08940678942758191,
          "topic": "soc",
          "uncertain": 0.09473110578349908,
          "west": false,
          "year": 2005
         },
         {
          "rollingUncertain": 0.04320700905612788,
          "topic": "soc",
          "uncertain": 0.043603061059034665,
          "west": false,
          "year": 2006
         },
         {
          "rollingUncertain": 0.050155270515796345,
          "topic": "soc",
          "uncertain": 0.012131644704855282,
          "west": false,
          "year": 2007
         },
         {
          "rollingUncertain": -0.09197465735781511,
          "topic": "soc",
          "uncertain": -0.33165867783733527,
          "west": false,
          "year": 2008
         },
         {
          "rollingUncertain": -0.11633839863646349,
          "topic": "soc",
          "uncertain": -0.029488162776910465,
          "west": false,
          "year": 2011
         },
         {
          "rollingUncertain": -0.10872466621903898,
          "topic": "soc",
          "uncertain": 0.0349728419571288,
          "west": false,
          "year": 2012
         },
         {
          "rollingUncertain": -0.0019183681220642883,
          "topic": "soc",
          "uncertain": -0.011239783546411197,
          "west": false,
          "year": 2013
         },
         {
          "rollingUncertain": -0.052370588065269806,
          "topic": "soc",
          "uncertain": -0.180844822606527,
          "west": false,
          "year": 2014
         },
         {
          "rollingUncertain": -0.12027225552110195,
          "topic": "soc",
          "uncertain": -0.16873216041036765,
          "west": false,
          "year": 2015
         },
         {
          "rollingUncertain": -0.1387130733143123,
          "topic": "soc",
          "uncertain": -0.06656223692604224,
          "west": false,
          "year": 2016
         },
         {
          "rollingUncertain": -0.06914582792741664,
          "topic": "soc",
          "uncertain": 0.02785691355415998,
          "west": false,
          "year": 2017
         },
         {
          "rollingUncertain": -0.1331023245436212,
          "topic": "soc",
          "uncertain": -0.36060165025898133,
          "west": false,
          "year": 2018
         },
         {
          "rollingUncertain": -0.1447572926066578,
          "topic": "soc",
          "uncertain": -0.10152714111515204,
          "west": false,
          "year": 2020
         },
         {
          "rollingUncertain": -0.2687893156767718,
          "topic": "soc",
          "uncertain": -0.34423915565618196,
          "west": false,
          "year": 2021
         },
         {
          "rollingUncertain": 0.05667373944671946,
          "topic": "soc",
          "uncertain": 0.0738689403589402,
          "west": true,
          "year": 1961
         },
         {
          "rollingUncertain": 0.09497222959351537,
          "topic": "soc",
          "uncertain": 0.1129192843227752,
          "west": true,
          "year": 1962
         },
         {
          "rollingUncertain": 0.032522934164978166,
          "topic": "soc",
          "uncertain": -0.08921942218678092,
          "west": true,
          "year": 1963
         },
         {
          "rollingUncertain": -0.04440971374648354,
          "topic": "soc",
          "uncertain": -0.1569290033754449,
          "west": true,
          "year": 1964
         },
         {
          "rollingUncertain": -0.07430596146455282,
          "topic": "soc",
          "uncertain": 0.023230541168567376,
          "west": true,
          "year": 1965
         },
         {
          "rollingUncertain": -0.011418384094980194,
          "topic": "soc",
          "uncertain": 0.09944330992193695,
          "west": true,
          "year": 1966
         },
         {
          "rollingUncertain": 0.03948040504291195,
          "topic": "soc",
          "uncertain": -0.004232635961768483,
          "west": true,
          "year": 1967
         },
         {
          "rollingUncertain": 0.07290131382512917,
          "topic": "soc",
          "uncertain": 0.12349326751521905,
          "west": true,
          "year": 1968
         },
         {
          "rollingUncertain": 0.07561190553114779,
          "topic": "soc",
          "uncertain": 0.1075750850399928,
          "west": true,
          "year": 1969
         },
         {
          "rollingUncertain": 0.049431580011676836,
          "topic": "soc",
          "uncertain": -0.08277361252018134,
          "west": true,
          "year": 1970
         },
         {
          "rollingUncertain": 0.054586512550345155,
          "topic": "soc",
          "uncertain": 0.138958065131224,
          "west": true,
          "year": 1971
         },
         {
          "rollingUncertain": 0.0711091972909869,
          "topic": "soc",
          "uncertain": 0.15714313926191803,
          "west": true,
          "year": 1972
         },
         {
          "rollingUncertain": 0.0650156815869114,
          "topic": "soc",
          "uncertain": -0.10105415963240783,
          "west": true,
          "year": 1973
         },
         {
          "rollingUncertain": 0.014821368458122134,
          "topic": "soc",
          "uncertain": -0.011624874255143802,
          "west": true,
          "year": 1974
         },
         {
          "rollingUncertain": -0.0419027853772419,
          "topic": "soc",
          "uncertain": -0.01302932224417408,
          "west": true,
          "year": 1975
         },
         {
          "rollingUncertain": 0.0165637087061626,
          "topic": "soc",
          "uncertain": 0.07434532261780569,
          "west": true,
          "year": 1976
         },
         {
          "rollingUncertain": 0.03359390807495736,
          "topic": "soc",
          "uncertain": 0.039465723851240475,
          "west": true,
          "year": 1977
         },
         {
          "rollingUncertain": 0.008567029405550911,
          "topic": "soc",
          "uncertain": -0.08810995825239343,
          "west": true,
          "year": 1978
         },
         {
          "rollingUncertain": 0.00039637502920308876,
          "topic": "soc",
          "uncertain": 0.04983335948876222,
          "west": true,
          "year": 1979
         },
         {
          "rollingUncertain": 0.0010787066508499699,
          "topic": "soc",
          "uncertain": 0.04151271871618112,
          "west": true,
          "year": 1980
         },
         {
          "rollingUncertain": 0.05517700425414762,
          "topic": "soc",
          "uncertain": 0.07418493455749953,
          "west": true,
          "year": 1981
         },
         {
          "rollingUncertain": 0.033774727201745125,
          "topic": "soc",
          "uncertain": -0.01437347166844527,
          "west": true,
          "year": 1982
         },
         {
          "rollingUncertain": 0.018723996053964576,
          "topic": "soc",
          "uncertain": -0.00363947472716053,
          "west": true,
          "year": 1983
         },
         {
          "rollingUncertain": -0.008228009650976512,
          "topic": "soc",
          "uncertain": -0.0066710825573237376,
          "west": true,
          "year": 1984
         },
         {
          "rollingUncertain": 0.009743583880847765,
          "topic": "soc",
          "uncertain": 0.03954130892702756,
          "west": true,
          "year": 1985
         },
         {
          "rollingUncertain": 0.018003529288809106,
          "topic": "soc",
          "uncertain": 0.021140361496723492,
          "west": true,
          "year": 1986
         },
         {
          "rollingUncertain": -0.023474330145345206,
          "topic": "soc",
          "uncertain": -0.13110466085978667,
          "west": true,
          "year": 1987
         },
         {
          "rollingUncertain": -0.05807111182496194,
          "topic": "soc",
          "uncertain": -0.06424903611182264,
          "west": true,
          "year": 1988
         },
         {
          "rollingUncertain": -0.09401753556470871,
          "topic": "soc",
          "uncertain": -0.08669890972251681,
          "west": true,
          "year": 1989
         },
         {
          "rollingUncertain": -0.05176398113293068,
          "topic": "soc",
          "uncertain": -0.004343997564452584,
          "west": true,
          "year": 1990
         },
         {
          "rollingUncertain": -0.00011697960574452715,
          "topic": "soc",
          "uncertain": 0.09069196846973582,
          "west": true,
          "year": 1991
         },
         {
          "rollingUncertain": -0.0031461399590651342,
          "topic": "soc",
          "uncertain": -0.09578639078247864,
          "west": true,
          "year": 1992
         },
         {
          "rollingUncertain": -0.02376122259741975,
          "topic": "soc",
          "uncertain": -0.06618924547951643,
          "west": true,
          "year": 1993
         },
         {
          "rollingUncertain": -0.07432339170459956,
          "topic": "soc",
          "uncertain": -0.060994538851803615,
          "west": true,
          "year": 1994
         },
         {
          "rollingUncertain": -0.06996345473454868,
          "topic": "soc",
          "uncertain": -0.08270657987232599,
          "west": true,
          "year": 1995
         },
         {
          "rollingUncertain": -0.06477239856377748,
          "topic": "soc",
          "uncertain": -0.05061607696720283,
          "west": true,
          "year": 1996
         },
         {
          "rollingUncertain": -0.04822450473820017,
          "topic": "soc",
          "uncertain": -0.011350857375071688,
          "west": true,
          "year": 1997
         },
         {
          "rollingUncertain": -0.009018666582488991,
          "topic": "soc",
          "uncertain": 0.03491093459480754,
          "west": true,
          "year": 1998
         },
         {
          "rollingUncertain": -0.010655943100941275,
          "topic": "soc",
          "uncertain": -0.05552790652255968,
          "west": true,
          "year": 1999
         },
         {
          "rollingUncertain": -0.01848069897170231,
          "topic": "soc",
          "uncertain": -0.034825124987354794,
          "west": true,
          "year": 2000
         },
         {
          "rollingUncertain": -0.03633242164840474,
          "topic": "soc",
          "uncertain": -0.01864423343529975,
          "west": true,
          "year": 2001
         },
         {
          "rollingUncertain": -0.01316472430719584,
          "topic": "soc",
          "uncertain": 0.013975185501067022,
          "west": true,
          "year": 2002
         },
         {
          "rollingUncertain": -0.005847085127237084,
          "topic": "soc",
          "uncertain": -0.012872207447478523,
          "west": true,
          "year": 2003
         },
         {
          "rollingUncertain": -0.042011343445441586,
          "topic": "soc",
          "uncertain": -0.12713700838991326,
          "west": true,
          "year": 2004
         },
         {
          "rollingUncertain": -0.0720497573849116,
          "topic": "soc",
          "uncertain": -0.076140056317343,
          "west": true,
          "year": 2005
         },
         {
          "rollingUncertain": -0.07988052536076277,
          "topic": "soc",
          "uncertain": -0.03636451137503205,
          "west": true,
          "year": 2006
         },
         {
          "rollingUncertain": -0.030640818305571565,
          "topic": "soc",
          "uncertain": 0.020582112775660355,
          "west": true,
          "year": 2007
         },
         {
          "rollingUncertain": 0.0008325719965682395,
          "topic": "soc",
          "uncertain": 0.018280114589076413,
          "west": true,
          "year": 2008
         },
         {
          "rollingUncertain": 0.013368946268007368,
          "topic": "soc",
          "uncertain": 0.001244611439285337,
          "west": true,
          "year": 2009
         },
         {
          "rollingUncertain": -0.018287526755829602,
          "topic": "soc",
          "uncertain": -0.07438730629585055,
          "west": true,
          "year": 2010
         },
         {
          "rollingUncertain": -0.02810900341333389,
          "topic": "soc",
          "uncertain": -0.01118431538343645,
          "west": true,
          "year": 2011
         },
         {
          "rollingUncertain": -0.04232953861164394,
          "topic": "soc",
          "uncertain": -0.041416994155644815,
          "west": true,
          "year": 2012
         },
         {
          "rollingUncertain": -0.04385853816255617,
          "topic": "soc",
          "uncertain": -0.07897430494858726,
          "west": true,
          "year": 2013
         },
         {
          "rollingUncertain": -0.05028215266362549,
          "topic": "soc",
          "uncertain": -0.030455158886644407,
          "west": true,
          "year": 2014
         },
         {
          "rollingUncertain": -0.06558404752703355,
          "topic": "soc",
          "uncertain": -0.08732267874586896,
          "west": true,
          "year": 2015
         },
         {
          "rollingUncertain": -0.07766932508151658,
          "topic": "soc",
          "uncertain": -0.11523013761203638,
          "west": true,
          "year": 2016
         },
         {
          "rollingUncertain": -0.08472142475291537,
          "topic": "soc",
          "uncertain": -0.05161145790084076,
          "west": true,
          "year": 2017
         },
         {
          "rollingUncertain": -0.062131184874955316,
          "topic": "soc",
          "uncertain": -0.019551959111988815,
          "west": true,
          "year": 2018
         },
         {
          "rollingUncertain": -0.04702017627586622,
          "topic": "soc",
          "uncertain": -0.0698971118147691,
          "west": true,
          "year": 2019
         },
         {
          "rollingUncertain": -0.039263539063815044,
          "topic": "soc",
          "uncertain": -0.028341546264687212,
          "west": true,
          "year": 2020
         },
         {
          "rollingUncertain": -0.0495631107366666,
          "topic": "soc",
          "uncertain": -0.050450674130543494,
          "west": true,
          "year": 2021
         }
        ]
       },
       "encoding": {
        "color": {
         "field": "west",
         "scale": {
          "scheme": "set2"
         },
         "type": "ordinal"
        },
        "x": {
         "axis": {
          "title": "Year"
         },
         "field": "year",
         "scale": {
          "zero": false
         },
         "type": "quantitative"
        },
        "y": {
         "axis": {
          "title": "Uncertainty"
         },
         "field": "rollingUncertain",
         "type": "quantitative"
        }
       },
       "height": 300,
       "mark": {
        "point": {},
        "type": "line"
       },
       "width": 600
      },
      "text/plain": [
       "<VegaLite 4 object>\n",
       "\n",
       "If you see this message, it means the renderer has not been properly enabled\n",
       "for the frontend that you are using. For more information, see\n",
       "https://altair-viz.github.io/user_guide/troubleshooting.html\n"
      ]
     },
     "execution_count": 250,
     "metadata": {},
     "output_type": "execute_result"
    }
   ],
   "source": [
    "alt.Chart(compare_byYear.query('topic==\"soc\"')).mark_line(point=alt.OverlayMarkDef()).encode(\n",
    "    alt.X('year',scale=alt.Scale(zero=False),axis=alt.Axis(title='Year')),\n",
    "    alt.Y('rollingUncertain',axis=alt.Axis(title='Uncertainty')),\n",
    "    color=alt.Color('west:O',scale=alt.Scale(scheme='set2'))\n",
    ").properties(width=600,height=300)"
   ]
  },
  {
   "cell_type": "code",
   "execution_count": 251,
   "id": "a6bea177",
   "metadata": {},
   "outputs": [
    {
     "data": {
      "application/vnd.vegalite.v4+json": {
       "$schema": "https://vega.github.io/schema/vega-lite/v4.17.0.json",
       "config": {
        "view": {
         "continuousHeight": 300,
         "continuousWidth": 400
        }
       },
       "data": {
        "name": "data-0c7fb047be208e1c5b23e3d01547c1c2"
       },
       "datasets": {
        "data-0c7fb047be208e1c5b23e3d01547c1c2": [
         {
          "rollingUncertain": null,
          "topic": "phys",
          "uncertain": -0.2043617672006282,
          "west": false,
          "year": 1962
         },
         {
          "rollingUncertain": null,
          "topic": "phys",
          "uncertain": -0.1599687157849463,
          "west": false,
          "year": 1963
         },
         {
          "rollingUncertain": -0.15321522020101472,
          "topic": "phys",
          "uncertain": -0.09531517761746966,
          "west": false,
          "year": 1964
         },
         {
          "rollingUncertain": -0.009002572460684699,
          "topic": "phys",
          "uncertain": 0.22827617602036188,
          "west": false,
          "year": 1965
         },
         {
          "rollingUncertain": 0.04171557958822821,
          "topic": "phys",
          "uncertain": -0.007814259638207588,
          "west": false,
          "year": 1966
         },
         {
          "rollingUncertain": 0.12250614069469812,
          "topic": "phys",
          "uncertain": 0.14705650570194007,
          "west": false,
          "year": 1967
         },
         {
          "rollingUncertain": 0.08198594680567058,
          "topic": "phys",
          "uncertain": 0.10671559435327926,
          "west": false,
          "year": 1968
         },
         {
          "rollingUncertain": 0.08336536408000601,
          "topic": "phys",
          "uncertain": -0.0036760078152012765,
          "west": false,
          "year": 1969
         },
         {
          "rollingUncertain": 0.010814608982371743,
          "topic": "phys",
          "uncertain": -0.07059575959096276,
          "west": false,
          "year": 1970
         },
         {
          "rollingUncertain": -0.13918481943392014,
          "topic": "phys",
          "uncertain": -0.3432826908955964,
          "west": false,
          "year": 1971
         },
         {
          "rollingUncertain": -0.10901749961263225,
          "topic": "phys",
          "uncertain": 0.08682595164866236,
          "west": false,
          "year": 1972
         },
         {
          "rollingUncertain": -0.07214382279849336,
          "topic": "phys",
          "uncertain": 0.04002527085145391,
          "west": false,
          "year": 1973
         },
         {
          "rollingUncertain": -0.025834651376596518,
          "topic": "phys",
          "uncertain": -0.20435517662990582,
          "west": false,
          "year": 1974
         },
         {
          "rollingUncertain": -0.09951848441678068,
          "topic": "phys",
          "uncertain": -0.13422554747189014,
          "west": false,
          "year": 1975
         },
         {
          "rollingUncertain": -0.09437819947121324,
          "topic": "phys",
          "uncertain": 0.05544612568815621,
          "west": false,
          "year": 1976
         },
         {
          "rollingUncertain": -0.0882546518959098,
          "topic": "phys",
          "uncertain": -0.18598453390399544,
          "west": false,
          "year": 1977
         },
         {
          "rollingUncertain": -0.10443554800991585,
          "topic": "phys",
          "uncertain": -0.18276823581390833,
          "west": false,
          "year": 1978
         },
         {
          "rollingUncertain": -0.09550615476259404,
          "topic": "phys",
          "uncertain": 0.08223430543012167,
          "west": false,
          "year": 1979
         },
         {
          "rollingUncertain": -0.014163496903918826,
          "topic": "phys",
          "uncertain": 0.058043439672030184,
          "west": false,
          "year": 1980
         },
         {
          "rollingUncertain": 0.058381269570480766,
          "topic": "phys",
          "uncertain": 0.034866063609290454,
          "west": false,
          "year": 1981
         },
         {
          "rollingUncertain": 0.0322735207035717,
          "topic": "phys",
          "uncertain": 0.003911058829394465,
          "west": false,
          "year": 1982
         },
         {
          "rollingUncertain": 0.00843877854943583,
          "topic": "phys",
          "uncertain": -0.013460786790377433,
          "west": false,
          "year": 1983
         },
         {
          "rollingUncertain": 0.010847082149950412,
          "topic": "phys",
          "uncertain": 0.0420909744108342,
          "west": false,
          "year": 1984
         },
         {
          "rollingUncertain": 0.00031710041444303155,
          "topic": "phys",
          "uncertain": -0.027678886377127676,
          "west": false,
          "year": 1985
         },
         {
          "rollingUncertain": -0.06247517937133815,
          "topic": "phys",
          "uncertain": -0.201837626147721,
          "west": false,
          "year": 1986
         },
         {
          "rollingUncertain": -0.07891239327906442,
          "topic": "phys",
          "uncertain": -0.007220667312344609,
          "west": false,
          "year": 1987
         },
         {
          "rollingUncertain": -0.10504863656956885,
          "topic": "phys",
          "uncertain": -0.10608761624864094,
          "west": false,
          "year": 1988
         },
         {
          "rollingUncertain": -0.06931569699770024,
          "topic": "phys",
          "uncertain": -0.09463880743211517,
          "west": false,
          "year": 1989
         },
         {
          "rollingUncertain": -0.06474714771088293,
          "topic": "phys",
          "uncertain": 0.006484980548107311,
          "west": false,
          "year": 1990
         },
         {
          "rollingUncertain": -0.04562231975197114,
          "topic": "phys",
          "uncertain": -0.048713132371905554,
          "west": false,
          "year": 1991
         },
         {
          "rollingUncertain": -0.01559505893760238,
          "topic": "phys",
          "uncertain": -0.004557024989008895,
          "west": false,
          "year": 1992
         },
         {
          "rollingUncertain": -0.023492084306091583,
          "topic": "phys",
          "uncertain": -0.0172060955573603,
          "west": false,
          "year": 1993
         },
         {
          "rollingUncertain": -0.01622800357394653,
          "topic": "phys",
          "uncertain": -0.02692089017547039,
          "west": false,
          "year": 1994
         },
         {
          "rollingUncertain": -0.025230335500326457,
          "topic": "phys",
          "uncertain": -0.03156402076814868,
          "west": false,
          "year": 1995
         },
         {
          "rollingUncertain": -0.02711467045835314,
          "topic": "phys",
          "uncertain": -0.02285910043144035,
          "west": false,
          "year": 1996
         },
         {
          "rollingUncertain": -0.025766017144717712,
          "topic": "phys",
          "uncertain": -0.022874930234564106,
          "west": false,
          "year": 1997
         },
         {
          "rollingUncertain": -0.038191160241779376,
          "topic": "phys",
          "uncertain": -0.06883945005933367,
          "west": false,
          "year": 1998
         },
         {
          "rollingUncertain": -0.04407194372015625,
          "topic": "phys",
          "uncertain": -0.040501450866570976,
          "west": false,
          "year": 1999
         },
         {
          "rollingUncertain": -0.03824079097211434,
          "topic": "phys",
          "uncertain": -0.005381471990438369,
          "west": false,
          "year": 2000
         },
         {
          "rollingUncertain": -0.015945169381481977,
          "topic": "phys",
          "uncertain": -0.0019525852874365812,
          "west": false,
          "year": 2001
         },
         {
          "rollingUncertain": -0.006968414452419691,
          "topic": "phys",
          "uncertain": -0.013571186079384123,
          "west": false,
          "year": 2002
         },
         {
          "rollingUncertain": -0.006966546883881024,
          "topic": "phys",
          "uncertain": -0.0053758692848223655,
          "west": false,
          "year": 2003
         },
         {
          "rollingUncertain": -0.024645606866076603,
          "topic": "phys",
          "uncertain": -0.054989765234023325,
          "west": false,
          "year": 2004
         },
         {
          "rollingUncertain": -0.03052008843769527,
          "topic": "phys",
          "uncertain": -0.03119463079424012,
          "west": false,
          "year": 2005
         },
         {
          "rollingUncertain": -0.02807072459137716,
          "topic": "phys",
          "uncertain": 0.001972222254131961,
          "west": false,
          "year": 2006
         },
         {
          "rollingUncertain": -0.025476354447983723,
          "topic": "phys",
          "uncertain": -0.04720665480384301,
          "west": false,
          "year": 2007
         },
         {
          "rollingUncertain": -0.024753772498259274,
          "topic": "phys",
          "uncertain": -0.029026884945066778,
          "west": false,
          "year": 2008
         },
         {
          "rollingUncertain": -0.03912027413681307,
          "topic": "phys",
          "uncertain": -0.04112728266152943,
          "west": false,
          "year": 2009
         },
         {
          "rollingUncertain": -0.03983169513613494,
          "topic": "phys",
          "uncertain": -0.049340917801808604,
          "west": false,
          "year": 2010
         },
         {
          "rollingUncertain": -0.03686014112992723,
          "topic": "phys",
          "uncertain": -0.020112222926443657,
          "west": false,
          "year": 2011
         },
         {
          "rollingUncertain": -0.03716484922826798,
          "topic": "phys",
          "uncertain": -0.042041406956551675,
          "west": false,
          "year": 2012
         },
         {
          "rollingUncertain": -0.03526473553793127,
          "topic": "phys",
          "uncertain": -0.043640576730798464,
          "west": false,
          "year": 2013
         },
         {
          "rollingUncertain": -0.044961628520819495,
          "topic": "phys",
          "uncertain": -0.04920290187510834,
          "west": false,
          "year": 2014
         },
         {
          "rollingUncertain": -0.029673397515674105,
          "topic": "phys",
          "uncertain": 0.0038232860588844897,
          "west": false,
          "year": 2015
         },
         {
          "rollingUncertain": -0.03929665269895014,
          "topic": "phys",
          "uncertain": -0.07251034228062658,
          "west": false,
          "year": 2016
         },
         {
          "rollingUncertain": -0.031958428289924345,
          "topic": "phys",
          "uncertain": -0.027188228648030943,
          "west": false,
          "year": 2017
         },
         {
          "rollingUncertain": -0.04336930587051983,
          "topic": "phys",
          "uncertain": -0.03040934668290196,
          "west": false,
          "year": 2018
         },
         {
          "rollingUncertain": -0.01975261660740398,
          "topic": "phys",
          "uncertain": -0.0016602744912790346,
          "west": false,
          "year": 2019
         },
         {
          "rollingUncertain": -0.02628457740921893,
          "topic": "phys",
          "uncertain": -0.046784111053475796,
          "west": false,
          "year": 2020
         },
         {
          "rollingUncertain": -0.020689190156020037,
          "topic": "phys",
          "uncertain": -0.013623184923305276,
          "west": false,
          "year": 2021
         },
         {
          "rollingUncertain": 0.00042811506894839074,
          "topic": "phys",
          "uncertain": 0.007005146031735965,
          "west": true,
          "year": 1961
         },
         {
          "rollingUncertain": 0.012379681156877079,
          "topic": "phys",
          "uncertain": -0.0578864373544844,
          "west": true,
          "year": 1962
         },
         {
          "rollingUncertain": -0.01591735914418757,
          "topic": "phys",
          "uncertain": 0.0031292138901857225,
          "west": true,
          "year": 1963
         },
         {
          "rollingUncertain": -0.020120115848133186,
          "topic": "phys",
          "uncertain": -0.005603124080100885,
          "west": true,
          "year": 1964
         },
         {
          "rollingUncertain": 0.008337434373832239,
          "topic": "phys",
          "uncertain": 0.027486213311411878,
          "west": true,
          "year": 1965
         },
         {
          "rollingUncertain": 0.0239817190851217,
          "topic": "phys",
          "uncertain": 0.05006206802405411,
          "west": true,
          "year": 1966
         },
         {
          "rollingUncertain": 0.011295471458181291,
          "topic": "phys",
          "uncertain": -0.04366186696092211,
          "west": true,
          "year": 1967
         },
         {
          "rollingUncertain": 0.039885015120833534,
          "topic": "phys",
          "uncertain": 0.1132548442993686,
          "west": true,
          "year": 1968
         },
         {
          "rollingUncertain": 0.05120090463495278,
          "topic": "phys",
          "uncertain": 0.08400973656641186,
          "west": true,
          "year": 1969
         },
         {
          "rollingUncertain": 0.08309934028132675,
          "topic": "phys",
          "uncertain": 0.05203343997819976,
          "west": true,
          "year": 1970
         },
         {
          "rollingUncertain": 0.0475487853361537,
          "topic": "phys",
          "uncertain": 0.006603179463849473,
          "west": true,
          "year": 1971
         },
         {
          "rollingUncertain": 0.02763597188780968,
          "topic": "phys",
          "uncertain": 0.0242712962213798,
          "west": true,
          "year": 1972
         },
         {
          "rollingUncertain": 0.010055633166727826,
          "topic": "phys",
          "uncertain": -0.0007075761850457996,
          "west": true,
          "year": 1973
         },
         {
          "rollingUncertain": 0.03428692567978379,
          "topic": "phys",
          "uncertain": 0.07929705700301737,
          "west": true,
          "year": 1974
         },
         {
          "rollingUncertain": 0.03099250359390319,
          "topic": "phys",
          "uncertain": 0.014388029963738003,
          "west": true,
          "year": 1975
         },
         {
          "rollingUncertain": 0.011663937472867683,
          "topic": "phys",
          "uncertain": -0.05869327454815232,
          "west": true,
          "year": 1976
         },
         {
          "rollingUncertain": -0.03075302560946591,
          "topic": "phys",
          "uncertain": -0.04795383224398342,
          "west": true,
          "year": 1977
         },
         {
          "rollingUncertain": -0.007548180897567962,
          "topic": "phys",
          "uncertain": 0.08400256409943185,
          "west": true,
          "year": 1978
         },
         {
          "rollingUncertain": 0.06899125610676886,
          "topic": "phys",
          "uncertain": 0.17092503646485813,
          "west": true,
          "year": 1979
         },
         {
          "rollingUncertain": 0.08907738574027894,
          "topic": "phys",
          "uncertain": 0.012304556656546839,
          "west": true,
          "year": 1980
         },
         {
          "rollingUncertain": 0.08284939653522316,
          "topic": "phys",
          "uncertain": 0.06531859648426452,
          "west": true,
          "year": 1981
         },
         {
          "rollingUncertain": 0.017981623712661137,
          "topic": "phys",
          "uncertain": -0.023678282002827955,
          "west": true,
          "year": 1982
         },
         {
          "rollingUncertain": 0.020700181793780043,
          "topic": "phys",
          "uncertain": 0.020460230899903564,
          "west": true,
          "year": 1983
         },
         {
          "rollingUncertain": 0.020654695693570962,
          "topic": "phys",
          "uncertain": 0.06518213818363727,
          "west": true,
          "year": 1984
         },
         {
          "rollingUncertain": 0.01735696573619616,
          "topic": "phys",
          "uncertain": -0.03357147187495235,
          "west": true,
          "year": 1985
         },
         {
          "rollingUncertain": 0.03806681253128071,
          "topic": "phys",
          "uncertain": 0.08258977128515721,
          "west": true,
          "year": 1986
         },
         {
          "rollingUncertain": 0.030159706645799922,
          "topic": "phys",
          "uncertain": 0.04146082052719491,
          "west": true,
          "year": 1987
         },
         {
          "rollingUncertain": 0.04280113893759178,
          "topic": "phys",
          "uncertain": 0.004352825000423222,
          "west": true,
          "year": 1988
         },
         {
          "rollingUncertain": 0.0208544459232064,
          "topic": "phys",
          "uncertain": 0.01674969224200107,
          "west": true,
          "year": 1989
         },
         {
          "rollingUncertain": 0.018031683308661634,
          "topic": "phys",
          "uncertain": 0.032992532683560616,
          "west": true,
          "year": 1990
         },
         {
          "rollingUncertain": 0.012604883240477113,
          "topic": "phys",
          "uncertain": -0.011927575204130347,
          "west": true,
          "year": 1991
         },
         {
          "rollingUncertain": 0.019599677361615126,
          "topic": "phys",
          "uncertain": 0.03773407460541511,
          "west": true,
          "year": 1992
         },
         {
          "rollingUncertain": 0.004747352103750768,
          "topic": "phys",
          "uncertain": -0.011564443090032461,
          "west": true,
          "year": 1993
         },
         {
          "rollingUncertain": -0.013048241846271957,
          "topic": "phys",
          "uncertain": -0.06531435705419852,
          "west": true,
          "year": 1994
         },
         {
          "rollingUncertain": -0.03730964534609719,
          "topic": "phys",
          "uncertain": -0.035050135894060586,
          "west": true,
          "year": 1995
         },
         {
          "rollingUncertain": -0.012976502984947754,
          "topic": "phys",
          "uncertain": 0.06143498399341585,
          "west": true,
          "year": 1996
         },
         {
          "rollingUncertain": 0.006290153775374489,
          "topic": "phys",
          "uncertain": -0.007514386773231796,
          "west": true,
          "year": 1997
         },
         {
          "rollingUncertain": 0.018127741586676887,
          "topic": "phys",
          "uncertain": 0.0004626275398466051,
          "west": true,
          "year": 1998
         },
         {
          "rollingUncertain": 0.010397416247200919,
          "topic": "phys",
          "uncertain": 0.03824400797498795,
          "west": true,
          "year": 1999
         },
         {
          "rollingUncertain": 0.03514588006994279,
          "topic": "phys",
          "uncertain": 0.06673100469499382,
          "west": true,
          "year": 2000
         },
         {
          "rollingUncertain": 0.03865209529864192,
          "topic": "phys",
          "uncertain": 0.010981273225944,
          "west": true,
          "year": 2001
         },
         {
          "rollingUncertain": 0.032348818284099634,
          "topic": "phys",
          "uncertain": 0.01933417693136108,
          "west": true,
          "year": 2002
         },
         {
          "rollingUncertain": 0.023482886577151623,
          "topic": "phys",
          "uncertain": 0.040133209574149786,
          "west": true,
          "year": 2003
         },
         {
          "rollingUncertain": 0.016899340891471715,
          "topic": "phys",
          "uncertain": -0.008769363831095722,
          "west": true,
          "year": 2004
         },
         {
          "rollingUncertain": 0.018063008131759834,
          "topic": "phys",
          "uncertain": 0.022825178652225442,
          "west": true,
          "year": 2005
         },
         {
          "rollingUncertain": -0.001196587723054643,
          "topic": "phys",
          "uncertain": -0.017645577990293648,
          "west": true,
          "year": 2006
         },
         {
          "rollingUncertain": -0.00988924406221999,
          "topic": "phys",
          "uncertain": -0.03484733284859176,
          "west": true,
          "year": 2007
         },
         {
          "rollingUncertain": -0.028010061370945232,
          "topic": "phys",
          "uncertain": -0.031537273273950284,
          "west": true,
          "year": 2008
         },
         {
          "rollingUncertain": -0.03373411821342794,
          "topic": "phys",
          "uncertain": -0.034817748517741776,
          "west": true,
          "year": 2009
         },
         {
          "rollingUncertain": -0.02191499729961055,
          "topic": "phys",
          "uncertain": 0.0006100298928604087,
          "west": true,
          "year": 2010
         },
         {
          "rollingUncertain": -0.031500955282861454,
          "topic": "phys",
          "uncertain": -0.060295147223702994,
          "west": true,
          "year": 2011
         },
         {
          "rollingUncertain": -0.014360160426420002,
          "topic": "phys",
          "uncertain": 0.016604636051582577,
          "west": true,
          "year": 2012
         },
         {
          "rollingUncertain": -0.030984736374984407,
          "topic": "phys",
          "uncertain": -0.04926369795283281,
          "west": true,
          "year": 2013
         },
         {
          "rollingUncertain": -0.008347242430247278,
          "topic": "phys",
          "uncertain": 0.007617334610508397,
          "west": true,
          "year": 2014
         },
         {
          "rollingUncertain": -0.018320755252146048,
          "topic": "phys",
          "uncertain": -0.013315902414113734,
          "west": true,
          "year": 2015
         },
         {
          "rollingUncertain": -0.003784021928507242,
          "topic": "phys",
          "uncertain": -0.005653497981916389,
          "west": true,
          "year": 2016
         },
         {
          "rollingUncertain": -0.016207840351496656,
          "topic": "phys",
          "uncertain": -0.029654120658459848,
          "west": true,
          "year": 2017
         },
         {
          "rollingUncertain": -0.026507703235852238,
          "topic": "phys",
          "uncertain": -0.04421549106718048,
          "west": true,
          "year": 2018
         },
         {
          "rollingUncertain": -0.034345126599247856,
          "topic": "phys",
          "uncertain": -0.02916576807210325,
          "west": true,
          "year": 2019
         },
         {
          "rollingUncertain": -0.026325918406312265,
          "topic": "phys",
          "uncertain": -0.005596496079653068,
          "west": true,
          "year": 2020
         },
         {
          "rollingUncertain": -0.022190565622315066,
          "topic": "phys",
          "uncertain": -0.03180943271518888,
          "west": true,
          "year": 2021
         },
         {
          "rollingUncertain": 0.10477841059290693,
          "topic": "phys",
          "uncertain": 0.35174116057356275,
          "west": true,
          "year": 2022
         }
        ]
       },
       "encoding": {
        "color": {
         "field": "west",
         "scale": {
          "scheme": "set2"
         },
         "type": "ordinal"
        },
        "x": {
         "axis": {
          "title": "Year"
         },
         "field": "year",
         "scale": {
          "zero": false
         },
         "type": "quantitative"
        },
        "y": {
         "axis": {
          "title": "Uncertainty"
         },
         "field": "rollingUncertain",
         "type": "quantitative"
        }
       },
       "height": 300,
       "mark": {
        "point": {},
        "type": "line"
       },
       "width": 600
      },
      "text/plain": [
       "<VegaLite 4 object>\n",
       "\n",
       "If you see this message, it means the renderer has not been properly enabled\n",
       "for the frontend that you are using. For more information, see\n",
       "https://altair-viz.github.io/user_guide/troubleshooting.html\n"
      ]
     },
     "execution_count": 251,
     "metadata": {},
     "output_type": "execute_result"
    }
   ],
   "source": [
    "alt.Chart(compare_byYear.query('topic==\"phys\"')).mark_line(point=alt.OverlayMarkDef()).encode(\n",
    "    alt.X('year',scale=alt.Scale(zero=False),axis=alt.Axis(title='Year')),\n",
    "    alt.Y('rollingUncertain',axis=alt.Axis(title='Uncertainty')),\n",
    "    color=alt.Color('west:O',scale=alt.Scale(scheme='set2'))\n",
    ").properties(width=600,height=300)"
   ]
  },
  {
   "cell_type": "markdown",
   "id": "a51da025",
   "metadata": {},
   "source": [
    "# Rank"
   ]
  },
  {
   "cell_type": "code",
   "execution_count": null,
   "id": "347dfc04",
   "metadata": {},
   "outputs": [],
   "source": [
    "# paper_presented_rank = pd.read_csv(\"/scratch/midway3/graceshaoy2/paper_presented_rank.csv\")"
   ]
  },
  {
   "cell_type": "code",
   "execution_count": null,
   "id": "33fbd401",
   "metadata": {
    "scrolled": true
   },
   "outputs": [],
   "source": [
    "# paper_presented_rank = paper_presented_rank[[\"paperid\",\"journalid\",\"seriesid\",\"seriesrank\",\"journalrank\"]].set_index('paperid')\n",
    "# paper_presented_rank.head()"
   ]
  },
  {
   "cell_type": "code",
   "execution_count": null,
   "id": "40dd2b2f",
   "metadata": {},
   "outputs": [],
   "source": [
    "# df_wrank = pd.merge(phys_fin_wyear, paper_presented_rank, left_index=True, right_index=True, how='left')"
   ]
  },
  {
   "cell_type": "code",
   "execution_count": null,
   "id": "5fb5b313",
   "metadata": {},
   "outputs": [],
   "source": [
    "# df_wrank.head()"
   ]
  },
  {
   "cell_type": "code",
   "execution_count": null,
   "id": "6045fcbf",
   "metadata": {},
   "outputs": [],
   "source": [
    "# df_wrank.to_csv('/scratch/midway3/graceshaoy2/phys_wrank.csv')"
   ]
  },
  {
   "cell_type": "code",
   "execution_count": 3,
   "id": "98fef2d2",
   "metadata": {},
   "outputs": [],
   "source": [
    "bio_wrank = pd.read_csv('/scratch/midway3/graceshaoy2/bio_wrank.csv')\n",
    "phys_wrank = pd.read_csv('/scratch/midway3/graceshaoy2/phys_wrank.csv')\n",
    "ee_wrank = pd.read_csv('/scratch/midway3/graceshaoy2/ee_wrank.csv')"
   ]
  },
  {
   "cell_type": "code",
   "execution_count": 4,
   "id": "51ed5188",
   "metadata": {},
   "outputs": [
    {
     "name": "stdout",
     "output_type": "stream",
     "text": [
      "bio\n",
      "0.9985753434601913 series null\n",
      "0.12650156077022195 journal null\n",
      "phys\n",
      "0.97080406779022 series null\n",
      "0.38108759133117454 journal null\n",
      "ee\n",
      "0.9080244988310889 series null\n",
      "0.9013822684327759 journal null\n"
     ]
    }
   ],
   "source": [
    "print(\"bio\")\n",
    "print(str(bio_wrank['seriesrank'].isnull().values.sum() / len(bio_wrank)) + \" series null\")\n",
    "print(str(bio_wrank['journalrank'].isnull().values.sum() / len(bio_wrank)) + \" journal null\")\n",
    "print(\"phys\")\n",
    "print(str(phys_wrank['seriesrank'].isnull().values.sum() / len(phys_wrank)) + \" series null\")\n",
    "print(str(phys_wrank['journalrank'].isnull().values.sum() / len(phys_wrank)) + \" journal null\")\n",
    "print(\"ee\")\n",
    "print(str(ee_wrank['seriesrank'].isnull().values.sum() / len(ee_wrank)) + \" series null\")\n",
    "print(str(ee_wrank['journalrank'].isnull().values.sum() / len(ee_wrank)) + \" journal null\")"
   ]
  },
  {
   "cell_type": "code",
   "execution_count": 5,
   "id": "51527a3f",
   "metadata": {},
   "outputs": [
    {
     "data": {
      "text/plain": [
       "(4401800, 4408080)"
      ]
     },
     "execution_count": 5,
     "metadata": {},
     "output_type": "execute_result"
    }
   ],
   "source": [
    "bio_wrank['seriesrank'].isnull().values.sum(), len(bio_wrank)"
   ]
  },
  {
   "cell_type": "code",
   "execution_count": 6,
   "id": "0fb65ebe",
   "metadata": {},
   "outputs": [],
   "source": [
    "bio_wseries = bio_wrank[~bio_wrank['seriesrank'].isnull()]\n",
    "bio_wjournal = bio_wrank[~bio_wrank['journalrank'].isnull()]\n",
    "phys_wseries = phys_wrank[~phys_wrank['seriesrank'].isnull()]\n",
    "phys_wjournal = phys_wrank[~phys_wrank['journalrank'].isnull()]\n",
    "ee_wseries = ee_wrank[~ee_wrank['seriesrank'].isnull()]\n",
    "ee_wjournal = ee_wrank[~ee_wrank['journalrank'].isnull()]"
   ]
  },
  {
   "cell_type": "code",
   "execution_count": 7,
   "id": "b64f0498",
   "metadata": {},
   "outputs": [
    {
     "data": {
      "text/plain": [
       "<matplotlib.collections.PathCollection at 0x7f028ce4c8e0>"
      ]
     },
     "execution_count": 7,
     "metadata": {},
     "output_type": "execute_result"
    },
    {
     "data": {
      "image/png": "[encoded data removed]",
      "text/plain": [
       "<Figure size 432x288 with 1 Axes>"
      ]
     },
     "metadata": {
      "needs_background": "light"
     },
     "output_type": "display_data"
    }
   ],
   "source": [
    "plt.scatter(bio_wseries.uncertain, bio_wseries.seriesrank, c = \"goldenrod\", label = \"Biology\", alpha = 0.1)\n",
    "plt.scatter(phys_wseries.uncertain, phys_wseries.seriesrank, c = \"royalblue\", label = \"Physics\", alpha = 0.1)\n",
    "plt.scatter(ee_wseries.uncertain, ee_wseries.seriesrank, c = \"purple\", label = \"EE\", alpha = 0.1)"
   ]
  },
  {
   "cell_type": "code",
   "execution_count": 8,
   "id": "96849df2",
   "metadata": {},
   "outputs": [
    {
     "data": {
      "text/plain": [
       "<matplotlib.collections.PathCollection at 0x7f028c54cd60>"
      ]
     },
     "execution_count": 8,
     "metadata": {},
     "output_type": "execute_result"
    },
    {
     "data": {
      "image/png": "[encoded data removed]",
      "text/plain": [
       "<Figure size 432x288 with 1 Axes>"
      ]
     },
     "metadata": {
      "needs_background": "light"
     },
     "output_type": "display_data"
    }
   ],
   "source": [
    "plt.scatter(bio_wjournal.uncertain, bio_wjournal.journalrank, c = \"goldenrod\", label = \"Biology\", alpha = 0.1)\n",
    "plt.scatter(phys_wjournal.uncertain, phys_wjournal.journalrank, c = \"royalblue\", label = \"Physics\", alpha = 0.1)\n",
    "plt.scatter(ee_wjournal.uncertain, ee_wjournal.journalrank, c = \"purple\", label = \"EE\", alpha = 0.1)"
   ]
  },
  {
   "cell_type": "code",
   "execution_count": 9,
   "id": "f960dab8",
   "metadata": {},
   "outputs": [],
   "source": [
    "for cutoff in np.arange(1950,2020,10):\n",
    "    for df in [bio_wjournal, bio_wseries, phys_wjournal, phys_wseries, ee_wjournal, ee_wseries]:\n",
    "        after_df = df.query('year >= @cutoff')\n",
    "        #*!"
   ]
  },
  {
   "cell_type": "code",
   "execution_count": 8,
   "id": "f173cb23",
   "metadata": {},
   "outputs": [],
   "source": [
    "# print(\"##### journal #####\")\n",
    "# df = bio_wjournal\n",
    "# for cutoff in np.arange(1950, 2020, 10):\n",
    "#     late_journal = df.query('year >= @cutoff')\n",
    "#     print('cutoff =', cutoff)\n",
    "#     print('len:', len(late_journal))\n",
    "#     print('spearmanr:', \"corr\", spearmanr(df.uncertain, df.journalrank)[0:])\n",
    "#     print('pearsonr:', \"corr\", pearsonr(df.uncertain, df.journalrank))\n",
    "#     print('----')\n",
    "# print(\"##### series #####\")\n",
    "# df = bio_wseries\n",
    "# for cutoff in np.arange(1950, 2020, 10):\n",
    "#     late_series = df.query('year >= @cutoff')\n",
    "#     print('cutoff =', cutoff)\n",
    "#     print('len:', len(late_series))\n",
    "#     print('spearmanr:', \"corr\", spearmanr(df.uncertain, df.seriesrank)[0:])\n",
    "#     print('pearsonr:', \"corr\", pearsonr(df.uncertain, df.seriesrank))\n",
    "#     print('----')"
   ]
  },
  {
   "cell_type": "markdown",
   "id": "e8a74d33",
   "metadata": {},
   "source": [
    "# Citation Count"
   ]
  },
  {
   "cell_type": "code",
   "execution_count": 232,
   "id": "0f34fcaa",
   "metadata": {},
   "outputs": [],
   "source": [
    "paper_citations = pd.read_csv(\"paper_citations.csv\")"
   ]
  },
  {
   "cell_type": "code",
   "execution_count": 4,
   "id": "67325314",
   "metadata": {},
   "outputs": [
    {
     "data": {
      "text/html": [
       "<div>\n",
       "<style scoped>\n",
       "    .dataframe tbody tr th:only-of-type {\n",
       "        vertical-align: middle;\n",
       "    }\n",
       "\n",
       "    .dataframe tbody tr th {\n",
       "        vertical-align: top;\n",
       "    }\n",
       "\n",
       "    .dataframe thead th {\n",
       "        text-align: right;\n",
       "    }\n",
       "</style>\n",
       "<table border=\"1\" class=\"dataframe\">\n",
       "  <thead>\n",
       "    <tr style=\"text-align: right;\">\n",
       "      <th></th>\n",
       "      <th>paperid</th>\n",
       "      <th>citation_count</th>\n",
       "    </tr>\n",
       "  </thead>\n",
       "  <tbody>\n",
       "    <tr>\n",
       "      <th>0</th>\n",
       "      <td>248996</td>\n",
       "      <td>4.0</td>\n",
       "    </tr>\n",
       "    <tr>\n",
       "      <th>1</th>\n",
       "      <td>2906390199</td>\n",
       "      <td>0.0</td>\n",
       "    </tr>\n",
       "    <tr>\n",
       "      <th>2</th>\n",
       "      <td>760496</td>\n",
       "      <td>2.0</td>\n",
       "    </tr>\n",
       "    <tr>\n",
       "      <th>3</th>\n",
       "      <td>1727602</td>\n",
       "      <td>0.0</td>\n",
       "    </tr>\n",
       "    <tr>\n",
       "      <th>4</th>\n",
       "      <td>2401921836</td>\n",
       "      <td>7.0</td>\n",
       "    </tr>\n",
       "  </tbody>\n",
       "</table>\n",
       "</div>"
      ],
      "text/plain": [
       "      paperid  citation_count\n",
       "0      248996             4.0\n",
       "1  2906390199             0.0\n",
       "2      760496             2.0\n",
       "3     1727602             0.0\n",
       "4  2401921836             7.0"
      ]
     },
     "execution_count": 4,
     "metadata": {},
     "output_type": "execute_result"
    }
   ],
   "source": [
    "# paper_citations = paper_citations[[\"pid\",\"citation_count\"]].rename(columns = {\"pid\":\"paperid\"}).set_index(\"paperid\")\n",
    "paper_citations.head()"
   ]
  },
  {
   "cell_type": "code",
   "execution_count": 12,
   "id": "76b007bd",
   "metadata": {},
   "outputs": [],
   "source": [
    "df_wcitation = pd.merge(phys_fin_wyear, paper_citations, left_index=True, right_index=True, how='left')"
   ]
  },
  {
   "cell_type": "code",
   "execution_count": 10,
   "id": "29d27e67",
   "metadata": {},
   "outputs": [
    {
     "name": "stdout",
     "output_type": "stream",
     "text": [
      "4290990 null citation counts out of 4408080\n"
     ]
    }
   ],
   "source": [
    "print(str(df_wcitation['citation_count'].isnull().values.sum())\\\n",
    "      + \" null citation counts out of \" + str(len(df_wcitation)))"
   ]
  },
  {
   "cell_type": "code",
   "execution_count": 13,
   "id": "9410338c",
   "metadata": {},
   "outputs": [],
   "source": [
    "df_wcitation.to_csv('phys_wcitation.csv')"
   ]
  },
  {
   "cell_type": "code",
   "execution_count": 233,
   "id": "3fed7ea9",
   "metadata": {},
   "outputs": [],
   "source": [
    "bio_wcitation = pd.read_csv(\"bio_wcitation.csv\").rename(columns = {\"Unnamed: 0\":\"paperid\"})\n",
    "phys_wcitation = pd.read_csv(\"phys_wcitation.csv\").set_index(\"Unnamed: 0\").rename(columns = {\"Unnamed: 0\":\"paperid\"})\n",
    "ee_wcitation = pd.read_csv(\"ee_wcitation.csv\").set_index(\"Unnamed: 0\").rename(columns = {\"Unnamed: 0\":\"paperid\"})"
   ]
  },
  {
   "cell_type": "markdown",
   "id": "4f28aed2",
   "metadata": {},
   "source": [
    "### for specific year"
   ]
  },
  {
   "cell_type": "markdown",
   "id": "9403c4b1",
   "metadata": {},
   "source": [
    "#### 2000"
   ]
  },
  {
   "cell_type": "code",
   "execution_count": 234,
   "id": "d8ff8a3d",
   "metadata": {},
   "outputs": [],
   "source": [
    "bio2000 = bio_wcitation.query('year==2000').query('citation_count > 10')\n",
    "phys2000 = phys_wcitation.query('year==2000').query('citation_count > 10')\n",
    "ee2000 = ee_wcitation.query('year==2000').query('citation_count > 10')"
   ]
  },
  {
   "cell_type": "code",
   "execution_count": 235,
   "id": "9527220d",
   "metadata": {},
   "outputs": [
    {
     "data": {
      "text/plain": [
       "<matplotlib.collections.PathCollection at 0x7fd2f63c5880>"
      ]
     },
     "execution_count": 235,
     "metadata": {},
     "output_type": "execute_result"
    },
    {
     "data": {
      "image/png": "[encoded data removed]",
      "text/plain": [
       "<Figure size 432x288 with 1 Axes>"
      ]
     },
     "metadata": {
      "needs_background": "light"
     },
     "output_type": "display_data"
    }
   ],
   "source": [
    "plt.scatter(bio2000.uncertain, bio2000.citation_count, c = \"goldenrod\", label = \"Biology\", alpha = 0.1)\n",
    "plt.scatter(phys2000.uncertain, phys2000.citation_count, c = \"royalblue\", label = \"Physics\", alpha = 0.1)\n",
    "plt.scatter(ee2000.uncertain, ee2000.citation_count, c = \"purple\", label = \"EE\", alpha = 0.1)"
   ]
  },
  {
   "cell_type": "code",
   "execution_count": 236,
   "id": "be0fb1ff",
   "metadata": {},
   "outputs": [
    {
     "data": {
      "text/plain": [
       "(SpearmanrResult(correlation=-0.019310100893729115, pvalue=0.7112223613615325),\n",
       " (-0.04101133519398417, 0.4315567622754433))"
      ]
     },
     "execution_count": 236,
     "metadata": {},
     "output_type": "execute_result"
    }
   ],
   "source": [
    "bio2000 = bio2000.dropna()\n",
    "spearmanr(bio2000.uncertain, bio2000.citation_count), pearsonr(bio2000.uncertain, bio2000.citation_count)"
   ]
  },
  {
   "cell_type": "code",
   "execution_count": 237,
   "id": "0097601b",
   "metadata": {},
   "outputs": [
    {
     "data": {
      "text/plain": [
       "(SpearmanrResult(correlation=0.07207935294196877, pvalue=0.4542714677132458),\n",
       " (0.11535082234826045, 0.23013945722950901))"
      ]
     },
     "execution_count": 237,
     "metadata": {},
     "output_type": "execute_result"
    }
   ],
   "source": [
    "phys2000 = phys2000.dropna()\n",
    "spearmanr(phys2000.uncertain, phys2000.citation_count), pearsonr(phys2000.uncertain, phys2000.citation_count)"
   ]
  },
  {
   "cell_type": "code",
   "execution_count": 49,
   "id": "2e778bcf",
   "metadata": {
    "scrolled": true
   },
   "outputs": [
    {
     "data": {
      "text/plain": [
       "(SpearmanrResult(correlation=-0.07652155250963397, pvalue=0.522900444715455),\n",
       " (-0.06820231543023353, 0.5691858480665137))"
      ]
     },
     "execution_count": 49,
     "metadata": {},
     "output_type": "execute_result"
    }
   ],
   "source": [
    "ee2000 = ee2000.dropna()\n",
    "spearmanr(ee2000.uncertain, ee2000.citation_count), pearsonr(ee2000.uncertain, ee2000.citation_count)"
   ]
  },
  {
   "cell_type": "markdown",
   "id": "ae962d0c",
   "metadata": {},
   "source": [
    "#### 2010"
   ]
  },
  {
   "cell_type": "code",
   "execution_count": 238,
   "id": "82e10c0a",
   "metadata": {},
   "outputs": [],
   "source": [
    "bio2010 = bio_wcitation.query('year==2010')#.query('citation_count > 10')\n",
    "phys2010 = phys_wcitation.query('year==2010')#.query('citation_count > 10')\n",
    "ee2010 = ee_wcitation.query('year==2010')#.query('citation_count > 20')"
   ]
  },
  {
   "cell_type": "code",
   "execution_count": 239,
   "id": "c5070688",
   "metadata": {},
   "outputs": [
    {
     "data": {
      "text/plain": [
       "<matplotlib.collections.PathCollection at 0x7fd2f635cdf0>"
      ]
     },
     "execution_count": 239,
     "metadata": {},
     "output_type": "execute_result"
    },
    {
     "data": {
      "image/png": "[encoded data removed]",
      "text/plain": [
       "<Figure size 432x288 with 1 Axes>"
      ]
     },
     "metadata": {
      "needs_background": "light"
     },
     "output_type": "display_data"
    }
   ],
   "source": [
    "plt.scatter(bio2010.uncertain, bio2010.citation_count, c = \"goldenrod\", label = \"Biology\", alpha = 0.1)\n",
    "plt.scatter(phys2010.uncertain, phys2010.citation_count, c = \"royalblue\", label = \"Physics\", alpha = 0.1)\n",
    "plt.scatter(ee2010.uncertain, ee2010.citation_count, c = \"purple\", label = \"EE\", alpha = 0.1)"
   ]
  },
  {
   "cell_type": "code",
   "execution_count": 52,
   "id": "348a17d9",
   "metadata": {},
   "outputs": [
    {
     "data": {
      "text/plain": [
       "(SpearmanrResult(correlation=-0.05883498204355932, pvalue=0.16902659667995026),\n",
       " (-0.06292128759883646, 0.14127918488837118))"
      ]
     },
     "execution_count": 52,
     "metadata": {},
     "output_type": "execute_result"
    }
   ],
   "source": [
    "bio2010 = bio2010.dropna()\n",
    "spearmanr(bio2010.uncertain, bio2010.citation_count), pearsonr(bio2010.uncertain, bio2010.citation_count)"
   ]
  },
  {
   "cell_type": "code",
   "execution_count": 53,
   "id": "992443c6",
   "metadata": {},
   "outputs": [
    {
     "data": {
      "text/plain": [
       "(SpearmanrResult(correlation=-0.014211820694059305, pvalue=0.8389438731037511),\n",
       " (0.028673247643000478, 0.6817161394819814))"
      ]
     },
     "execution_count": 53,
     "metadata": {},
     "output_type": "execute_result"
    }
   ],
   "source": [
    "phys2010 = phys2010.dropna()\n",
    "spearmanr(phys2010.uncertain, phys2010.citation_count), pearsonr(phys2010.uncertain, phys2010.citation_count)"
   ]
  },
  {
   "cell_type": "code",
   "execution_count": 59,
   "id": "12446ac4",
   "metadata": {
    "scrolled": true
   },
   "outputs": [
    {
     "data": {
      "text/plain": [
       "(SpearmanrResult(correlation=0.08960853535594127, pvalue=0.7071434343696892),\n",
       " (-0.12455158727096344, 0.6008414705519087))"
      ]
     },
     "execution_count": 59,
     "metadata": {},
     "output_type": "execute_result"
    }
   ],
   "source": [
    "ee2010 = ee2010.dropna()\n",
    "spearmanr(ee2010.uncertain, ee2010.citation_count), pearsonr(ee2010.uncertain, ee2010.citation_count)"
   ]
  },
  {
   "cell_type": "markdown",
   "id": "64d68c29",
   "metadata": {},
   "source": [
    "### uncertainty vs. cc might not show anything bc cc more related to the year"
   ]
  },
  {
   "cell_type": "code",
   "execution_count": null,
   "id": "85ac34cb",
   "metadata": {},
   "outputs": [],
   "source": [
    "plt.scatter(bio2000.uncertainty)"
   ]
  },
  {
   "cell_type": "code",
   "execution_count": 6,
   "id": "5a24a8c2",
   "metadata": {},
   "outputs": [
    {
     "data": {
      "text/plain": [
       "<matplotlib.collections.PathCollection at 0x7f8035c33e50>"
      ]
     },
     "execution_count": 6,
     "metadata": {},
     "output_type": "execute_result"
    },
    {
     "data": {
      "image/png": "[encoded data removed]",
      "text/plain": [
       "<Figure size 432x288 with 1 Axes>"
      ]
     },
     "metadata": {
      "needs_background": "light"
     },
     "output_type": "display_data"
    }
   ],
   "source": [
    "plt.scatter(bio_wcitation.year, bio_wcitation.citation_count)\n",
    "# uncertainty vs. cc might not show anything bc cc more related to the year"
   ]
  },
  {
   "cell_type": "code",
   "execution_count": 240,
   "id": "ee517f9f",
   "metadata": {},
   "outputs": [],
   "source": [
    "bio_cc_dict = bio_wcitation[[\"year\",\"citation_count\"]].groupby(\"year\").sum().to_dict()['citation_count']\n",
    "phys_cc_dict = phys_wcitation[[\"year\",\"citation_count\"]].groupby(\"year\").sum().to_dict()['citation_count']\n",
    "ee_cc_dict = ee_wcitation[[\"year\",\"citation_count\"]].groupby(\"year\").sum().to_dict()['citation_count']\n",
    "\n",
    "# bio_cc_dict"
   ]
  },
  {
   "cell_type": "code",
   "execution_count": 36,
   "id": "58d101f1",
   "metadata": {},
   "outputs": [],
   "source": [
    "def cc_prop(df, cc_dict):\n",
    "    res = []\n",
    "    for i in df.index:\n",
    "        if cc_dict[df.year[i]] == 0:\n",
    "            res.append(0)\n",
    "        else:\n",
    "            res.append(df.citation_count[i]/cc_dict[df.year[i]])\n",
    "    return res"
   ]
  },
  {
   "cell_type": "code",
   "execution_count": 30,
   "id": "20043592",
   "metadata": {},
   "outputs": [
    {
     "data": {
      "text/html": [
       "<div>\n",
       "<style scoped>\n",
       "    .dataframe tbody tr th:only-of-type {\n",
       "        vertical-align: middle;\n",
       "    }\n",
       "\n",
       "    .dataframe tbody tr th {\n",
       "        vertical-align: top;\n",
       "    }\n",
       "\n",
       "    .dataframe thead th {\n",
       "        text-align: right;\n",
       "    }\n",
       "</style>\n",
       "<table border=\"1\" class=\"dataframe\">\n",
       "  <thead>\n",
       "    <tr style=\"text-align: right;\">\n",
       "      <th></th>\n",
       "      <th>paperid</th>\n",
       "      <th>uncertain</th>\n",
       "      <th>year</th>\n",
       "      <th>citation_count</th>\n",
       "      <th>prop_cc</th>\n",
       "    </tr>\n",
       "  </thead>\n",
       "  <tbody>\n",
       "    <tr>\n",
       "      <th>4408079</th>\n",
       "      <td>3156839789</td>\n",
       "      <td>0.991331</td>\n",
       "      <td>2021</td>\n",
       "      <td>0.0</td>\n",
       "      <td>0.0</td>\n",
       "    </tr>\n",
       "    <tr>\n",
       "      <th>1604250</th>\n",
       "      <td>2955372003</td>\n",
       "      <td>0.084900</td>\n",
       "      <td>2019</td>\n",
       "      <td>0.0</td>\n",
       "      <td>0.0</td>\n",
       "    </tr>\n",
       "    <tr>\n",
       "      <th>1604255</th>\n",
       "      <td>2955372853</td>\n",
       "      <td>0.049155</td>\n",
       "      <td>2019</td>\n",
       "      <td>0.0</td>\n",
       "      <td>0.0</td>\n",
       "    </tr>\n",
       "    <tr>\n",
       "      <th>1604258</th>\n",
       "      <td>2955374072</td>\n",
       "      <td>0.943077</td>\n",
       "      <td>2019</td>\n",
       "      <td>0.0</td>\n",
       "      <td>0.0</td>\n",
       "    </tr>\n",
       "    <tr>\n",
       "      <th>1604259</th>\n",
       "      <td>2955374082</td>\n",
       "      <td>0.757684</td>\n",
       "      <td>2019</td>\n",
       "      <td>0.0</td>\n",
       "      <td>0.0</td>\n",
       "    </tr>\n",
       "    <tr>\n",
       "      <th>...</th>\n",
       "      <td>...</td>\n",
       "      <td>...</td>\n",
       "      <td>...</td>\n",
       "      <td>...</td>\n",
       "      <td>...</td>\n",
       "    </tr>\n",
       "    <tr>\n",
       "      <th>4406677</th>\n",
       "      <td>2981649924</td>\n",
       "      <td>0.245042</td>\n",
       "      <td>2020</td>\n",
       "      <td>NaN</td>\n",
       "      <td>NaN</td>\n",
       "    </tr>\n",
       "    <tr>\n",
       "      <th>4406688</th>\n",
       "      <td>2981652790</td>\n",
       "      <td>0.191188</td>\n",
       "      <td>2019</td>\n",
       "      <td>NaN</td>\n",
       "      <td>NaN</td>\n",
       "    </tr>\n",
       "    <tr>\n",
       "      <th>4406748</th>\n",
       "      <td>2981666593</td>\n",
       "      <td>0.790390</td>\n",
       "      <td>2019</td>\n",
       "      <td>NaN</td>\n",
       "      <td>NaN</td>\n",
       "    </tr>\n",
       "    <tr>\n",
       "      <th>4407992</th>\n",
       "      <td>3156789756</td>\n",
       "      <td>0.890433</td>\n",
       "      <td>2021</td>\n",
       "      <td>NaN</td>\n",
       "      <td>NaN</td>\n",
       "    </tr>\n",
       "    <tr>\n",
       "      <th>4408056</th>\n",
       "      <td>3156829294</td>\n",
       "      <td>0.468636</td>\n",
       "      <td>2021</td>\n",
       "      <td>NaN</td>\n",
       "      <td>NaN</td>\n",
       "    </tr>\n",
       "  </tbody>\n",
       "</table>\n",
       "<p>4408080 rows × 5 columns</p>\n",
       "</div>"
      ],
      "text/plain": [
       "            paperid  uncertain  year  citation_count  prop_cc\n",
       "4408079  3156839789   0.991331  2021             0.0      0.0\n",
       "1604250  2955372003   0.084900  2019             0.0      0.0\n",
       "1604255  2955372853   0.049155  2019             0.0      0.0\n",
       "1604258  2955374072   0.943077  2019             0.0      0.0\n",
       "1604259  2955374082   0.757684  2019             0.0      0.0\n",
       "...             ...        ...   ...             ...      ...\n",
       "4406677  2981649924   0.245042  2020             NaN      NaN\n",
       "4406688  2981652790   0.191188  2019             NaN      NaN\n",
       "4406748  2981666593   0.790390  2019             NaN      NaN\n",
       "4407992  3156789756   0.890433  2021             NaN      NaN\n",
       "4408056  3156829294   0.468636  2021             NaN      NaN\n",
       "\n",
       "[4408080 rows x 5 columns]"
      ]
     },
     "execution_count": 30,
     "metadata": {},
     "output_type": "execute_result"
    }
   ],
   "source": [
    "bio_wcitation.sort_values(\"prop_cc\")"
   ]
  },
  {
   "cell_type": "code",
   "execution_count": 37,
   "id": "0e78719e",
   "metadata": {},
   "outputs": [
    {
     "data": {
      "text/html": [
       "<div>\n",
       "<style scoped>\n",
       "    .dataframe tbody tr th:only-of-type {\n",
       "        vertical-align: middle;\n",
       "    }\n",
       "\n",
       "    .dataframe tbody tr th {\n",
       "        vertical-align: top;\n",
       "    }\n",
       "\n",
       "    .dataframe thead th {\n",
       "        text-align: right;\n",
       "    }\n",
       "</style>\n",
       "<table border=\"1\" class=\"dataframe\">\n",
       "  <thead>\n",
       "    <tr style=\"text-align: right;\">\n",
       "      <th></th>\n",
       "      <th>paperid</th>\n",
       "      <th>uncertain</th>\n",
       "      <th>year</th>\n",
       "      <th>citation_count</th>\n",
       "      <th>prop_cc</th>\n",
       "    </tr>\n",
       "  </thead>\n",
       "  <tbody>\n",
       "    <tr>\n",
       "      <th>4408079</th>\n",
       "      <td>3156839789</td>\n",
       "      <td>0.991331</td>\n",
       "      <td>2021</td>\n",
       "      <td>0.0</td>\n",
       "      <td>0.0</td>\n",
       "    </tr>\n",
       "    <tr>\n",
       "      <th>1604250</th>\n",
       "      <td>2955372003</td>\n",
       "      <td>0.084900</td>\n",
       "      <td>2019</td>\n",
       "      <td>0.0</td>\n",
       "      <td>0.0</td>\n",
       "    </tr>\n",
       "    <tr>\n",
       "      <th>1604255</th>\n",
       "      <td>2955372853</td>\n",
       "      <td>0.049155</td>\n",
       "      <td>2019</td>\n",
       "      <td>0.0</td>\n",
       "      <td>0.0</td>\n",
       "    </tr>\n",
       "    <tr>\n",
       "      <th>1604258</th>\n",
       "      <td>2955374072</td>\n",
       "      <td>0.943077</td>\n",
       "      <td>2019</td>\n",
       "      <td>0.0</td>\n",
       "      <td>0.0</td>\n",
       "    </tr>\n",
       "    <tr>\n",
       "      <th>1604259</th>\n",
       "      <td>2955374082</td>\n",
       "      <td>0.757684</td>\n",
       "      <td>2019</td>\n",
       "      <td>0.0</td>\n",
       "      <td>0.0</td>\n",
       "    </tr>\n",
       "    <tr>\n",
       "      <th>...</th>\n",
       "      <td>...</td>\n",
       "      <td>...</td>\n",
       "      <td>...</td>\n",
       "      <td>...</td>\n",
       "      <td>...</td>\n",
       "    </tr>\n",
       "    <tr>\n",
       "      <th>4406677</th>\n",
       "      <td>2981649924</td>\n",
       "      <td>0.245042</td>\n",
       "      <td>2020</td>\n",
       "      <td>NaN</td>\n",
       "      <td>NaN</td>\n",
       "    </tr>\n",
       "    <tr>\n",
       "      <th>4406688</th>\n",
       "      <td>2981652790</td>\n",
       "      <td>0.191188</td>\n",
       "      <td>2019</td>\n",
       "      <td>NaN</td>\n",
       "      <td>NaN</td>\n",
       "    </tr>\n",
       "    <tr>\n",
       "      <th>4406748</th>\n",
       "      <td>2981666593</td>\n",
       "      <td>0.790390</td>\n",
       "      <td>2019</td>\n",
       "      <td>NaN</td>\n",
       "      <td>NaN</td>\n",
       "    </tr>\n",
       "    <tr>\n",
       "      <th>4407992</th>\n",
       "      <td>3156789756</td>\n",
       "      <td>0.890433</td>\n",
       "      <td>2021</td>\n",
       "      <td>NaN</td>\n",
       "      <td>NaN</td>\n",
       "    </tr>\n",
       "    <tr>\n",
       "      <th>4408056</th>\n",
       "      <td>3156829294</td>\n",
       "      <td>0.468636</td>\n",
       "      <td>2021</td>\n",
       "      <td>NaN</td>\n",
       "      <td>NaN</td>\n",
       "    </tr>\n",
       "  </tbody>\n",
       "</table>\n",
       "<p>4408080 rows × 5 columns</p>\n",
       "</div>"
      ],
      "text/plain": [
       "            paperid  uncertain  year  citation_count  prop_cc\n",
       "4408079  3156839789   0.991331  2021             0.0      0.0\n",
       "1604250  2955372003   0.084900  2019             0.0      0.0\n",
       "1604255  2955372853   0.049155  2019             0.0      0.0\n",
       "1604258  2955374072   0.943077  2019             0.0      0.0\n",
       "1604259  2955374082   0.757684  2019             0.0      0.0\n",
       "...             ...        ...   ...             ...      ...\n",
       "4406677  2981649924   0.245042  2020             NaN      NaN\n",
       "4406688  2981652790   0.191188  2019             NaN      NaN\n",
       "4406748  2981666593   0.790390  2019             NaN      NaN\n",
       "4407992  3156789756   0.890433  2021             NaN      NaN\n",
       "4408056  3156829294   0.468636  2021             NaN      NaN\n",
       "\n",
       "[4408080 rows x 5 columns]"
      ]
     },
     "execution_count": 37,
     "metadata": {},
     "output_type": "execute_result"
    }
   ],
   "source": [
    "bio_wcitation[\"prop_cc\"] = cc_prop(bio_wcitation, bio_cc_dict)\n",
    "phys_wcitation[\"prop_cc\"] = cc_prop(phys_wcitation, phys_cc_dict)\n",
    "ee_wcitation[\"prop_cc\"] = cc_prop(ee_wcitation, ee_cc_dict)\n",
    "\n",
    "bio_wcitation.sort_values(\"prop_cc\")"
   ]
  },
  {
   "cell_type": "code",
   "execution_count": 38,
   "id": "ef4ebe66",
   "metadata": {},
   "outputs": [
    {
     "data": {
      "text/html": [
       "<div>\n",
       "<style scoped>\n",
       "    .dataframe tbody tr th:only-of-type {\n",
       "        vertical-align: middle;\n",
       "    }\n",
       "\n",
       "    .dataframe tbody tr th {\n",
       "        vertical-align: top;\n",
       "    }\n",
       "\n",
       "    .dataframe thead th {\n",
       "        text-align: right;\n",
       "    }\n",
       "</style>\n",
       "<table border=\"1\" class=\"dataframe\">\n",
       "  <thead>\n",
       "    <tr style=\"text-align: right;\">\n",
       "      <th></th>\n",
       "      <th>paperid</th>\n",
       "      <th>uncertain</th>\n",
       "      <th>year</th>\n",
       "      <th>citation_count</th>\n",
       "      <th>prop_cc</th>\n",
       "    </tr>\n",
       "  </thead>\n",
       "  <tbody>\n",
       "    <tr>\n",
       "      <th>4408079</th>\n",
       "      <td>3156839789</td>\n",
       "      <td>0.991331</td>\n",
       "      <td>2021</td>\n",
       "      <td>0.0</td>\n",
       "      <td>0.0</td>\n",
       "    </tr>\n",
       "    <tr>\n",
       "      <th>1604250</th>\n",
       "      <td>2955372003</td>\n",
       "      <td>0.084900</td>\n",
       "      <td>2019</td>\n",
       "      <td>0.0</td>\n",
       "      <td>0.0</td>\n",
       "    </tr>\n",
       "    <tr>\n",
       "      <th>1604255</th>\n",
       "      <td>2955372853</td>\n",
       "      <td>0.049155</td>\n",
       "      <td>2019</td>\n",
       "      <td>0.0</td>\n",
       "      <td>0.0</td>\n",
       "    </tr>\n",
       "    <tr>\n",
       "      <th>1604258</th>\n",
       "      <td>2955374072</td>\n",
       "      <td>0.943077</td>\n",
       "      <td>2019</td>\n",
       "      <td>0.0</td>\n",
       "      <td>0.0</td>\n",
       "    </tr>\n",
       "    <tr>\n",
       "      <th>1604259</th>\n",
       "      <td>2955374082</td>\n",
       "      <td>0.757684</td>\n",
       "      <td>2019</td>\n",
       "      <td>0.0</td>\n",
       "      <td>0.0</td>\n",
       "    </tr>\n",
       "    <tr>\n",
       "      <th>...</th>\n",
       "      <td>...</td>\n",
       "      <td>...</td>\n",
       "      <td>...</td>\n",
       "      <td>...</td>\n",
       "      <td>...</td>\n",
       "    </tr>\n",
       "    <tr>\n",
       "      <th>1181360</th>\n",
       "      <td>1988317992</td>\n",
       "      <td>0.975416</td>\n",
       "      <td>1840</td>\n",
       "      <td>11.0</td>\n",
       "      <td>1.0</td>\n",
       "    </tr>\n",
       "    <tr>\n",
       "      <th>3384912</th>\n",
       "      <td>2006420098</td>\n",
       "      <td>0.993821</td>\n",
       "      <td>1842</td>\n",
       "      <td>2.0</td>\n",
       "      <td>1.0</td>\n",
       "    </tr>\n",
       "    <tr>\n",
       "      <th>937323</th>\n",
       "      <td>2143990523</td>\n",
       "      <td>0.921640</td>\n",
       "      <td>1821</td>\n",
       "      <td>3.0</td>\n",
       "      <td>1.0</td>\n",
       "    </tr>\n",
       "    <tr>\n",
       "      <th>2601511</th>\n",
       "      <td>2467115401</td>\n",
       "      <td>0.984629</td>\n",
       "      <td>1872</td>\n",
       "      <td>1.0</td>\n",
       "      <td>1.0</td>\n",
       "    </tr>\n",
       "    <tr>\n",
       "      <th>2122157</th>\n",
       "      <td>2627028266</td>\n",
       "      <td>0.741126</td>\n",
       "      <td>1848</td>\n",
       "      <td>3.0</td>\n",
       "      <td>1.0</td>\n",
       "    </tr>\n",
       "  </tbody>\n",
       "</table>\n",
       "<p>4396613 rows × 5 columns</p>\n",
       "</div>"
      ],
      "text/plain": [
       "            paperid  uncertain  year  citation_count  prop_cc\n",
       "4408079  3156839789   0.991331  2021             0.0      0.0\n",
       "1604250  2955372003   0.084900  2019             0.0      0.0\n",
       "1604255  2955372853   0.049155  2019             0.0      0.0\n",
       "1604258  2955374072   0.943077  2019             0.0      0.0\n",
       "1604259  2955374082   0.757684  2019             0.0      0.0\n",
       "...             ...        ...   ...             ...      ...\n",
       "1181360  1988317992   0.975416  1840            11.0      1.0\n",
       "3384912  2006420098   0.993821  1842             2.0      1.0\n",
       "937323   2143990523   0.921640  1821             3.0      1.0\n",
       "2601511  2467115401   0.984629  1872             1.0      1.0\n",
       "2122157  2627028266   0.741126  1848             3.0      1.0\n",
       "\n",
       "[4396613 rows x 5 columns]"
      ]
     },
     "execution_count": 38,
     "metadata": {},
     "output_type": "execute_result"
    }
   ],
   "source": [
    "bio_wcitation.dropna().sort_values(\"prop_cc\")"
   ]
  },
  {
   "cell_type": "markdown",
   "id": "4b16e2e5",
   "metadata": {},
   "source": [
    "### visualizing"
   ]
  },
  {
   "cell_type": "code",
   "execution_count": 39,
   "id": "1f67b429",
   "metadata": {},
   "outputs": [
    {
     "data": {
      "text/plain": [
       "<matplotlib.collections.PathCollection at 0x7f037e445820>"
      ]
     },
     "execution_count": 39,
     "metadata": {},
     "output_type": "execute_result"
    },
    {
     "data": {
      "image/png": "[encoded data removed]",
      "text/plain": [
       "<Figure size 432x288 with 1 Axes>"
      ]
     },
     "metadata": {
      "needs_background": "light"
     },
     "output_type": "display_data"
    }
   ],
   "source": [
    "plt.scatter(bio_wcitation.uncertain, bio_wcitation.prop_cc, c = \"goldenrod\", label = \"Biology\", alpha = 0.1)\n",
    "plt.scatter(phys_wcitation.uncertain, phys_wcitation.prop_cc, c = \"royalblue\", label = \"Physics\", alpha = 0.1)\n",
    "plt.scatter(ee_wcitation.uncertain, ee_wcitation.prop_cc, c = \"purple\", label = \"EE\", alpha = 0.1)"
   ]
  },
  {
   "cell_type": "code",
   "execution_count": 31,
   "id": "737f849f",
   "metadata": {},
   "outputs": [],
   "source": [
    "bio_wcitation = bio_wcitation.dropna()"
   ]
  },
  {
   "cell_type": "code",
   "execution_count": 37,
   "id": "5fe73c01",
   "metadata": {},
   "outputs": [
    {
     "data": {
      "text/plain": [
       "SpearmanrResult(correlation=0.0005240653080555313, pvalue=0.27182684836807386)"
      ]
     },
     "execution_count": 37,
     "metadata": {},
     "output_type": "execute_result"
    }
   ],
   "source": [
    "spearmanr(bio_wcitation.uncertain, bio_wcitation.prop_cc)"
   ]
  },
  {
   "cell_type": "code",
   "execution_count": 11,
   "id": "905d106e",
   "metadata": {},
   "outputs": [],
   "source": [
    "top_bio_cc = bio_wcitation.query(\"citation_count > 100\")\n",
    "top_phys_cc = phys_wcitation.query(\"citation_count > 100\")\n",
    "top_ee_cc = ee_wcitation.query(\"citation_count > 100\")"
   ]
  },
  {
   "cell_type": "code",
   "execution_count": 12,
   "id": "b8be50e1",
   "metadata": {},
   "outputs": [
    {
     "data": {
      "text/plain": [
       "<matplotlib.collections.PathCollection at 0x7f803536c700>"
      ]
     },
     "execution_count": 12,
     "metadata": {},
     "output_type": "execute_result"
    },
    {
     "data": {
      "image/png": "[encoded data removed]",
      "text/plain": [
       "<Figure size 432x288 with 1 Axes>"
      ]
     },
     "metadata": {
      "needs_background": "light"
     },
     "output_type": "display_data"
    }
   ],
   "source": [
    "plt.scatter(top_bio_cc.uncertain, top_bio_cc.prop_cc, c = \"goldenrod\", label = \"Biology\", alpha = 0.5)\n",
    "plt.scatter(top_phys_cc.uncertain, top_phys_cc.prop_cc, c = \"royalblue\", label = \"Physics\", alpha = 0.5)\n",
    "plt.scatter(top_ee_cc.uncertain, top_ee_cc.prop_cc, c = \"purple\", label = \"EE\", alpha = 0.5)\n",
    "# *! feel like citation counts aren't linear, hit a breakthrough point -- whether hit that or not related to uncertainty?"
   ]
  },
  {
   "cell_type": "code",
   "execution_count": 36,
   "id": "f54eaaa9",
   "metadata": {},
   "outputs": [
    {
     "data": {
      "text/plain": [
       "SpearmanrResult(correlation=0.062219469284043864, pvalue=2.7830766374540446e-298)"
      ]
     },
     "execution_count": 36,
     "metadata": {},
     "output_type": "execute_result"
    }
   ],
   "source": [
    "top_bio_cc = top_bio_cc.dropna()\n",
    "spearmanr(top_bio_cc.uncertain, top_bio_cc.porp_cc)"
   ]
  }
 ],
 "metadata": {
  "kernelspec": {
   "display_name": "Python 3 (ipykernel)",
   "language": "python",
   "name": "python3"
  },
  "language_info": {
   "codemirror_mode": {
    "name": "ipython",
    "version": 3
   },
   "file_extension": ".py",
   "mimetype": "text/x-python",
   "name": "python",
   "nbconvert_exporter": "python",
   "pygments_lexer": "ipython3",
   "version": "3.8.5"
  }
 },
 "nbformat": 4,
 "nbformat_minor": 5
}
