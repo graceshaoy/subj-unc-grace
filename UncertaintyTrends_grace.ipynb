{
 "cells": [
  {
   "cell_type": "code",
   "execution_count": 1,
   "id": "93b2ee20",
   "metadata": {},
   "outputs": [
    {
     "name": "stderr",
     "output_type": "stream",
     "text": [
      "\n",
      "Bad key text.latex.preview in file /software/python-anaconda-2020.11-el8-x86_64/lib/python3.8/site-packages/matplotlib/mpl-data/stylelib/_classic_test.mplstyle, line 123 ('text.latex.preview : False')\n",
      "You probably need to get an updated matplotlibrc file from\n",
      "https://github.com/matplotlib/matplotlib/blob/v3.6.0/matplotlibrc.template\n",
      "or from the matplotlib source distribution\n",
      "\n",
      "Bad key mathtext.fallback_to_cm in file /software/python-anaconda-2020.11-el8-x86_64/lib/python3.8/site-packages/matplotlib/mpl-data/stylelib/_classic_test.mplstyle, line 155 ('mathtext.fallback_to_cm : True  # When True, use symbols from the Computer Modern')\n",
      "You probably need to get an updated matplotlibrc file from\n",
      "https://github.com/matplotlib/matplotlib/blob/v3.6.0/matplotlibrc.template\n",
      "or from the matplotlib source distribution\n",
      "\n",
      "Bad key savefig.jpeg_quality in file /software/python-anaconda-2020.11-el8-x86_64/lib/python3.8/site-packages/matplotlib/mpl-data/stylelib/_classic_test.mplstyle, line 418 ('savefig.jpeg_quality: 95       # when a jpeg is saved, the default quality parameter.')\n",
      "You probably need to get an updated matplotlibrc file from\n",
      "https://github.com/matplotlib/matplotlib/blob/v3.6.0/matplotlibrc.template\n",
      "or from the matplotlib source distribution\n",
      "\n",
      "Bad key keymap.all_axes in file /software/python-anaconda-2020.11-el8-x86_64/lib/python3.8/site-packages/matplotlib/mpl-data/stylelib/_classic_test.mplstyle, line 466 ('keymap.all_axes : a                 # enable all axes')\n",
      "You probably need to get an updated matplotlibrc file from\n",
      "https://github.com/matplotlib/matplotlib/blob/v3.6.0/matplotlibrc.template\n",
      "or from the matplotlib source distribution\n",
      "\n",
      "Bad key animation.avconv_path in file /software/python-anaconda-2020.11-el8-x86_64/lib/python3.8/site-packages/matplotlib/mpl-data/stylelib/_classic_test.mplstyle, line 477 ('animation.avconv_path: avconv     # Path to avconv binary. Without full path')\n",
      "You probably need to get an updated matplotlibrc file from\n",
      "https://github.com/matplotlib/matplotlib/blob/v3.6.0/matplotlibrc.template\n",
      "or from the matplotlib source distribution\n",
      "\n",
      "Bad key animation.avconv_args in file /software/python-anaconda-2020.11-el8-x86_64/lib/python3.8/site-packages/matplotlib/mpl-data/stylelib/_classic_test.mplstyle, line 479 ('animation.avconv_args:            # Additional arguments to pass to avconv')\n",
      "You probably need to get an updated matplotlibrc file from\n",
      "https://github.com/matplotlib/matplotlib/blob/v3.6.0/matplotlibrc.template\n",
      "or from the matplotlib source distribution\n"
     ]
    }
   ],
   "source": [
    "import warnings\n",
    "warnings.catch_warnings(record=True)\n",
    "\n",
    "import sys\n",
    "import pandas as pd\n",
    "import numpy as np\n",
    "\n",
    "from scipy.stats import pearsonr\n",
    "from scipy.stats import spearmanr\n",
    "\n",
    "import matplotlib.pyplot as plt\n",
    "import altair as alt\n",
    "alt.renderers.enable('html')\n",
    "\n",
    "%matplotlib inline\n",
    "path_prefix = \"/project/jevans/jamshid/mag/\"\n",
    "\n",
    "import json"
   ]
  },
  {
   "cell_type": "markdown",
   "id": "35bc5f04",
   "metadata": {},
   "source": [
    "# **CTRL F \"*&\" to find paths / variables to change**"
   ]
  },
  {
   "cell_type": "markdown",
   "id": "2045e1e4",
   "metadata": {},
   "source": [
    "load zero shot measurements"
   ]
  },
  {
   "cell_type": "code",
   "execution_count": 21,
   "id": "8a51d09e",
   "metadata": {},
   "outputs": [],
   "source": [
    "# bio_fin_wyear = pd.read_csv('/project/jevans/jamshid/mag/biology/MAX_ZS_uncertainties_years.tsv', sep='\\t', index_col=0)\n",
    "phys_fin_wyear = pd.read_csv('/project/jevans/jamshid/mag/physics/MAX_ZS_uncertainties_years.tsv', sep='\\t', index_col=0)\n",
    "# ee_fin_wyear = pd.read_csv('/project/jevans/jamshid/mag/electrical_engineering//MAX_ZS_uncertainties_years.tsv', sep='\\t', index_col=0)\n",
    "# chem_fin_wyear = pd.read_csv('/project/jevans/jamshid/mag/chemistry//MAX_ZS_uncertainties_years.tsv', sep='\\t', index_col=0)\n",
    "# cs_fin_wyear = pd.read_csv('/project/jevans/jamshid/mag/computer_science//MAX_ZS_uncertainties_years.tsv', sep='\\t', index_col=0)\n",
    "# econ_fin_wyear = pd.read_csv('/project/jevans/jamshid/mag/economics//MAX_ZS_uncertainties_years.tsv', sep='\\t', index_col=0)\n",
    "# matsci_fin_wyear = pd.read_csv('/project/jevans/jamshid/mag/materials_science//MAX_ZS_uncertainties_years.tsv', sep='\\t', index_col=0)\n",
    "# math_fin_wyear = pd.read_csv('/project/jevans/jamshid/mag/math//MAX_ZS_uncertainties_years.tsv', sep='\\t', index_col=0)\n",
    "# psych_fin_wyear = pd.read_csv('/project/jevans/jamshid/mag/psychology//MAX_ZS_uncertainties_years.tsv', sep='\\t', index_col=0)\n",
    "soc_fin_wyear = pd.read_csv('/project/jevans/jamshid/mag/sociology/MAX_ZS_uncertainties_years.tsv', sep='\\t', index_col=0)"
   ]
  },
  {
   "cell_type": "markdown",
   "id": "79804897",
   "metadata": {},
   "source": [
    "load scibert measurements"
   ]
  },
  {
   "cell_type": "code",
   "execution_count": 2,
   "id": "8a2409ff",
   "metadata": {},
   "outputs": [],
   "source": [
    "# bio_fin_wyear = pd.read_csv('/project/jevans/jamshid/mag/biology/MAX_ScB_uncertainties_years.tsv', sep='\\t', index_col=0)\n",
    "phys_fin_wyear = pd.read_csv('/project/jevans/jamshid/mag/physics/MAX_ScB_uncertainties_years.tsv', sep='\\t', index_col=0)\n",
    "# ee_fin_wyear = pd.read_csv('/project/jevans/jamshid/mag/electrical_engineering/MAX_ScB_uncertainties_years.tsv', sep='\\t', index_col=0)\n",
    "# chem_fin_wyear = pd.read_csv('/project/jevans/jamshid/mag/chemistry/MAX_ScB_uncertainties_years.tsv', sep='\\t', index_col=0)\n",
    "# cs_fin_wyear = pd.read_csv('/project/jevans/jamshid/mag/computer_science/MAX_ScB_uncertainties_years.tsv', sep='\\t', index_col=0)\n",
    "# econ_fin_wyear = pd.read_csv('/project/jevans/jamshid/mag/economics/MAX_ScB_uncertainties_years.tsv', sep='\\t', index_col=0)\n",
    "# matsci_fin_wyear = pd.read_csv('/project/jevans/jamshid/mag/materials_science/MAX_ScB_uncertainties_years.tsv', sep='\\t', index_col=0)\n",
    "# math_fin_wyear = pd.read_csv('/project/jevans/jamshid/mag/math/MAX_ScB_uncertainties_years.tsv', sep='\\t', index_col=0)\n",
    "# psych_fin_wyear = pd.read_csv('/project/jevans/jamshid/mag/psychology/MAX_ScB_uncertainties_years.tsv', sep='\\t', index_col=0)\n",
    "soc_fin_wyear = pd.read_csv('/project/jevans/jamshid/mag/sociology/MAX_ScB_uncertainties_years.tsv', sep='\\t', index_col=0)"
   ]
  },
  {
   "cell_type": "markdown",
   "id": "a27e2413",
   "metadata": {},
   "source": [
    "# cultural background -- Journal Publisher"
   ]
  },
  {
   "cell_type": "code",
   "execution_count": 28,
   "id": "b3188389",
   "metadata": {},
   "outputs": [],
   "source": [
    "phys_uncertain_wloc = pd.read_csv('data_journalloc/phys_ScB_uncertain_wloc.csv') # *&\n",
    "soc_uncertain_wloc = pd.read_csv('data_journalloc/soc_ScB_uncertain_wloc.csv') # *&"
   ]
  },
  {
   "cell_type": "code",
   "execution_count": 29,
   "id": "2962bde9",
   "metadata": {},
   "outputs": [
    {
     "name": "stdout",
     "output_type": "stream",
     "text": [
      "--phys\n",
      "china      4929\n",
      "america    3342\n",
      "japan      1195\n",
      "europe     1033\n",
      "iran         75\n",
      "britain      68\n",
      "Name: location, dtype: int64\n",
      "--soc\n",
      "america    848\n",
      "britain    568\n",
      "europe     193\n",
      "japan      181\n",
      "china       49\n",
      "Name: location, dtype: int64\n"
     ]
    }
   ],
   "source": [
    "print(\"--phys\")\n",
    "print(phys_uncertain_wloc.location.value_counts())\n",
    "print(\"--soc\")\n",
    "print(soc_uncertain_wloc.location.value_counts())"
   ]
  },
  {
   "cell_type": "code",
   "execution_count": 30,
   "id": "8af24df6",
   "metadata": {},
   "outputs": [],
   "source": [
    "phys_byLoc = phys_uncertain_wloc[['location','uncertain']].groupby('location').mean().reset_index()\n",
    "phys_byLoc['uncertain'] = phys_byLoc['uncertain'] - phys_uncertain_wloc.uncertain.mean()\n",
    "soc_byLoc = soc_uncertain_wloc[['location','uncertain']].groupby('location').mean().reset_index()\n",
    "soc_byLoc['uncertain'] = soc_byLoc['uncertain'] - soc_uncertain_wloc.uncertain.mean()"
   ]
  },
  {
   "cell_type": "code",
   "execution_count": 31,
   "id": "cc8c03b4",
   "metadata": {},
   "outputs": [
    {
     "data": {
      "text/html": [
       "<div>\n",
       "<style scoped>\n",
       "    .dataframe tbody tr th:only-of-type {\n",
       "        vertical-align: middle;\n",
       "    }\n",
       "\n",
       "    .dataframe tbody tr th {\n",
       "        vertical-align: top;\n",
       "    }\n",
       "\n",
       "    .dataframe thead th {\n",
       "        text-align: right;\n",
       "    }\n",
       "</style>\n",
       "<table border=\"1\" class=\"dataframe\">\n",
       "  <thead>\n",
       "    <tr style=\"text-align: right;\">\n",
       "      <th></th>\n",
       "      <th>phys</th>\n",
       "      <th>soc</th>\n",
       "    </tr>\n",
       "    <tr>\n",
       "      <th>location</th>\n",
       "      <th></th>\n",
       "      <th></th>\n",
       "    </tr>\n",
       "  </thead>\n",
       "  <tbody>\n",
       "    <tr>\n",
       "      <th>america</th>\n",
       "      <td>-0.002487</td>\n",
       "      <td>-0.003351</td>\n",
       "    </tr>\n",
       "    <tr>\n",
       "      <th>britain</th>\n",
       "      <td>-0.005563</td>\n",
       "      <td>0.009232</td>\n",
       "    </tr>\n",
       "    <tr>\n",
       "      <th>china</th>\n",
       "      <td>0.006601</td>\n",
       "      <td>-0.011202</td>\n",
       "    </tr>\n",
       "    <tr>\n",
       "      <th>europe</th>\n",
       "      <td>0.001879</td>\n",
       "      <td>-0.014989</td>\n",
       "    </tr>\n",
       "    <tr>\n",
       "      <th>japan</th>\n",
       "      <td>-0.021339</td>\n",
       "      <td>0.005743</td>\n",
       "    </tr>\n",
       "  </tbody>\n",
       "</table>\n",
       "</div>"
      ],
      "text/plain": [
       "              phys       soc\n",
       "location                    \n",
       "america  -0.002487 -0.003351\n",
       "britain  -0.005563  0.009232\n",
       "china     0.006601 -0.011202\n",
       "europe    0.001879 -0.014989\n",
       "japan    -0.021339  0.005743"
      ]
     },
     "execution_count": 31,
     "metadata": {},
     "output_type": "execute_result"
    }
   ],
   "source": [
    "compare_byLoc = pd.merge(phys_byLoc, soc_byLoc, how='inner',on='location').set_index('location')\n",
    "compare_byLoc.columns = ['phys','soc']\n",
    "compare_byLoc"
   ]
  },
  {
   "cell_type": "code",
   "execution_count": 32,
   "id": "2bac8f54",
   "metadata": {},
   "outputs": [
    {
     "data": {
      "text/plain": [
       "<AxesSubplot: xlabel='location'>"
      ]
     },
     "execution_count": 32,
     "metadata": {},
     "output_type": "execute_result"
    },
    {
     "data": {
      "image/png": "[encoded data removed]",
      "text/plain": [
       "<Figure size 432x288 with 1 Axes>"
      ]
     },
     "metadata": {
      "needs_background": "light"
     },
     "output_type": "display_data"
    }
   ],
   "source": [
    "compare_byLoc.plot(kind='bar')"
   ]
  },
  {
   "cell_type": "code",
   "execution_count": 33,
   "id": "6dd04781",
   "metadata": {},
   "outputs": [],
   "source": [
    "west_dict = {'america':True,'europe':True,'britain':True,'japan':False,'china':False,'iran':False}"
   ]
  },
  {
   "cell_type": "code",
   "execution_count": 34,
   "id": "09b6d55e",
   "metadata": {},
   "outputs": [],
   "source": [
    "phys_uncertain_wloc['west'] = phys_uncertain_wloc['location'].map(west_dict)\n",
    "soc_uncertain_wloc['west'] = soc_uncertain_wloc['location'].map(west_dict)"
   ]
  },
  {
   "cell_type": "code",
   "execution_count": 35,
   "id": "e83d6cf2",
   "metadata": {},
   "outputs": [],
   "source": [
    "roll = 3\n",
    "\n",
    "phys_byYear = phys_uncertain_wloc[['west','uncertain','year']].groupby(['west','year']).mean().reset_index()\n",
    "phys_byYear['uncertain'] = phys_byYear['uncertain'] - phys_byYear.uncertain.mean()\n",
    "phys_byYear['rollingUncertain'] = phys_byYear['uncertain'].rolling(window=roll).mean()\n",
    "phys_byYear['topic'] = ['phys']*len(phys_byYear)\n",
    "\n",
    "soc_byYear = soc_uncertain_wloc[['west','uncertain','year']].groupby(['west','year']).mean().reset_index()\n",
    "soc_byYear['uncertain'] = soc_byYear['uncertain'] - soc_byYear.uncertain.mean()\n",
    "soc_byYear['rollingUncertain'] = soc_byYear['uncertain'].rolling(window=roll).mean()\n",
    "soc_byYear['topic'] = ['soc']*len(soc_byYear)"
   ]
  },
  {
   "cell_type": "code",
   "execution_count": 36,
   "id": "b7591ccd",
   "metadata": {},
   "outputs": [],
   "source": [
    "compare_byYear = pd.concat([phys_byYear, soc_byYear])\n",
    "compare_byYear = compare_byYear.query('year > 1960')"
   ]
  },
  {
   "cell_type": "code",
   "execution_count": 37,
   "id": "5f46dd83",
   "metadata": {},
   "outputs": [],
   "source": [
    "# compare_byYear = compare_byYear.query('topic == \"soc\"')"
   ]
  },
  {
   "cell_type": "code",
   "execution_count": 38,
   "id": "5ec24484",
   "metadata": {},
   "outputs": [
    {
     "data": {
      "text/html": [
       "<div>\n",
       "<style scoped>\n",
       "    .dataframe tbody tr th:only-of-type {\n",
       "        vertical-align: middle;\n",
       "    }\n",
       "\n",
       "    .dataframe tbody tr th {\n",
       "        vertical-align: top;\n",
       "    }\n",
       "\n",
       "    .dataframe thead th {\n",
       "        text-align: right;\n",
       "    }\n",
       "</style>\n",
       "<table border=\"1\" class=\"dataframe\">\n",
       "  <thead>\n",
       "    <tr style=\"text-align: right;\">\n",
       "      <th></th>\n",
       "      <th>west</th>\n",
       "      <th>year</th>\n",
       "      <th>uncertain</th>\n",
       "      <th>rollingUncertain</th>\n",
       "      <th>topic</th>\n",
       "    </tr>\n",
       "  </thead>\n",
       "  <tbody>\n",
       "    <tr>\n",
       "      <th>7</th>\n",
       "      <td>False</td>\n",
       "      <td>1964.0</td>\n",
       "      <td>0.030660</td>\n",
       "      <td>-0.014006</td>\n",
       "      <td>soc</td>\n",
       "    </tr>\n",
       "    <tr>\n",
       "      <th>8</th>\n",
       "      <td>False</td>\n",
       "      <td>1966.0</td>\n",
       "      <td>0.052103</td>\n",
       "      <td>0.006481</td>\n",
       "      <td>soc</td>\n",
       "    </tr>\n",
       "    <tr>\n",
       "      <th>9</th>\n",
       "      <td>False</td>\n",
       "      <td>1967.0</td>\n",
       "      <td>0.035450</td>\n",
       "      <td>0.039404</td>\n",
       "      <td>soc</td>\n",
       "    </tr>\n",
       "    <tr>\n",
       "      <th>10</th>\n",
       "      <td>False</td>\n",
       "      <td>1968.0</td>\n",
       "      <td>-0.046695</td>\n",
       "      <td>0.013619</td>\n",
       "      <td>soc</td>\n",
       "    </tr>\n",
       "    <tr>\n",
       "      <th>11</th>\n",
       "      <td>False</td>\n",
       "      <td>1969.0</td>\n",
       "      <td>-0.012928</td>\n",
       "      <td>-0.008058</td>\n",
       "      <td>soc</td>\n",
       "    </tr>\n",
       "    <tr>\n",
       "      <th>...</th>\n",
       "      <td>...</td>\n",
       "      <td>...</td>\n",
       "      <td>...</td>\n",
       "      <td>...</td>\n",
       "      <td>...</td>\n",
       "    </tr>\n",
       "    <tr>\n",
       "      <th>158</th>\n",
       "      <td>True</td>\n",
       "      <td>2017.0</td>\n",
       "      <td>-0.014153</td>\n",
       "      <td>-0.021088</td>\n",
       "      <td>soc</td>\n",
       "    </tr>\n",
       "    <tr>\n",
       "      <th>159</th>\n",
       "      <td>True</td>\n",
       "      <td>2018.0</td>\n",
       "      <td>0.030191</td>\n",
       "      <td>-0.000533</td>\n",
       "      <td>soc</td>\n",
       "    </tr>\n",
       "    <tr>\n",
       "      <th>160</th>\n",
       "      <td>True</td>\n",
       "      <td>2019.0</td>\n",
       "      <td>-0.012085</td>\n",
       "      <td>0.001318</td>\n",
       "      <td>soc</td>\n",
       "    </tr>\n",
       "    <tr>\n",
       "      <th>161</th>\n",
       "      <td>True</td>\n",
       "      <td>2020.0</td>\n",
       "      <td>-0.035172</td>\n",
       "      <td>-0.005689</td>\n",
       "      <td>soc</td>\n",
       "    </tr>\n",
       "    <tr>\n",
       "      <th>162</th>\n",
       "      <td>True</td>\n",
       "      <td>2021.0</td>\n",
       "      <td>-0.006916</td>\n",
       "      <td>-0.018058</td>\n",
       "      <td>soc</td>\n",
       "    </tr>\n",
       "  </tbody>\n",
       "</table>\n",
       "<p>113 rows × 5 columns</p>\n",
       "</div>"
      ],
      "text/plain": [
       "      west    year  uncertain  rollingUncertain topic\n",
       "7    False  1964.0   0.030660         -0.014006   soc\n",
       "8    False  1966.0   0.052103          0.006481   soc\n",
       "9    False  1967.0   0.035450          0.039404   soc\n",
       "10   False  1968.0  -0.046695          0.013619   soc\n",
       "11   False  1969.0  -0.012928         -0.008058   soc\n",
       "..     ...     ...        ...               ...   ...\n",
       "158   True  2017.0  -0.014153         -0.021088   soc\n",
       "159   True  2018.0   0.030191         -0.000533   soc\n",
       "160   True  2019.0  -0.012085          0.001318   soc\n",
       "161   True  2020.0  -0.035172         -0.005689   soc\n",
       "162   True  2021.0  -0.006916         -0.018058   soc\n",
       "\n",
       "[113 rows x 5 columns]"
      ]
     },
     "execution_count": 38,
     "metadata": {},
     "output_type": "execute_result"
    }
   ],
   "source": [
    "compare_byYear.query('topic==\"soc\"')#.query('west==True')"
   ]
  },
  {
   "cell_type": "code",
   "execution_count": 39,
   "id": "34085040",
   "metadata": {},
   "outputs": [
    {
     "data": {
      "text/plain": [
       "<matplotlib.legend.Legend at 0x7faad5de5d90>"
      ]
     },
     "execution_count": 39,
     "metadata": {},
     "output_type": "execute_result"
    },
    {
     "data": {
      "image/png": "[encoded data removed]",
      "text/plain": [
       "<Figure size 432x288 with 1 Axes>"
      ]
     },
     "metadata": {
      "needs_background": "light"
     },
     "output_type": "display_data"
    }
   ],
   "source": [
    "plt.plot(compare_byYear.query('topic==\"soc\"').query('west==True')['year'],\n",
    "         compare_byYear.query('topic==\"soc\"').query('west==True')['rollingUncertain'],\n",
    "        label = 'west')\n",
    "plt.plot(compare_byYear.query('topic==\"soc\"').query('west==False')['year'],\n",
    "         compare_byYear.query('topic==\"soc\"').query('west==False')['rollingUncertain'],\n",
    "        label = 'non-west')\n",
    "plt.xlabel('Year')\n",
    "plt.ylabel('Uncertainty')\n",
    "plt.legend()"
   ]
  },
  {
   "cell_type": "code",
   "execution_count": 40,
   "id": "24cd211d",
   "metadata": {},
   "outputs": [
    {
     "data": {
      "text/plain": [
       "<matplotlib.legend.Legend at 0x7faa949e8550>"
      ]
     },
     "execution_count": 40,
     "metadata": {},
     "output_type": "execute_result"
    },
    {
     "data": {
      "image/png": "[encoded data removed]",
      "text/plain": [
       "<Figure size 432x288 with 1 Axes>"
      ]
     },
     "metadata": {
      "needs_background": "light"
     },
     "output_type": "display_data"
    }
   ],
   "source": [
    "plt.plot(compare_byYear.query('topic==\"phys\"').query('west==True')['year'],\n",
    "         compare_byYear.query('topic==\"phys\"').query('west==True')['rollingUncertain'],\n",
    "        label = 'west')\n",
    "plt.plot(compare_byYear.query('topic==\"phys\"').query('west==False')['year'],\n",
    "         compare_byYear.query('topic==\"phys\"').query('west==False')['rollingUncertain'],\n",
    "        label = 'non-west')\n",
    "plt.xlabel('Year')\n",
    "plt.ylabel('Uncertainty')\n",
    "plt.legend()"
   ]
  },
  {
   "cell_type": "code",
   "execution_count": 41,
   "id": "4de9ac44",
   "metadata": {},
   "outputs": [
    {
     "data": {
      "text/html": [
       "\n",
       "<div id=\"altair-viz-57bb86ae0db646c09b5a6c7e810a1602\"></div>\n",
       "<script type=\"text/javascript\">\n",
       "  var VEGA_DEBUG = (typeof VEGA_DEBUG == \"undefined\") ? {} : VEGA_DEBUG;\n",
       "  (function(spec, embedOpt){\n",
       "    let outputDiv = document.currentScript.previousElementSibling;\n",
       "    if (outputDiv.id !== \"altair-viz-57bb86ae0db646c09b5a6c7e810a1602\") {\n",
       "      outputDiv = document.getElementById(\"altair-viz-57bb86ae0db646c09b5a6c7e810a1602\");\n",
       "    }\n",
       "    const paths = {\n",
       "      \"vega\": \"https://cdn.jsdelivr.net/npm//vega@5?noext\",\n",
       "      \"vega-lib\": \"https://cdn.jsdelivr.net/npm//vega-lib?noext\",\n",
       "      \"vega-lite\": \"https://cdn.jsdelivr.net/npm//vega-lite@4.17.0?noext\",\n",
       "      \"vega-embed\": \"https://cdn.jsdelivr.net/npm//vega-embed@6?noext\",\n",
       "    };\n",
       "\n",
       "    function maybeLoadScript(lib, version) {\n",
       "      var key = `${lib.replace(\"-\", \"\")}_version`;\n",
       "      return (VEGA_DEBUG[key] == version) ?\n",
       "        Promise.resolve(paths[lib]) :\n",
       "        new Promise(function(resolve, reject) {\n",
       "          var s = document.createElement('script');\n",
       "          document.getElementsByTagName(\"head\")[0].appendChild(s);\n",
       "          s.async = true;\n",
       "          s.onload = () => {\n",
       "            VEGA_DEBUG[key] = version;\n",
       "            return resolve(paths[lib]);\n",
       "          };\n",
       "          s.onerror = () => reject(`Error loading script: ${paths[lib]}`);\n",
       "          s.src = paths[lib];\n",
       "        });\n",
       "    }\n",
       "\n",
       "    function showError(err) {\n",
       "      outputDiv.innerHTML = `<div class=\"error\" style=\"color:red;\">${err}</div>`;\n",
       "      throw err;\n",
       "    }\n",
       "\n",
       "    function displayChart(vegaEmbed) {\n",
       "      vegaEmbed(outputDiv, spec, embedOpt)\n",
       "        .catch(err => showError(`Javascript Error: ${err.message}<br>This usually means there's a typo in your chart specification. See the javascript console for the full traceback.`));\n",
       "    }\n",
       "\n",
       "    if(typeof define === \"function\" && define.amd) {\n",
       "      requirejs.config({paths});\n",
       "      require([\"vega-embed\"], displayChart, err => showError(`Error loading script: ${err.message}`));\n",
       "    } else {\n",
       "      maybeLoadScript(\"vega\", \"5\")\n",
       "        .then(() => maybeLoadScript(\"vega-lite\", \"4.17.0\"))\n",
       "        .then(() => maybeLoadScript(\"vega-embed\", \"6\"))\n",
       "        .catch(showError)\n",
       "        .then(() => displayChart(vegaEmbed));\n",
       "    }\n",
       "  })({\"config\": {\"view\": {\"continuousWidth\": 400, \"continuousHeight\": 300}}, \"data\": {\"name\": \"data-f24a9be99bbaf12e161a0bdf2626cfc6\"}, \"mark\": {\"type\": \"line\", \"point\": {}}, \"encoding\": {\"color\": {\"field\": \"west\", \"scale\": {\"scheme\": \"set2\"}, \"type\": \"ordinal\"}, \"x\": {\"axis\": {\"title\": \"Year\"}, \"field\": \"year\", \"scale\": {\"zero\": false}, \"type\": \"quantitative\"}, \"y\": {\"axis\": {\"title\": \"Uncertainty\"}, \"field\": \"rollingUncertain\", \"type\": \"quantitative\"}}, \"height\": 300, \"width\": 600, \"$schema\": \"https://vega.github.io/schema/vega-lite/v4.17.0.json\", \"datasets\": {\"data-f24a9be99bbaf12e161a0bdf2626cfc6\": [{\"west\": false, \"year\": 1964.0, \"uncertain\": 0.030660033928454067, \"rollingUncertain\": -0.014006443849323702, \"topic\": \"soc\"}, {\"west\": false, \"year\": 1966.0, \"uncertain\": 0.05210323809512074, \"rollingUncertain\": 0.006480597817342948, \"topic\": \"soc\"}, {\"west\": false, \"year\": 1967.0, \"uncertain\": 0.03544974809512075, \"rollingUncertain\": 0.03940434003956519, \"topic\": \"soc\"}, {\"west\": false, \"year\": 1968.0, \"uncertain\": -0.046695400793768216, \"rollingUncertain\": 0.013619195132157758, \"topic\": \"soc\"}, {\"west\": false, \"year\": 1969.0, \"uncertain\": -0.01292776190487921, \"rollingUncertain\": -0.008057804867842225, \"topic\": \"soc\"}, {\"west\": false, \"year\": 1970.0, \"uncertain\": 0.059551244761787414, \"rollingUncertain\": -2.3972645620003636e-05, \"topic\": \"soc\"}, {\"west\": false, \"year\": 1971.0, \"uncertain\": 0.13841207142845402, \"rollingUncertain\": 0.06167851809512074, \"topic\": \"soc\"}, {\"west\": false, \"year\": 1972.0, \"uncertain\": 0.022519464761787344, \"rollingUncertain\": 0.07349426031734292, \"topic\": \"soc\"}, {\"west\": false, \"year\": 1973.0, \"uncertain\": -0.005836245238212634, \"rollingUncertain\": 0.05169843031734291, \"topic\": \"soc\"}, {\"west\": false, \"year\": 1975.0, \"uncertain\": -0.01496376190487922, \"rollingUncertain\": 0.0005731525395651638, \"topic\": \"soc\"}, {\"west\": false, \"year\": 1976.0, \"uncertain\": 0.005652113095120759, \"rollingUncertain\": -0.005049298015990365, \"topic\": \"soc\"}, {\"west\": false, \"year\": 1977.0, \"uncertain\": -0.05596664523821268, \"rollingUncertain\": -0.021759431349323715, \"topic\": \"soc\"}, {\"west\": false, \"year\": 1978.0, \"uncertain\": 0.021195104761787487, \"rollingUncertain\": -0.009706475793768146, \"topic\": \"soc\"}, {\"west\": false, \"year\": 1979.0, \"uncertain\": 0.0360354339284541, \"rollingUncertain\": 0.0004212978173429675, \"topic\": \"soc\"}, {\"west\": false, \"year\": 1980.0, \"uncertain\": -0.040371021904879345, \"rollingUncertain\": 0.0056198389284540795, \"topic\": \"soc\"}, {\"west\": false, \"year\": 1981.0, \"uncertain\": -0.02874397301599038, \"rollingUncertain\": -0.01102652033080521, \"topic\": \"soc\"}, {\"west\": false, \"year\": 1982.0, \"uncertain\": -0.05591881190487927, \"rollingUncertain\": -0.041677935608582996, \"topic\": \"soc\"}, {\"west\": false, \"year\": 1984.0, \"uncertain\": 0.014188394761787348, \"rollingUncertain\": -0.023491463386360767, \"topic\": \"soc\"}, {\"west\": false, \"year\": 1985.0, \"uncertain\": -0.045464928571546076, \"rollingUncertain\": -0.029065115238212664, \"topic\": \"soc\"}, {\"west\": false, \"year\": 1986.0, \"uncertain\": -0.036402832738212654, \"rollingUncertain\": -0.022559788849323793, \"topic\": \"soc\"}, {\"west\": false, \"year\": 1987.0, \"uncertain\": -0.022057261904879277, \"rollingUncertain\": -0.034641674404879336, \"topic\": \"soc\"}, {\"west\": false, \"year\": 1988.0, \"uncertain\": 0.01698384476178738, \"rollingUncertain\": -0.013825416627101517, \"topic\": \"soc\"}, {\"west\": false, \"year\": 1989.0, \"uncertain\": 0.0362546005951207, \"rollingUncertain\": 0.010393727817342935, \"topic\": \"soc\"}, {\"west\": false, \"year\": 1990.0, \"uncertain\": -0.039180845238212636, \"rollingUncertain\": 0.0046858667062318156, \"topic\": \"soc\"}, {\"west\": false, \"year\": 1991.0, \"uncertain\": -0.04626517857154594, \"rollingUncertain\": -0.016397141071545957, \"topic\": \"soc\"}, {\"west\": false, \"year\": 1992.0, \"uncertain\": -0.015222815238212672, \"rollingUncertain\": -0.033556279682657085, \"topic\": \"soc\"}, {\"west\": false, \"year\": 1993.0, \"uncertain\": -0.06085604190487931, \"rollingUncertain\": -0.04078134523821264, \"topic\": \"soc\"}, {\"west\": false, \"year\": 1994.0, \"uncertain\": 0.11782722976178739, \"rollingUncertain\": 0.013916124206231803, \"topic\": \"soc\"}, {\"west\": false, \"year\": 1995.0, \"uncertain\": -0.06170102857154594, \"rollingUncertain\": -0.001576613571545954, \"topic\": \"soc\"}, {\"west\": false, \"year\": 1996.0, \"uncertain\": 0.014567154761787326, \"rollingUncertain\": 0.023564451984009593, \"topic\": \"soc\"}, {\"west\": false, \"year\": 1997.0, \"uncertain\": 0.035278738095120665, \"rollingUncertain\": -0.0039517119048793166, \"topic\": \"soc\"}, {\"west\": false, \"year\": 1998.0, \"uncertain\": -0.056905839682657056, \"rollingUncertain\": -0.002353315608583021, \"topic\": \"soc\"}, {\"west\": false, \"year\": 1999.0, \"uncertain\": -0.042713095238212595, \"rollingUncertain\": -0.021446732275249663, \"topic\": \"soc\"}, {\"west\": false, \"year\": 2000.0, \"uncertain\": 0.05749908571416834, \"rollingUncertain\": -0.014039949735567103, \"topic\": \"soc\"}, {\"west\": false, \"year\": 2001.0, \"uncertain\": -0.00263303968265699, \"rollingUncertain\": 0.004050983597766252, \"topic\": \"soc\"}, {\"west\": false, \"year\": 2002.0, \"uncertain\": -0.02894953095249833, \"rollingUncertain\": 0.008638838359671006, \"topic\": \"soc\"}, {\"west\": false, \"year\": 2003.0, \"uncertain\": 0.020652521428454085, \"rollingUncertain\": -0.0036433497355670788, \"topic\": \"soc\"}, {\"west\": false, \"year\": 2004.0, \"uncertain\": 0.010581864761787407, \"rollingUncertain\": 0.0007616184125810536, \"topic\": \"soc\"}, {\"west\": false, \"year\": 2005.0, \"uncertain\": 0.07252755892845408, \"rollingUncertain\": 0.03458731503956519, \"topic\": \"soc\"}, {\"west\": false, \"year\": 2006.0, \"uncertain\": 0.03068405059512075, \"rollingUncertain\": 0.037931158095120744, \"topic\": \"soc\"}, {\"west\": false, \"year\": 2007.0, \"uncertain\": -0.030440386904879213, \"rollingUncertain\": 0.024257074206231872, \"topic\": \"soc\"}, {\"west\": false, \"year\": 2008.0, \"uncertain\": 0.02085243809512083, \"rollingUncertain\": 0.007032033928454122, \"topic\": \"soc\"}, {\"west\": false, \"year\": 2011.0, \"uncertain\": -0.014052395238212528, \"rollingUncertain\": -0.007880114682656971, \"topic\": \"soc\"}, {\"west\": false, \"year\": 2012.0, \"uncertain\": -0.03719980523821256, \"rollingUncertain\": -0.010133254127101421, \"topic\": \"soc\"}, {\"west\": false, \"year\": 2013.0, \"uncertain\": -0.002164686904879254, \"rollingUncertain\": -0.017805629127101447, \"topic\": \"soc\"}, {\"west\": false, \"year\": 2014.0, \"uncertain\": -0.010195949404879223, \"rollingUncertain\": -0.016520147182657013, \"topic\": \"soc\"}, {\"west\": false, \"year\": 2015.0, \"uncertain\": -0.06619189107154594, \"rollingUncertain\": -0.02618417579376814, \"topic\": \"soc\"}, {\"west\": false, \"year\": 2016.0, \"uncertain\": 0.001463431428454065, \"rollingUncertain\": -0.024974803015990366, \"topic\": \"soc\"}, {\"west\": false, \"year\": 2017.0, \"uncertain\": 0.01868197857131121, \"rollingUncertain\": -0.015348827023926889, \"topic\": \"soc\"}, {\"west\": false, \"year\": 2018.0, \"uncertain\": -0.05474849523821268, \"rollingUncertain\": -0.011534361746149135, \"topic\": \"soc\"}, {\"west\": false, \"year\": 2020.0, \"uncertain\": -0.06193958968265703, \"rollingUncertain\": -0.0326687021165195, \"topic\": \"soc\"}, {\"west\": false, \"year\": 2021.0, \"uncertain\": -0.0775775719048793, \"rollingUncertain\": -0.06475521894191634, \"topic\": \"soc\"}, {\"west\": true, \"year\": 1961.0, \"uncertain\": 0.01361012883586149, \"rollingUncertain\": 0.035962744003409985, \"topic\": \"soc\"}, {\"west\": true, \"year\": 1962.0, \"uncertain\": 0.03447033809512079, \"rollingUncertain\": 0.023794181040447043, \"topic\": \"soc\"}, {\"west\": true, \"year\": 1963.0, \"uncertain\": 0.02610991904750165, \"rollingUncertain\": 0.024730128659494643, \"topic\": \"soc\"}, {\"west\": true, \"year\": 1964.0, \"uncertain\": -0.042951728571545944, \"rollingUncertain\": 0.005876176190358832, \"topic\": \"soc\"}, {\"west\": true, \"year\": 1965.0, \"uncertain\": 0.06662985753956518, \"rollingUncertain\": 0.01659601600517363, \"topic\": \"soc\"}, {\"west\": true, \"year\": 1966.0, \"uncertain\": 0.17856069365067634, \"rollingUncertain\": 0.06741294087289852, \"topic\": \"soc\"}, {\"west\": true, \"year\": 1967.0, \"uncertain\": 0.02189608809512067, \"rollingUncertain\": 0.0890288797617874, \"topic\": \"soc\"}, {\"west\": true, \"year\": 1968.0, \"uncertain\": -0.008234845238212551, \"rollingUncertain\": 0.06407397883586148, \"topic\": \"soc\"}, {\"west\": true, \"year\": 1969.0, \"uncertain\": 0.010862390476073125, \"rollingUncertain\": 0.008174544444327081, \"topic\": \"soc\"}, {\"west\": true, \"year\": 1970.0, \"uncertain\": -0.0631182146826571, \"rollingUncertain\": -0.020163556481598843, \"topic\": \"soc\"}, {\"west\": true, \"year\": 1971.0, \"uncertain\": -0.01159432440487923, \"rollingUncertain\": -0.021283382870487737, \"topic\": \"soc\"}, {\"west\": true, \"year\": 1972.0, \"uncertain\": 0.032693593650676256, \"rollingUncertain\": -0.014006315145620027, \"topic\": \"soc\"}, {\"west\": true, \"year\": 1973.0, \"uncertain\": -0.010721139682657005, \"rollingUncertain\": 0.0034593765210466734, \"topic\": \"soc\"}, {\"west\": true, \"year\": 1974.0, \"uncertain\": -0.0219347764882126, \"rollingUncertain\": 1.2559159935550864e-05, \"topic\": \"soc\"}, {\"west\": true, \"year\": 1975.0, \"uncertain\": -0.022720557359424715, \"rollingUncertain\": -0.018458824510098105, \"topic\": \"soc\"}, {\"west\": true, \"year\": 1976.0, \"uncertain\": -0.009352166071545959, \"rollingUncertain\": -0.01800249997306109, \"topic\": \"soc\"}, {\"west\": true, \"year\": 1977.0, \"uncertain\": -0.041918949404879224, \"rollingUncertain\": -0.0246638909452833, \"topic\": \"soc\"}, {\"west\": true, \"year\": 1978.0, \"uncertain\": 0.015273894761787421, \"rollingUncertain\": -0.01199907357154592, \"topic\": \"soc\"}, {\"west\": true, \"year\": 1979.0, \"uncertain\": -0.03928563273821262, \"rollingUncertain\": -0.02197689579376814, \"topic\": \"soc\"}, {\"west\": true, \"year\": 1980.0, \"uncertain\": 0.024311875132157768, \"rollingUncertain\": 0.00010004571857752387, \"topic\": \"soc\"}, {\"west\": true, \"year\": 1981.0, \"uncertain\": -0.03595096102768627, \"rollingUncertain\": -0.016974906211247042, \"topic\": \"soc\"}, {\"west\": true, \"year\": 1982.0, \"uncertain\": -0.04234560148821259, \"rollingUncertain\": -0.017994895794580367, \"topic\": \"soc\"}, {\"west\": true, \"year\": 1983.0, \"uncertain\": -0.03532642705639444, \"rollingUncertain\": -0.037874329857431104, \"topic\": \"soc\"}, {\"west\": true, \"year\": 1984.0, \"uncertain\": 0.07198395753956516, \"rollingUncertain\": -0.0018960236683472909, \"topic\": \"soc\"}, {\"west\": true, \"year\": 1985.0, \"uncertain\": 0.028724195237977868, \"rollingUncertain\": 0.021793908573716197, \"topic\": \"soc\"}, {\"west\": true, \"year\": 1986.0, \"uncertain\": 0.007727201984009613, \"rollingUncertain\": 0.03614511825385088, \"topic\": \"soc\"}, {\"west\": true, \"year\": 1987.0, \"uncertain\": -0.037308729960434855, \"rollingUncertain\": -0.00028577757948245835, \"topic\": \"soc\"}, {\"west\": true, \"year\": 1988.0, \"uncertain\": -0.012126958699751084, \"rollingUncertain\": -0.013902828892058775, \"topic\": \"soc\"}, {\"west\": true, \"year\": 1989.0, \"uncertain\": -0.01538735141105213, \"rollingUncertain\": -0.021607680023746023, \"topic\": \"soc\"}, {\"west\": true, \"year\": 1990.0, \"uncertain\": -0.020147378571545943, \"rollingUncertain\": -0.01588722956078305, \"topic\": \"soc\"}, {\"west\": true, \"year\": 1991.0, \"uncertain\": 0.021617836011787406, \"rollingUncertain\": -0.004638964656936889, \"topic\": \"soc\"}, {\"west\": true, \"year\": 1992.0, \"uncertain\": 0.004723268095120747, \"rollingUncertain\": 0.00206457517845407, \"topic\": \"soc\"}, {\"west\": true, \"year\": 1993.0, \"uncertain\": -0.03785796889412657, \"rollingUncertain\": -0.0038389549290728056, \"topic\": \"soc\"}, {\"west\": true, \"year\": 1994.0, \"uncertain\": -0.029958353571545915, \"rollingUncertain\": -0.021031018123517247, \"topic\": \"soc\"}, {\"west\": true, \"year\": 1995.0, \"uncertain\": -0.036131148268515656, \"rollingUncertain\": -0.03464915691139605, \"topic\": \"soc\"}, {\"west\": true, \"year\": 1996.0, \"uncertain\": -0.041900531904879273, \"rollingUncertain\": -0.035996677914980284, \"topic\": \"soc\"}, {\"west\": true, \"year\": 1997.0, \"uncertain\": -0.06228848241769974, \"rollingUncertain\": -0.04677338753036489, \"topic\": \"soc\"}, {\"west\": true, \"year\": 1998.0, \"uncertain\": 0.002199788095120725, \"rollingUncertain\": -0.0339964087424861, \"topic\": \"soc\"}, {\"west\": true, \"year\": 1999.0, \"uncertain\": 0.03891921377079638, \"rollingUncertain\": -0.00705649351726088, \"topic\": \"soc\"}, {\"west\": true, \"year\": 2000.0, \"uncertain\": -0.02854453305872537, \"rollingUncertain\": 0.004191489602397245, \"topic\": \"soc\"}, {\"west\": true, \"year\": 2001.0, \"uncertain\": -0.01934450406174204, \"rollingUncertain\": -0.00298994111655701, \"topic\": \"soc\"}, {\"west\": true, \"year\": 2002.0, \"uncertain\": 0.013922733333215975, \"rollingUncertain\": -0.011322101262417145, \"topic\": \"soc\"}, {\"west\": true, \"year\": 2003.0, \"uncertain\": 0.0011418267130068882, \"rollingUncertain\": -0.001426648005173059, \"topic\": \"soc\"}, {\"west\": true, \"year\": 2004.0, \"uncertain\": -0.018094646190593533, \"rollingUncertain\": -0.0010100287147902232, \"topic\": \"soc\"}, {\"west\": true, \"year\": 2005.0, \"uncertain\": -0.014546476817159953, \"rollingUncertain\": -0.0104997654315822, \"topic\": \"soc\"}, {\"west\": true, \"year\": 2006.0, \"uncertain\": -0.009016288916373516, \"rollingUncertain\": -0.013885803974709001, \"topic\": \"soc\"}, {\"west\": true, \"year\": 2007.0, \"uncertain\": 0.015995385595120704, \"rollingUncertain\": -0.0025224600461375888, \"topic\": \"soc\"}, {\"west\": true, \"year\": 2008.0, \"uncertain\": 0.0003057856560963468, \"rollingUncertain\": 0.0024282941116145116, \"topic\": \"soc\"}, {\"west\": true, \"year\": 2009.0, \"uncertain\": 0.008165658384975794, \"rollingUncertain\": 0.008155609878730949, \"topic\": \"soc\"}, {\"west\": true, \"year\": 2010.0, \"uncertain\": -0.011846631259717993, \"rollingUncertain\": -0.0011250624062152843, \"topic\": \"soc\"}, {\"west\": true, \"year\": 2011.0, \"uncertain\": -0.0071494709138882895, \"rollingUncertain\": -0.0036101479295434966, \"topic\": \"soc\"}, {\"west\": true, \"year\": 2012.0, \"uncertain\": 0.017969618327678905, \"rollingUncertain\": -0.0003421612819757928, \"topic\": \"soc\"}, {\"west\": true, \"year\": 2013.0, \"uncertain\": -0.016490185548290126, \"rollingUncertain\": -0.001890012711499837, \"topic\": \"soc\"}, {\"west\": true, \"year\": 2014.0, \"uncertain\": -0.027345099752101504, \"rollingUncertain\": -0.008621888990904242, \"topic\": \"soc\"}, {\"west\": true, \"year\": 2015.0, \"uncertain\": -0.031473397707348416, \"rollingUncertain\": -0.02510289433591335, \"topic\": \"soc\"}, {\"west\": true, \"year\": 2016.0, \"uncertain\": -0.017636970709910715, \"rollingUncertain\": -0.025485156056453545, \"topic\": \"soc\"}, {\"west\": true, \"year\": 2017.0, \"uncertain\": -0.014153323633274345, \"rollingUncertain\": -0.021087897350177826, \"topic\": \"soc\"}, {\"west\": true, \"year\": 2018.0, \"uncertain\": 0.030190695541929213, \"rollingUncertain\": -0.0005331996004186157, \"topic\": \"soc\"}, {\"west\": true, \"year\": 2019.0, \"uncertain\": -0.012084795238212598, \"rollingUncertain\": 0.0013175255568140902, \"topic\": \"soc\"}, {\"west\": true, \"year\": 2020.0, \"uncertain\": -0.035171944799616134, \"rollingUncertain\": -0.005688681498633173, \"topic\": \"soc\"}, {\"west\": true, \"year\": 2021.0, \"uncertain\": -0.006916195728408681, \"rollingUncertain\": -0.01805764525541247, \"topic\": \"soc\"}]}}, {\"mode\": \"vega-lite\"});\n",
       "</script>"
      ],
      "text/plain": [
       "alt.Chart(...)"
      ]
     },
     "execution_count": 41,
     "metadata": {},
     "output_type": "execute_result"
    }
   ],
   "source": [
    "alt.Chart(compare_byYear.query('topic==\"soc\"')).mark_line(point=alt.OverlayMarkDef()).encode(\n",
    "    alt.X('year',scale=alt.Scale(zero=False),axis=alt.Axis(title='Year')),\n",
    "    alt.Y('rollingUncertain',axis=alt.Axis(title='Uncertainty')),\n",
    "    color=alt.Color('west:O',scale=alt.Scale(scheme='set2'))\n",
    ").properties(width=600,height=300)"
   ]
  },
  {
   "cell_type": "code",
   "execution_count": 42,
   "id": "0d00132c",
   "metadata": {},
   "outputs": [
    {
     "data": {
      "text/html": [
       "\n",
       "<div id=\"altair-viz-61a3d8a6feb0480d9ac340dd22f3ea18\"></div>\n",
       "<script type=\"text/javascript\">\n",
       "  var VEGA_DEBUG = (typeof VEGA_DEBUG == \"undefined\") ? {} : VEGA_DEBUG;\n",
       "  (function(spec, embedOpt){\n",
       "    let outputDiv = document.currentScript.previousElementSibling;\n",
       "    if (outputDiv.id !== \"altair-viz-61a3d8a6feb0480d9ac340dd22f3ea18\") {\n",
       "      outputDiv = document.getElementById(\"altair-viz-61a3d8a6feb0480d9ac340dd22f3ea18\");\n",
       "    }\n",
       "    const paths = {\n",
       "      \"vega\": \"https://cdn.jsdelivr.net/npm//vega@5?noext\",\n",
       "      \"vega-lib\": \"https://cdn.jsdelivr.net/npm//vega-lib?noext\",\n",
       "      \"vega-lite\": \"https://cdn.jsdelivr.net/npm//vega-lite@4.17.0?noext\",\n",
       "      \"vega-embed\": \"https://cdn.jsdelivr.net/npm//vega-embed@6?noext\",\n",
       "    };\n",
       "\n",
       "    function maybeLoadScript(lib, version) {\n",
       "      var key = `${lib.replace(\"-\", \"\")}_version`;\n",
       "      return (VEGA_DEBUG[key] == version) ?\n",
       "        Promise.resolve(paths[lib]) :\n",
       "        new Promise(function(resolve, reject) {\n",
       "          var s = document.createElement('script');\n",
       "          document.getElementsByTagName(\"head\")[0].appendChild(s);\n",
       "          s.async = true;\n",
       "          s.onload = () => {\n",
       "            VEGA_DEBUG[key] = version;\n",
       "            return resolve(paths[lib]);\n",
       "          };\n",
       "          s.onerror = () => reject(`Error loading script: ${paths[lib]}`);\n",
       "          s.src = paths[lib];\n",
       "        });\n",
       "    }\n",
       "\n",
       "    function showError(err) {\n",
       "      outputDiv.innerHTML = `<div class=\"error\" style=\"color:red;\">${err}</div>`;\n",
       "      throw err;\n",
       "    }\n",
       "\n",
       "    function displayChart(vegaEmbed) {\n",
       "      vegaEmbed(outputDiv, spec, embedOpt)\n",
       "        .catch(err => showError(`Javascript Error: ${err.message}<br>This usually means there's a typo in your chart specification. See the javascript console for the full traceback.`));\n",
       "    }\n",
       "\n",
       "    if(typeof define === \"function\" && define.amd) {\n",
       "      requirejs.config({paths});\n",
       "      require([\"vega-embed\"], displayChart, err => showError(`Error loading script: ${err.message}`));\n",
       "    } else {\n",
       "      maybeLoadScript(\"vega\", \"5\")\n",
       "        .then(() => maybeLoadScript(\"vega-lite\", \"4.17.0\"))\n",
       "        .then(() => maybeLoadScript(\"vega-embed\", \"6\"))\n",
       "        .catch(showError)\n",
       "        .then(() => displayChart(vegaEmbed));\n",
       "    }\n",
       "  })({\"config\": {\"view\": {\"continuousWidth\": 400, \"continuousHeight\": 300}}, \"data\": {\"name\": \"data-f558c3d099cc896fc05086eb69eef143\"}, \"mark\": {\"type\": \"line\", \"point\": {}}, \"encoding\": {\"color\": {\"field\": \"west\", \"scale\": {\"scheme\": \"set2\"}, \"type\": \"ordinal\"}, \"x\": {\"axis\": {\"title\": \"Year\"}, \"field\": \"year\", \"scale\": {\"zero\": false}, \"type\": \"quantitative\"}, \"y\": {\"axis\": {\"title\": \"Uncertainty\"}, \"field\": \"rollingUncertain\", \"type\": \"quantitative\"}}, \"height\": 300, \"width\": 600, \"$schema\": \"https://vega.github.io/schema/vega-lite/v4.17.0.json\", \"datasets\": {\"data-f558c3d099cc896fc05086eb69eef143\": [{\"west\": false, \"year\": 1962.0, \"uncertain\": 0.08243714944432765, \"rollingUncertain\": null, \"topic\": \"phys\"}, {\"west\": false, \"year\": 1963.0, \"uncertain\": -0.06266058944456121, \"rollingUncertain\": null, \"topic\": \"phys\"}, {\"west\": false, \"year\": 1964.0, \"uncertain\": -0.03802683085870259, \"rollingUncertain\": -0.0060834236196453855, \"topic\": \"phys\"}, {\"west\": false, \"year\": 1965.0, \"uncertain\": -0.018661676746148492, \"rollingUncertain\": -0.0397830323498041, \"topic\": \"phys\"}, {\"west\": false, \"year\": 1966.0, \"uncertain\": -0.006910106616278361, \"rollingUncertain\": -0.021199538073709816, \"topic\": \"phys\"}, {\"west\": false, \"year\": 1967.0, \"uncertain\": -0.007936345000116696, \"rollingUncertain\": -0.011169376120847849, \"topic\": \"phys\"}, {\"west\": false, \"year\": 1968.0, \"uncertain\": -0.03076277722233897, \"rollingUncertain\": -0.01520307627957801, \"topic\": \"phys\"}, {\"west\": false, \"year\": 1969.0, \"uncertain\": -0.03650050055567228, \"rollingUncertain\": -0.025066540926042647, \"topic\": \"phys\"}, {\"west\": false, \"year\": 1970.0, \"uncertain\": -0.04187448388900564, \"rollingUncertain\": -0.036379253889005626, \"topic\": \"phys\"}, {\"west\": false, \"year\": 1971.0, \"uncertain\": -0.06529700472233899, \"rollingUncertain\": -0.0478906630556723, \"topic\": \"phys\"}, {\"west\": false, \"year\": 1972.0, \"uncertain\": -0.010585535404157131, \"rollingUncertain\": -0.039252341338500585, \"topic\": \"phys\"}, {\"west\": false, \"year\": 1973.0, \"uncertain\": 0.013463591110994377, \"rollingUncertain\": -0.02080631633850058, \"topic\": \"phys\"}, {\"west\": false, \"year\": 1974.0, \"uncertain\": -0.012407596984243763, \"rollingUncertain\": -0.0031765137591355055, \"topic\": \"phys\"}, {\"west\": false, \"year\": 1975.0, \"uncertain\": -0.038104304722338944, \"rollingUncertain\": -0.01234943686519611, \"topic\": \"phys\"}, {\"west\": false, \"year\": 1976.0, \"uncertain\": -0.03029615388900561, \"rollingUncertain\": -0.02693601853186277, \"topic\": \"phys\"}, {\"west\": false, \"year\": 1977.0, \"uncertain\": -0.004813807963079703, \"rollingUncertain\": -0.024404755524808086, \"topic\": \"phys\"}, {\"west\": false, \"year\": 1978.0, \"uncertain\": -0.04437559685196865, \"rollingUncertain\": -0.026495186234684654, \"topic\": \"phys\"}, {\"west\": false, \"year\": 1979.0, \"uncertain\": 8.860870358690098e-05, \"rollingUncertain\": -0.01636693203715382, \"topic\": \"phys\"}, {\"west\": false, \"year\": 1980.0, \"uncertain\": -0.017843633889005617, \"rollingUncertain\": -0.02071020734579579, \"topic\": \"phys\"}, {\"west\": false, \"year\": 1981.0, \"uncertain\": -0.024283080285402048, \"rollingUncertain\": -0.014012701823606921, \"topic\": \"phys\"}, {\"west\": false, \"year\": 1982.0, \"uncertain\": 0.015481452222105452, \"rollingUncertain\": -0.008881753984100738, \"topic\": \"phys\"}, {\"west\": false, \"year\": 1983.0, \"uncertain\": 0.017425515353418602, \"rollingUncertain\": 0.0028746290967073354, \"topic\": \"phys\"}, {\"west\": false, \"year\": 1984.0, \"uncertain\": 0.011998555854584092, \"rollingUncertain\": 0.01496850781003605, \"topic\": \"phys\"}, {\"west\": false, \"year\": 1985.0, \"uncertain\": 0.01140411486099438, \"rollingUncertain\": 0.013609395356332358, \"topic\": \"phys\"}, {\"west\": false, \"year\": 1986.0, \"uncertain\": 0.01658781156553979, \"rollingUncertain\": 0.013330160760372753, \"topic\": \"phys\"}, {\"west\": false, \"year\": 1987.0, \"uncertain\": -0.002905787614495836, \"rollingUncertain\": 0.008362046270679444, \"topic\": \"phys\"}, {\"west\": false, \"year\": 1988.0, \"uncertain\": 0.01099644190464516, \"rollingUncertain\": 0.008226155285229705, \"topic\": \"phys\"}, {\"west\": false, \"year\": 1989.0, \"uncertain\": -0.0023055291788607046, \"rollingUncertain\": 0.0019283750370962065, \"topic\": \"phys\"}, {\"west\": false, \"year\": 1990.0, \"uncertain\": 0.006834266517498411, \"rollingUncertain\": 0.005175059747760956, \"topic\": \"phys\"}, {\"west\": false, \"year\": 1991.0, \"uncertain\": -0.009958534316356071, \"rollingUncertain\": -0.0018099323259061217, \"topic\": \"phys\"}, {\"west\": false, \"year\": 1992.0, \"uncertain\": 0.017889097200737947, \"rollingUncertain\": 0.004921609800626762, \"topic\": \"phys\"}, {\"west\": false, \"year\": 1993.0, \"uncertain\": 0.014221979392244372, \"rollingUncertain\": 0.007384180758875415, \"topic\": \"phys\"}, {\"west\": false, \"year\": 1994.0, \"uncertain\": 0.023264648314384156, \"rollingUncertain\": 0.01845857496912216, \"topic\": \"phys\"}, {\"west\": false, \"year\": 1995.0, \"uncertain\": -0.001512035972338982, \"rollingUncertain\": 0.011991530578096515, \"topic\": \"phys\"}, {\"west\": false, \"year\": 1996.0, \"uncertain\": 0.010528891732884904, \"rollingUncertain\": 0.010760501358310026, \"topic\": \"phys\"}, {\"west\": false, \"year\": 1997.0, \"uncertain\": 0.019748371760711897, \"rollingUncertain\": 0.009588409173752607, \"topic\": \"phys\"}, {\"west\": false, \"year\": 1998.0, \"uncertain\": -0.013518599040520801, \"rollingUncertain\": 0.005586221484358667, \"topic\": \"phys\"}, {\"west\": false, \"year\": 1999.0, \"uncertain\": -0.00655790120292149, \"rollingUncertain\": -0.00010937616091013143, \"topic\": \"phys\"}, {\"west\": false, \"year\": 2000.0, \"uncertain\": 0.009209632248560501, \"rollingUncertain\": -0.0036222893316272633, \"topic\": \"phys\"}, {\"west\": false, \"year\": 2001.0, \"uncertain\": 0.004749156717055003, \"rollingUncertain\": 0.0024669625875646715, \"topic\": \"phys\"}, {\"west\": false, \"year\": 2002.0, \"uncertain\": 0.021523208403865263, \"rollingUncertain\": 0.011827332456493589, \"topic\": \"phys\"}, {\"west\": false, \"year\": 2003.0, \"uncertain\": 0.013414981954615768, \"rollingUncertain\": 0.013229115691845345, \"topic\": \"phys\"}, {\"west\": false, \"year\": 2004.0, \"uncertain\": -0.0019374025164566322, \"rollingUncertain\": 0.011000262614008133, \"topic\": \"phys\"}, {\"west\": false, \"year\": 2005.0, \"uncertain\": -0.0042343790741908305, \"rollingUncertain\": 0.0024144001213227684, \"topic\": \"phys\"}, {\"west\": false, \"year\": 2006.0, \"uncertain\": 0.012704067046666878, \"rollingUncertain\": 0.002177428485339805, \"topic\": \"phys\"}, {\"west\": false, \"year\": 2007.0, \"uncertain\": 0.004628035419170479, \"rollingUncertain\": 0.0043659077972155085, \"topic\": \"phys\"}, {\"west\": false, \"year\": 2008.0, \"uncertain\": 0.0019511021782919191, \"rollingUncertain\": 0.006427734881376425, \"topic\": \"phys\"}, {\"west\": false, \"year\": 2009.0, \"uncertain\": 0.0017657324197878077, \"rollingUncertain\": 0.002781623339083402, \"topic\": \"phys\"}, {\"west\": false, \"year\": 2010.0, \"uncertain\": -0.0007634959425770749, \"rollingUncertain\": 0.000984446218500884, \"topic\": \"phys\"}, {\"west\": false, \"year\": 2011.0, \"uncertain\": 0.0010619285013452329, \"rollingUncertain\": 0.0006880549928519886, \"topic\": \"phys\"}, {\"west\": false, \"year\": 2012.0, \"uncertain\": 0.009694112605459326, \"rollingUncertain\": 0.003330848388075828, \"topic\": \"phys\"}, {\"west\": false, \"year\": 2013.0, \"uncertain\": 0.01296590997064348, \"rollingUncertain\": 0.007907317025816013, \"topic\": \"phys\"}, {\"west\": false, \"year\": 2014.0, \"uncertain\": -0.0006770869824399839, \"rollingUncertain\": 0.007327645197887607, \"topic\": \"phys\"}, {\"west\": false, \"year\": 2015.0, \"uncertain\": 0.012046691241202695, \"rollingUncertain\": 0.00811183807646873, \"topic\": \"phys\"}, {\"west\": false, \"year\": 2016.0, \"uncertain\": 0.00822315520873873, \"rollingUncertain\": 0.0065309198225004805, \"topic\": \"phys\"}, {\"west\": false, \"year\": 2017.0, \"uncertain\": 0.011090724316122569, \"rollingUncertain\": 0.010453523588687999, \"topic\": \"phys\"}, {\"west\": false, \"year\": 2018.0, \"uncertain\": 0.019733689126867376, \"rollingUncertain\": 0.013015856217242891, \"topic\": \"phys\"}, {\"west\": false, \"year\": 2019.0, \"uncertain\": 0.012780051604821513, \"rollingUncertain\": 0.014534821682603819, \"topic\": \"phys\"}, {\"west\": false, \"year\": 2020.0, \"uncertain\": 0.005439759738445349, \"rollingUncertain\": 0.01265116682337808, \"topic\": \"phys\"}, {\"west\": false, \"year\": 2021.0, \"uncertain\": 0.02211524258627348, \"rollingUncertain\": 0.013445017976513448, \"topic\": \"phys\"}, {\"west\": true, \"year\": 1961.0, \"uncertain\": 0.010598729268889107, \"rollingUncertain\": 0.013606451210343115, \"topic\": \"phys\"}, {\"west\": true, \"year\": 1962.0, \"uncertain\": 0.01426739211099437, \"rollingUncertain\": 0.015539459371959283, \"topic\": \"phys\"}, {\"west\": true, \"year\": 1963.0, \"uncertain\": -0.0016950370140056126, \"rollingUncertain\": 0.007723694788625955, \"topic\": \"phys\"}, {\"west\": true, \"year\": 1964.0, \"uncertain\": 0.0012628230554388442, \"rollingUncertain\": 0.004611726050809201, \"topic\": \"phys\"}, {\"west\": true, \"year\": 1965.0, \"uncertain\": -0.00023144865091043187, \"rollingUncertain\": -0.0002212208698257334, \"topic\": \"phys\"}, {\"west\": true, \"year\": 1966.0, \"uncertain\": 0.005840658584112646, \"rollingUncertain\": 0.0022906776628803527, \"topic\": \"phys\"}, {\"west\": true, \"year\": 1967.0, \"uncertain\": -0.0275444775397993, \"rollingUncertain\": -0.007311755868865695, \"topic\": \"phys\"}, {\"west\": true, \"year\": 1968.0, \"uncertain\": -0.008254428006652714, \"rollingUncertain\": -0.00998608232077979, \"topic\": \"phys\"}, {\"west\": true, \"year\": 1969.0, \"uncertain\": -0.029754002407524183, \"rollingUncertain\": -0.021850969317992065, \"topic\": \"phys\"}, {\"west\": true, \"year\": 1970.0, \"uncertain\": 0.004395972251345248, \"rollingUncertain\": -0.011204152720943883, \"topic\": \"phys\"}, {\"west\": true, \"year\": 1971.0, \"uncertain\": 0.007681696812748773, \"rollingUncertain\": -0.005892111114476721, \"topic\": \"phys\"}, {\"west\": true, \"year\": 1972.0, \"uncertain\": 0.0018845100503883105, \"rollingUncertain\": 0.004654059704827444, \"topic\": \"phys\"}, {\"west\": true, \"year\": 1973.0, \"uncertain\": 0.006130933654854009, \"rollingUncertain\": 0.005232380172663698, \"topic\": \"phys\"}, {\"west\": true, \"year\": 1974.0, \"uncertain\": -0.014397624085084104, \"rollingUncertain\": -0.0021273934599472613, \"topic\": \"phys\"}, {\"west\": true, \"year\": 1975.0, \"uncertain\": 0.0136665643868564, \"rollingUncertain\": 0.0017999579855421017, \"topic\": \"phys\"}, {\"west\": true, \"year\": 1976.0, \"uncertain\": -0.02198638666678343, \"rollingUncertain\": -0.007572482121670378, \"topic\": \"phys\"}, {\"west\": true, \"year\": 1977.0, \"uncertain\": -0.01986531020479515, \"rollingUncertain\": -0.00939504416157406, \"topic\": \"phys\"}, {\"west\": true, \"year\": 1978.0, \"uncertain\": 0.009569137777661024, \"rollingUncertain\": -0.010760853031305853, \"topic\": \"phys\"}, {\"west\": true, \"year\": 1979.0, \"uncertain\": -0.01839131722233897, \"rollingUncertain\": -0.009562496549824365, \"topic\": \"phys\"}, {\"west\": true, \"year\": 1980.0, \"uncertain\": 0.022843200678895587, \"rollingUncertain\": 0.004673673744739214, \"topic\": \"phys\"}, {\"west\": true, \"year\": 1981.0, \"uncertain\": -0.006137649222338976, \"rollingUncertain\": -0.0005619219219274533, \"topic\": \"phys\"}, {\"west\": true, \"year\": 1982.0, \"uncertain\": 0.019256819814698067, \"rollingUncertain\": 0.011987457090418227, \"topic\": \"phys\"}, {\"west\": true, \"year\": 1983.0, \"uncertain\": 0.01760022751450313, \"rollingUncertain\": 0.010239799368954075, \"topic\": \"phys\"}, {\"west\": true, \"year\": 1984.0, \"uncertain\": -0.002533921068492817, \"rollingUncertain\": 0.011441042086902794, \"topic\": \"phys\"}, {\"west\": true, \"year\": 1985.0, \"uncertain\": -0.01661241518152265, \"rollingUncertain\": -0.000515369578504112, \"topic\": \"phys\"}, {\"west\": true, \"year\": 1986.0, \"uncertain\": 0.006642367152661033, \"rollingUncertain\": -0.004167989699118145, \"topic\": \"phys\"}, {\"west\": true, \"year\": 1987.0, \"uncertain\": -0.011218044116278386, \"rollingUncertain\": -0.007062697381713334, \"topic\": \"phys\"}, {\"west\": true, \"year\": 1988.0, \"uncertain\": -0.0029129361278116273, \"rollingUncertain\": -0.00249620436380966, \"topic\": \"phys\"}, {\"west\": true, \"year\": 1989.0, \"uncertain\": 0.011667910662276404, \"rollingUncertain\": -0.0008210231939378698, \"topic\": \"phys\"}, {\"west\": true, \"year\": 1990.0, \"uncertain\": -0.008929724429546176, \"rollingUncertain\": -5.8249965027133234e-05, \"topic\": \"phys\"}, {\"west\": true, \"year\": 1991.0, \"uncertain\": 0.006837782777661033, \"rollingUncertain\": 0.0031919896701304204, \"topic\": \"phys\"}, {\"west\": true, \"year\": 1992.0, \"uncertain\": -0.010689525707187453, \"rollingUncertain\": -0.004260489119690865, \"topic\": \"phys\"}, {\"west\": true, \"year\": 1993.0, \"uncertain\": 0.004984490010365439, \"rollingUncertain\": 0.0003775823602796731, \"topic\": \"phys\"}, {\"west\": true, \"year\": 1994.0, \"uncertain\": -0.014942110325787239, \"rollingUncertain\": -0.006882382007536418, \"topic\": \"phys\"}, {\"west\": true, \"year\": 1995.0, \"uncertain\": 0.019050205571778694, \"rollingUncertain\": 0.003030861752118965, \"topic\": \"phys\"}, {\"west\": true, \"year\": 1996.0, \"uncertain\": -0.011280167681054581, \"rollingUncertain\": -0.002390690811687709, \"topic\": \"phys\"}, {\"west\": true, \"year\": 1997.0, \"uncertain\": -0.017837924301984998, \"rollingUncertain\": -0.0033559621370869617, \"topic\": \"phys\"}, {\"west\": true, \"year\": 1998.0, \"uncertain\": -0.004104955069561211, \"rollingUncertain\": -0.011074349017533597, \"topic\": \"phys\"}, {\"west\": true, \"year\": 1999.0, \"uncertain\": -0.0031800309723389597, \"rollingUncertain\": -0.008374303447961723, \"topic\": \"phys\"}, {\"west\": true, \"year\": 2000.0, \"uncertain\": 0.009103332558362764, \"rollingUncertain\": 0.0006061155054875311, \"topic\": \"phys\"}, {\"west\": true, \"year\": 2001.0, \"uncertain\": 0.008361373888772144, \"rollingUncertain\": 0.00476155849159865, \"topic\": \"phys\"}, {\"west\": true, \"year\": 2002.0, \"uncertain\": 0.008315580146082052, \"rollingUncertain\": 0.008593428864405653, \"topic\": \"phys\"}, {\"west\": true, \"year\": 2003.0, \"uncertain\": 0.01095202886819599, \"rollingUncertain\": 0.009209660967683395, \"topic\": \"phys\"}, {\"west\": true, \"year\": 2004.0, \"uncertain\": -0.007686012866278347, \"rollingUncertain\": 0.003860532049333232, \"topic\": \"phys\"}, {\"west\": true, \"year\": 2005.0, \"uncertain\": -0.0014560509140952027, \"rollingUncertain\": 0.0006033216959408135, \"topic\": \"phys\"}, {\"west\": true, \"year\": 2006.0, \"uncertain\": -0.008300742128706018, \"rollingUncertain\": -0.0058142686363598555, \"topic\": \"phys\"}, {\"west\": true, \"year\": 2007.0, \"uncertain\": -0.004311990340618549, \"rollingUncertain\": -0.004689594461139923, \"topic\": \"phys\"}, {\"west\": true, \"year\": 2008.0, \"uncertain\": -0.011051779464226863, \"rollingUncertain\": -0.007888170644517143, \"topic\": \"phys\"}, {\"west\": true, \"year\": 2009.0, \"uncertain\": -0.012500526375344434, \"rollingUncertain\": -0.009288098726729949, \"topic\": \"phys\"}, {\"west\": true, \"year\": 2010.0, \"uncertain\": 0.015717134176262443, \"rollingUncertain\": -0.002611723887769618, \"topic\": \"phys\"}, {\"west\": true, \"year\": 2011.0, \"uncertain\": -0.00421499594028768, \"rollingUncertain\": -0.00033279604645655714, \"topic\": \"phys\"}, {\"west\": true, \"year\": 2012.0, \"uncertain\": 0.013049738673352629, \"rollingUncertain\": 0.008183958969775798, \"topic\": \"phys\"}, {\"west\": true, \"year\": 2013.0, \"uncertain\": -0.0024774700853246734, \"rollingUncertain\": 0.0021190908825800916, \"topic\": \"phys\"}, {\"west\": true, \"year\": 2014.0, \"uncertain\": -0.0005367655556722806, \"rollingUncertain\": 0.0033451676774518915, \"topic\": \"phys\"}, {\"west\": true, \"year\": 2015.0, \"uncertain\": 0.006399401110994352, \"rollingUncertain\": 0.0011283884899991325, \"topic\": \"phys\"}, {\"west\": true, \"year\": 2016.0, \"uncertain\": 0.006265911038530636, \"rollingUncertain\": 0.004042848864617569, \"topic\": \"phys\"}, {\"west\": true, \"year\": 2017.0, \"uncertain\": 0.017572627258180512, \"rollingUncertain\": 0.010079313135901833, \"topic\": \"phys\"}, {\"west\": true, \"year\": 2018.0, \"uncertain\": 0.019393840198585616, \"rollingUncertain\": 0.014410792831765587, \"topic\": \"phys\"}, {\"west\": true, \"year\": 2019.0, \"uncertain\": 0.010410713414915923, \"rollingUncertain\": 0.015792393623894018, \"topic\": \"phys\"}, {\"west\": true, \"year\": 2020.0, \"uncertain\": 0.012710320412069626, \"rollingUncertain\": 0.014171624675190389, \"topic\": \"phys\"}, {\"west\": true, \"year\": 2021.0, \"uncertain\": 0.02028164771668542, \"rollingUncertain\": 0.01446756051455699, \"topic\": \"phys\"}, {\"west\": true, \"year\": 2022.0, \"uncertain\": -0.020693933889005728, \"rollingUncertain\": 0.004099344746583106, \"topic\": \"phys\"}]}}, {\"mode\": \"vega-lite\"});\n",
       "</script>"
      ],
      "text/plain": [
       "alt.Chart(...)"
      ]
     },
     "execution_count": 42,
     "metadata": {},
     "output_type": "execute_result"
    }
   ],
   "source": [
    "alt.Chart(compare_byYear.query('topic==\"phys\"')).mark_line(point=alt.OverlayMarkDef()).encode(\n",
    "    alt.X('year',scale=alt.Scale(zero=False),axis=alt.Axis(title='Year')),\n",
    "    alt.Y('rollingUncertain',axis=alt.Axis(title='Uncertainty')),\n",
    "    color=alt.Color('west:O',scale=alt.Scale(scheme='set2'))\n",
    ").properties(width=600,height=300)"
   ]
  },
  {
   "cell_type": "markdown",
   "id": "a51da025",
   "metadata": {},
   "source": [
    "# Rank"
   ]
  },
  {
   "cell_type": "code",
   "execution_count": 46,
   "id": "98fef2d2",
   "metadata": {},
   "outputs": [],
   "source": [
    "bio_wrank = pd.read_csv('/scratch/midway3/graceshaoy2/data_rank/bio_ScB_wrank.csv') # *&\n",
    "phys_wrank = pd.read_csv('/scratch/midway3/graceshaoy2/data_rank/phys_ScB_wrank.csv') # *&\n",
    "ee_wrank = pd.read_csv('/scratch/midway3/graceshaoy2/data_rank/ee_ScB_wrank.csv') # *&"
   ]
  },
  {
   "cell_type": "code",
   "execution_count": 47,
   "id": "51ed5188",
   "metadata": {},
   "outputs": [
    {
     "name": "stdout",
     "output_type": "stream",
     "text": [
      "bio\n",
      "0.9994995309520596 series null\n",
      "0.9905820618371933 journal null\n",
      "phys\n",
      "0.9995717026850766 series null\n",
      "0.9914452471664332 journal null\n",
      "ee\n",
      "0.9995283032462535 series null\n",
      "0.991535396950591 journal null\n"
     ]
    }
   ],
   "source": [
    "print(\"bio\")\n",
    "print(str(bio_wrank['seriesrank'].isnull().values.sum() / len(bio_wrank)) + \" series null\")\n",
    "print(str(bio_wrank['journalrank'].isnull().values.sum() / len(bio_wrank)) + \" journal null\")\n",
    "print(\"phys\")\n",
    "print(str(phys_wrank['seriesrank'].isnull().values.sum() / len(phys_wrank)) + \" series null\")\n",
    "print(str(phys_wrank['journalrank'].isnull().values.sum() / len(phys_wrank)) + \" journal null\")\n",
    "print(\"ee\")\n",
    "print(str(ee_wrank['seriesrank'].isnull().values.sum() / len(ee_wrank)) + \" series null\")\n",
    "print(str(ee_wrank['journalrank'].isnull().values.sum() / len(ee_wrank)) + \" journal null\")"
   ]
  },
  {
   "cell_type": "code",
   "execution_count": 48,
   "id": "51527a3f",
   "metadata": {},
   "outputs": [
    {
     "data": {
      "text/plain": [
       "(4405659, 4407865)"
      ]
     },
     "execution_count": 48,
     "metadata": {},
     "output_type": "execute_result"
    }
   ],
   "source": [
    "bio_wrank['seriesrank'].isnull().values.sum(), len(bio_wrank)"
   ]
  },
  {
   "cell_type": "code",
   "execution_count": 49,
   "id": "0fb65ebe",
   "metadata": {},
   "outputs": [],
   "source": [
    "bio_wseries = bio_wrank[~bio_wrank['seriesrank'].isnull()]\n",
    "bio_wjournal = bio_wrank[~bio_wrank['journalrank'].isnull()]\n",
    "phys_wseries = phys_wrank[~phys_wrank['seriesrank'].isnull()]\n",
    "phys_wjournal = phys_wrank[~phys_wrank['journalrank'].isnull()]\n",
    "ee_wseries = ee_wrank[~ee_wrank['seriesrank'].isnull()]\n",
    "ee_wjournal = ee_wrank[~ee_wrank['journalrank'].isnull()]"
   ]
  },
  {
   "cell_type": "code",
   "execution_count": 50,
   "id": "b64f0498",
   "metadata": {},
   "outputs": [
    {
     "data": {
      "text/plain": [
       "<matplotlib.collections.PathCollection at 0x7faa91015430>"
      ]
     },
     "execution_count": 50,
     "metadata": {},
     "output_type": "execute_result"
    },
    {
     "data": {
      "image/png": "[encoded data removed]",
      "text/plain": [
       "<Figure size 432x288 with 1 Axes>"
      ]
     },
     "metadata": {
      "needs_background": "light"
     },
     "output_type": "display_data"
    }
   ],
   "source": [
    "plt.scatter(bio_wseries.uncertain, bio_wseries.seriesrank, c = \"goldenrod\", label = \"Biology\", alpha = 0.1)\n",
    "plt.scatter(phys_wseries.uncertain, phys_wseries.seriesrank, c = \"royalblue\", label = \"Physics\", alpha = 0.1)\n",
    "plt.scatter(ee_wseries.uncertain, ee_wseries.seriesrank, c = \"purple\", label = \"EE\", alpha = 0.1)"
   ]
  },
  {
   "cell_type": "code",
   "execution_count": 51,
   "id": "96849df2",
   "metadata": {},
   "outputs": [
    {
     "data": {
      "text/plain": [
       "<matplotlib.collections.PathCollection at 0x7faa94b31400>"
      ]
     },
     "execution_count": 51,
     "metadata": {},
     "output_type": "execute_result"
    },
    {
     "data": {
      "image/png": "[encoded data removed]",
      "text/plain": [
       "<Figure size 432x288 with 1 Axes>"
      ]
     },
     "metadata": {
      "needs_background": "light"
     },
     "output_type": "display_data"
    }
   ],
   "source": [
    "plt.scatter(bio_wjournal.uncertain, bio_wjournal.journalrank, c = \"goldenrod\", label = \"Biology\", alpha = 0.1)\n",
    "plt.scatter(phys_wjournal.uncertain, phys_wjournal.journalrank, c = \"royalblue\", label = \"Physics\", alpha = 0.1)\n",
    "plt.scatter(ee_wjournal.uncertain, ee_wjournal.journalrank, c = \"purple\", label = \"EE\", alpha = 0.1)"
   ]
  },
  {
   "cell_type": "code",
   "execution_count": 9,
   "id": "f960dab8",
   "metadata": {},
   "outputs": [],
   "source": [
    "for cutoff in np.arange(1950,2020,10):\n",
    "    for df in [bio_wjournal, bio_wseries, phys_wjournal, phys_wseries, ee_wjournal, ee_wseries]:\n",
    "        after_df = df.query('year >= @cutoff')\n",
    "        #*!"
   ]
  },
  {
   "cell_type": "code",
   "execution_count": 8,
   "id": "f173cb23",
   "metadata": {},
   "outputs": [],
   "source": [
    "# print(\"##### journal #####\")\n",
    "# df = bio_wjournal\n",
    "# for cutoff in np.arange(1950, 2020, 10):\n",
    "#     late_journal = df.query('year >= @cutoff')\n",
    "#     print('cutoff =', cutoff)\n",
    "#     print('len:', len(late_journal))\n",
    "#     print('spearmanr:', \"corr\", spearmanr(df.uncertain, df.journalrank)[0:])\n",
    "#     print('pearsonr:', \"corr\", pearsonr(df.uncertain, df.journalrank))\n",
    "#     print('----')\n",
    "# print(\"##### series #####\")\n",
    "# df = bio_wseries\n",
    "# for cutoff in np.arange(1950, 2020, 10):\n",
    "#     late_series = df.query('year >= @cutoff')\n",
    "#     print('cutoff =', cutoff)\n",
    "#     print('len:', len(late_series))\n",
    "#     print('spearmanr:', \"corr\", spearmanr(df.uncertain, df.seriesrank)[0:])\n",
    "#     print('pearsonr:', \"corr\", pearsonr(df.uncertain, df.seriesrank))\n",
    "#     print('----')"
   ]
  },
  {
   "cell_type": "markdown",
   "id": "e8a74d33",
   "metadata": {},
   "source": [
    "# Citation Count"
   ]
  },
  {
   "cell_type": "code",
   "execution_count": 53,
   "id": "3fed7ea9",
   "metadata": {},
   "outputs": [],
   "source": [
    "bio_wcitation = pd.read_csv(\"data_citation/bio_ScB_wcitation.csv\").rename(columns = {\"Unnamed: 0\":\"paperid\"}) # *&\n",
    "phys_wcitation = pd.read_csv(\"data_citation/phys_ScB_wcitation.csv\").set_index(\"Unnamed: 0\").rename(columns = {\"Unnamed: 0\":\"paperid\"}) # *&\n",
    "ee_wcitation = pd.read_csv(\"data_citation/ee_ScB_wcitation.csv\").set_index(\"Unnamed: 0\").rename(columns = {\"Unnamed: 0\":\"paperid\"}) # *&"
   ]
  },
  {
   "cell_type": "markdown",
   "id": "4f28aed2",
   "metadata": {},
   "source": [
    "### for specific year"
   ]
  },
  {
   "cell_type": "markdown",
   "id": "9403c4b1",
   "metadata": {},
   "source": [
    "#### 2000"
   ]
  },
  {
   "cell_type": "code",
   "execution_count": 54,
   "id": "d8ff8a3d",
   "metadata": {},
   "outputs": [],
   "source": [
    "bio2000 = bio_wcitation.query('year==2000').query('citation_count > 10')\n",
    "phys2000 = phys_wcitation.query('year==2000').query('citation_count > 10')\n",
    "ee2000 = ee_wcitation.query('year==2000').query('citation_count > 10')"
   ]
  },
  {
   "cell_type": "code",
   "execution_count": 55,
   "id": "9527220d",
   "metadata": {},
   "outputs": [
    {
     "data": {
      "text/plain": [
       "<matplotlib.collections.PathCollection at 0x7faa91020ca0>"
      ]
     },
     "execution_count": 55,
     "metadata": {},
     "output_type": "execute_result"
    },
    {
     "data": {
      "image/png": "[encoded data removed]",
      "text/plain": [
       "<Figure size 432x288 with 1 Axes>"
      ]
     },
     "metadata": {
      "needs_background": "light"
     },
     "output_type": "display_data"
    }
   ],
   "source": [
    "plt.scatter(bio2000.uncertain, bio2000.citation_count, c = \"goldenrod\", label = \"Biology\", alpha = 0.1)\n",
    "plt.scatter(phys2000.uncertain, phys2000.citation_count, c = \"royalblue\", label = \"Physics\", alpha = 0.1)\n",
    "plt.scatter(ee2000.uncertain, ee2000.citation_count, c = \"purple\", label = \"EE\", alpha = 0.1)"
   ]
  },
  {
   "cell_type": "code",
   "execution_count": 56,
   "id": "be0fb1ff",
   "metadata": {},
   "outputs": [
    {
     "data": {
      "text/plain": [
       "(SpearmanrResult(correlation=0.037746968189278654, pvalue=0.4691402318258596),\n",
       " (-0.02827596731698838, 0.587703362964446))"
      ]
     },
     "execution_count": 56,
     "metadata": {},
     "output_type": "execute_result"
    }
   ],
   "source": [
    "bio2000 = bio2000.dropna()\n",
    "spearmanr(bio2000.uncertain, bio2000.citation_count), pearsonr(bio2000.uncertain, bio2000.citation_count)"
   ]
  },
  {
   "cell_type": "code",
   "execution_count": 57,
   "id": "0097601b",
   "metadata": {},
   "outputs": [
    {
     "data": {
      "text/plain": [
       "(SpearmanrResult(correlation=0.08251622314456657, pvalue=0.39143719462886994),\n",
       " (0.11581242395650967, 0.2282672801233625))"
      ]
     },
     "execution_count": 57,
     "metadata": {},
     "output_type": "execute_result"
    }
   ],
   "source": [
    "phys2000 = phys2000.dropna()\n",
    "spearmanr(phys2000.uncertain, phys2000.citation_count), pearsonr(phys2000.uncertain, phys2000.citation_count)"
   ]
  },
  {
   "cell_type": "code",
   "execution_count": 58,
   "id": "2e778bcf",
   "metadata": {
    "scrolled": true
   },
   "outputs": [
    {
     "data": {
      "text/plain": [
       "(SpearmanrResult(correlation=0.3140507784508279, pvalue=0.2960358276673091),\n",
       " (0.0247135270118269, 0.9361271244084345))"
      ]
     },
     "execution_count": 58,
     "metadata": {},
     "output_type": "execute_result"
    }
   ],
   "source": [
    "ee2000 = ee2000.dropna()\n",
    "spearmanr(ee2000.uncertain, ee2000.citation_count), pearsonr(ee2000.uncertain, ee2000.citation_count)"
   ]
  },
  {
   "cell_type": "markdown",
   "id": "ae962d0c",
   "metadata": {},
   "source": [
    "#### 2010"
   ]
  },
  {
   "cell_type": "code",
   "execution_count": 59,
   "id": "82e10c0a",
   "metadata": {},
   "outputs": [],
   "source": [
    "bio2010 = bio_wcitation.query('year==2010')#.query('citation_count > 10')\n",
    "phys2010 = phys_wcitation.query('year==2010')#.query('citation_count > 10')\n",
    "ee2010 = ee_wcitation.query('year==2010')#.query('citation_count > 20')"
   ]
  },
  {
   "cell_type": "code",
   "execution_count": 60,
   "id": "c5070688",
   "metadata": {},
   "outputs": [
    {
     "data": {
      "text/plain": [
       "<matplotlib.collections.PathCollection at 0x7faa8583de80>"
      ]
     },
     "execution_count": 60,
     "metadata": {},
     "output_type": "execute_result"
    },
    {
     "data": {
      "image/png": "[encoded data removed]",
      "text/plain": [
       "<Figure size 432x288 with 1 Axes>"
      ]
     },
     "metadata": {
      "needs_background": "light"
     },
     "output_type": "display_data"
    }
   ],
   "source": [
    "plt.scatter(bio2010.uncertain, bio2010.citation_count, c = \"goldenrod\", label = \"Biology\", alpha = 0.1)\n",
    "plt.scatter(phys2010.uncertain, phys2010.citation_count, c = \"royalblue\", label = \"Physics\", alpha = 0.1)\n",
    "plt.scatter(ee2010.uncertain, ee2010.citation_count, c = \"purple\", label = \"EE\", alpha = 0.1)"
   ]
  },
  {
   "cell_type": "code",
   "execution_count": 61,
   "id": "348a17d9",
   "metadata": {},
   "outputs": [
    {
     "data": {
      "text/plain": [
       "(SpearmanrResult(correlation=-0.02186071244004249, pvalue=0.1490962682059756),\n",
       " (-0.012547065990049868, 0.4076725640161628))"
      ]
     },
     "execution_count": 61,
     "metadata": {},
     "output_type": "execute_result"
    }
   ],
   "source": [
    "bio2010 = bio2010.dropna()\n",
    "spearmanr(bio2010.uncertain, bio2010.citation_count), pearsonr(bio2010.uncertain, bio2010.citation_count)"
   ]
  },
  {
   "cell_type": "code",
   "execution_count": 62,
   "id": "992443c6",
   "metadata": {},
   "outputs": [
    {
     "data": {
      "text/plain": [
       "(SpearmanrResult(correlation=-0.003776958740599491, pvalue=0.8799321056762586),\n",
       " (-0.016042803832648493, 0.5210983923345001))"
      ]
     },
     "execution_count": 62,
     "metadata": {},
     "output_type": "execute_result"
    }
   ],
   "source": [
    "phys2010 = phys2010.dropna()\n",
    "spearmanr(phys2010.uncertain, phys2010.citation_count), pearsonr(phys2010.uncertain, phys2010.citation_count)"
   ]
  },
  {
   "cell_type": "code",
   "execution_count": 63,
   "id": "12446ac4",
   "metadata": {
    "scrolled": true
   },
   "outputs": [
    {
     "data": {
      "text/plain": [
       "(SpearmanrResult(correlation=0.03186132578516572, pvalue=0.6608702268082518),\n",
       " (-0.05231347933470928, 0.47113286692316964))"
      ]
     },
     "execution_count": 63,
     "metadata": {},
     "output_type": "execute_result"
    }
   ],
   "source": [
    "ee2010 = ee2010.dropna()\n",
    "spearmanr(ee2010.uncertain, ee2010.citation_count), pearsonr(ee2010.uncertain, ee2010.citation_count)"
   ]
  },
  {
   "cell_type": "markdown",
   "id": "64d68c29",
   "metadata": {},
   "source": [
    "### uncertainty vs. cc might not show anything bc cc more related to the year"
   ]
  },
  {
   "cell_type": "code",
   "execution_count": 66,
   "id": "9adf0127",
   "metadata": {},
   "outputs": [
    {
     "data": {
      "text/html": [
       "<div>\n",
       "<style scoped>\n",
       "    .dataframe tbody tr th:only-of-type {\n",
       "        vertical-align: middle;\n",
       "    }\n",
       "\n",
       "    .dataframe tbody tr th {\n",
       "        vertical-align: top;\n",
       "    }\n",
       "\n",
       "    .dataframe thead th {\n",
       "        text-align: right;\n",
       "    }\n",
       "</style>\n",
       "<table border=\"1\" class=\"dataframe\">\n",
       "  <thead>\n",
       "    <tr style=\"text-align: right;\">\n",
       "      <th></th>\n",
       "      <th>paperid</th>\n",
       "      <th>uncertain</th>\n",
       "      <th>year</th>\n",
       "      <th>paperid</th>\n",
       "      <th>citation_count</th>\n",
       "    </tr>\n",
       "  </thead>\n",
       "  <tbody>\n",
       "    <tr>\n",
       "      <th>228</th>\n",
       "      <td>108723610</td>\n",
       "      <td>0.502893</td>\n",
       "      <td>2000</td>\n",
       "      <td>2.132013e+09</td>\n",
       "      <td>64.0</td>\n",
       "    </tr>\n",
       "    <tr>\n",
       "      <th>655</th>\n",
       "      <td>109446069</td>\n",
       "      <td>0.307083</td>\n",
       "      <td>2000</td>\n",
       "      <td>1.989393e+09</td>\n",
       "      <td>11.0</td>\n",
       "    </tr>\n",
       "    <tr>\n",
       "      <th>905</th>\n",
       "      <td>109907284</td>\n",
       "      <td>0.168804</td>\n",
       "      <td>2000</td>\n",
       "      <td>2.086841e+09</td>\n",
       "      <td>85.0</td>\n",
       "    </tr>\n",
       "    <tr>\n",
       "      <th>1214</th>\n",
       "      <td>110429986</td>\n",
       "      <td>0.277362</td>\n",
       "      <td>2000</td>\n",
       "      <td>2.020349e+09</td>\n",
       "      <td>14.0</td>\n",
       "    </tr>\n",
       "    <tr>\n",
       "      <th>1477</th>\n",
       "      <td>110835943</td>\n",
       "      <td>0.195898</td>\n",
       "      <td>2000</td>\n",
       "      <td>2.971552e+09</td>\n",
       "      <td>14.0</td>\n",
       "    </tr>\n",
       "    <tr>\n",
       "      <th>...</th>\n",
       "      <td>...</td>\n",
       "      <td>...</td>\n",
       "      <td>...</td>\n",
       "      <td>...</td>\n",
       "      <td>...</td>\n",
       "    </tr>\n",
       "    <tr>\n",
       "      <th>3819411</th>\n",
       "      <td>235736119</td>\n",
       "      <td>0.194125</td>\n",
       "      <td>2000</td>\n",
       "      <td>2.114742e+09</td>\n",
       "      <td>37.0</td>\n",
       "    </tr>\n",
       "    <tr>\n",
       "      <th>3819524</th>\n",
       "      <td>236145235</td>\n",
       "      <td>0.485945</td>\n",
       "      <td>2000</td>\n",
       "      <td>2.334052e+09</td>\n",
       "      <td>17.0</td>\n",
       "    </tr>\n",
       "    <tr>\n",
       "      <th>3819791</th>\n",
       "      <td>237064887</td>\n",
       "      <td>0.158022</td>\n",
       "      <td>2000</td>\n",
       "      <td>2.187934e+09</td>\n",
       "      <td>31.0</td>\n",
       "    </tr>\n",
       "    <tr>\n",
       "      <th>3819811</th>\n",
       "      <td>237147468</td>\n",
       "      <td>0.471460</td>\n",
       "      <td>2000</td>\n",
       "      <td>1.505612e+09</td>\n",
       "      <td>58.0</td>\n",
       "    </tr>\n",
       "    <tr>\n",
       "      <th>3820185</th>\n",
       "      <td>238533009</td>\n",
       "      <td>0.468213</td>\n",
       "      <td>2000</td>\n",
       "      <td>2.066873e+09</td>\n",
       "      <td>26.0</td>\n",
       "    </tr>\n",
       "  </tbody>\n",
       "</table>\n",
       "<p>370 rows × 5 columns</p>\n",
       "</div>"
      ],
      "text/plain": [
       "           paperid  uncertain  year       paperid  citation_count\n",
       "228      108723610   0.502893  2000  2.132013e+09            64.0\n",
       "655      109446069   0.307083  2000  1.989393e+09            11.0\n",
       "905      109907284   0.168804  2000  2.086841e+09            85.0\n",
       "1214     110429986   0.277362  2000  2.020349e+09            14.0\n",
       "1477     110835943   0.195898  2000  2.971552e+09            14.0\n",
       "...            ...        ...   ...           ...             ...\n",
       "3819411  235736119   0.194125  2000  2.114742e+09            37.0\n",
       "3819524  236145235   0.485945  2000  2.334052e+09            17.0\n",
       "3819791  237064887   0.158022  2000  2.187934e+09            31.0\n",
       "3819811  237147468   0.471460  2000  1.505612e+09            58.0\n",
       "3820185  238533009   0.468213  2000  2.066873e+09            26.0\n",
       "\n",
       "[370 rows x 5 columns]"
      ]
     },
     "execution_count": 66,
     "metadata": {},
     "output_type": "execute_result"
    }
   ],
   "source": [
    "bio2000"
   ]
  },
  {
   "cell_type": "code",
   "execution_count": 64,
   "id": "85ac34cb",
   "metadata": {},
   "outputs": [
    {
     "ename": "AttributeError",
     "evalue": "'DataFrame' object has no attribute 'uncertainty'",
     "output_type": "error",
     "traceback": [
      "\u001b[0;31m---------------------------------------------------------------------------\u001b[0m",
      "\u001b[0;31mAttributeError\u001b[0m                            Traceback (most recent call last)",
      "\u001b[0;32m/scratch/local/jobs/8173/ipykernel_719367/3487343547.py\u001b[0m in \u001b[0;36m<module>\u001b[0;34m\u001b[0m\n\u001b[0;32m----> 1\u001b[0;31m \u001b[0mplt\u001b[0m\u001b[0;34m.\u001b[0m\u001b[0mscatter\u001b[0m\u001b[0;34m(\u001b[0m\u001b[0mbio2000\u001b[0m\u001b[0;34m.\u001b[0m\u001b[0muncertainty\u001b[0m\u001b[0;34m)\u001b[0m\u001b[0;34m\u001b[0m\u001b[0;34m\u001b[0m\u001b[0m\n\u001b[0m",
      "\u001b[0;32m/software/python-anaconda-2020.11-el8-x86_64/lib/python3.8/site-packages/pandas/core/generic.py\u001b[0m in \u001b[0;36m__getattr__\u001b[0;34m(self, name)\u001b[0m\n\u001b[1;32m   5485\u001b[0m         ):\n\u001b[1;32m   5486\u001b[0m             \u001b[0;32mreturn\u001b[0m \u001b[0mself\u001b[0m\u001b[0;34m[\u001b[0m\u001b[0mname\u001b[0m\u001b[0;34m]\u001b[0m\u001b[0;34m\u001b[0m\u001b[0;34m\u001b[0m\u001b[0m\n\u001b[0;32m-> 5487\u001b[0;31m         \u001b[0;32mreturn\u001b[0m \u001b[0mobject\u001b[0m\u001b[0;34m.\u001b[0m\u001b[0m__getattribute__\u001b[0m\u001b[0;34m(\u001b[0m\u001b[0mself\u001b[0m\u001b[0;34m,\u001b[0m \u001b[0mname\u001b[0m\u001b[0;34m)\u001b[0m\u001b[0;34m\u001b[0m\u001b[0;34m\u001b[0m\u001b[0m\n\u001b[0m\u001b[1;32m   5488\u001b[0m \u001b[0;34m\u001b[0m\u001b[0m\n\u001b[1;32m   5489\u001b[0m     \u001b[0;32mdef\u001b[0m \u001b[0m__setattr__\u001b[0m\u001b[0;34m(\u001b[0m\u001b[0mself\u001b[0m\u001b[0;34m,\u001b[0m \u001b[0mname\u001b[0m\u001b[0;34m:\u001b[0m \u001b[0mstr\u001b[0m\u001b[0;34m,\u001b[0m \u001b[0mvalue\u001b[0m\u001b[0;34m)\u001b[0m \u001b[0;34m->\u001b[0m \u001b[0;32mNone\u001b[0m\u001b[0;34m:\u001b[0m\u001b[0;34m\u001b[0m\u001b[0;34m\u001b[0m\u001b[0m\n",
      "\u001b[0;31mAttributeError\u001b[0m: 'DataFrame' object has no attribute 'uncertainty'"
     ]
    }
   ],
   "source": [
    "plt.scatter(bio2000.uncertainty)"
   ]
  },
  {
   "cell_type": "code",
   "execution_count": 65,
   "id": "5a24a8c2",
   "metadata": {},
   "outputs": [
    {
     "data": {
      "text/plain": [
       "<matplotlib.collections.PathCollection at 0x7faa786d1f70>"
      ]
     },
     "execution_count": 65,
     "metadata": {},
     "output_type": "execute_result"
    },
    {
     "data": {
      "image/png": "[encoded data removed]",
      "text/plain": [
       "<Figure size 432x288 with 1 Axes>"
      ]
     },
     "metadata": {
      "needs_background": "light"
     },
     "output_type": "display_data"
    }
   ],
   "source": [
    "plt.scatter(bio_wcitation.year, bio_wcitation.citation_count)\n",
    "# uncertainty vs. cc might not show anything bc cc more related to the year"
   ]
  },
  {
   "cell_type": "code",
   "execution_count": 240,
   "id": "ee517f9f",
   "metadata": {},
   "outputs": [],
   "source": [
    "bio_cc_dict = bio_wcitation[[\"year\",\"citation_count\"]].groupby(\"year\").sum().to_dict()['citation_count']\n",
    "phys_cc_dict = phys_wcitation[[\"year\",\"citation_count\"]].groupby(\"year\").sum().to_dict()['citation_count']\n",
    "ee_cc_dict = ee_wcitation[[\"year\",\"citation_count\"]].groupby(\"year\").sum().to_dict()['citation_count']\n",
    "\n",
    "# bio_cc_dict"
   ]
  },
  {
   "cell_type": "code",
   "execution_count": 36,
   "id": "58d101f1",
   "metadata": {},
   "outputs": [],
   "source": [
    "def cc_prop(df, cc_dict):\n",
    "    res = []\n",
    "    for i in df.index:\n",
    "        if cc_dict[df.year[i]] == 0:\n",
    "            res.append(0)\n",
    "        else:\n",
    "            res.append(df.citation_count[i]/cc_dict[df.year[i]])\n",
    "    return res"
   ]
  },
  {
   "cell_type": "code",
   "execution_count": 30,
   "id": "20043592",
   "metadata": {},
   "outputs": [
    {
     "data": {
      "text/html": [
       "<div>\n",
       "<style scoped>\n",
       "    .dataframe tbody tr th:only-of-type {\n",
       "        vertical-align: middle;\n",
       "    }\n",
       "\n",
       "    .dataframe tbody tr th {\n",
       "        vertical-align: top;\n",
       "    }\n",
       "\n",
       "    .dataframe thead th {\n",
       "        text-align: right;\n",
       "    }\n",
       "</style>\n",
       "<table border=\"1\" class=\"dataframe\">\n",
       "  <thead>\n",
       "    <tr style=\"text-align: right;\">\n",
       "      <th></th>\n",
       "      <th>paperid</th>\n",
       "      <th>uncertain</th>\n",
       "      <th>year</th>\n",
       "      <th>citation_count</th>\n",
       "      <th>prop_cc</th>\n",
       "    </tr>\n",
       "  </thead>\n",
       "  <tbody>\n",
       "    <tr>\n",
       "      <th>4408079</th>\n",
       "      <td>3156839789</td>\n",
       "      <td>0.991331</td>\n",
       "      <td>2021</td>\n",
       "      <td>0.0</td>\n",
       "      <td>0.0</td>\n",
       "    </tr>\n",
       "    <tr>\n",
       "      <th>1604250</th>\n",
       "      <td>2955372003</td>\n",
       "      <td>0.084900</td>\n",
       "      <td>2019</td>\n",
       "      <td>0.0</td>\n",
       "      <td>0.0</td>\n",
       "    </tr>\n",
       "    <tr>\n",
       "      <th>1604255</th>\n",
       "      <td>2955372853</td>\n",
       "      <td>0.049155</td>\n",
       "      <td>2019</td>\n",
       "      <td>0.0</td>\n",
       "      <td>0.0</td>\n",
       "    </tr>\n",
       "    <tr>\n",
       "      <th>1604258</th>\n",
       "      <td>2955374072</td>\n",
       "      <td>0.943077</td>\n",
       "      <td>2019</td>\n",
       "      <td>0.0</td>\n",
       "      <td>0.0</td>\n",
       "    </tr>\n",
       "    <tr>\n",
       "      <th>1604259</th>\n",
       "      <td>2955374082</td>\n",
       "      <td>0.757684</td>\n",
       "      <td>2019</td>\n",
       "      <td>0.0</td>\n",
       "      <td>0.0</td>\n",
       "    </tr>\n",
       "    <tr>\n",
       "      <th>...</th>\n",
       "      <td>...</td>\n",
       "      <td>...</td>\n",
       "      <td>...</td>\n",
       "      <td>...</td>\n",
       "      <td>...</td>\n",
       "    </tr>\n",
       "    <tr>\n",
       "      <th>4406677</th>\n",
       "      <td>2981649924</td>\n",
       "      <td>0.245042</td>\n",
       "      <td>2020</td>\n",
       "      <td>NaN</td>\n",
       "      <td>NaN</td>\n",
       "    </tr>\n",
       "    <tr>\n",
       "      <th>4406688</th>\n",
       "      <td>2981652790</td>\n",
       "      <td>0.191188</td>\n",
       "      <td>2019</td>\n",
       "      <td>NaN</td>\n",
       "      <td>NaN</td>\n",
       "    </tr>\n",
       "    <tr>\n",
       "      <th>4406748</th>\n",
       "      <td>2981666593</td>\n",
       "      <td>0.790390</td>\n",
       "      <td>2019</td>\n",
       "      <td>NaN</td>\n",
       "      <td>NaN</td>\n",
       "    </tr>\n",
       "    <tr>\n",
       "      <th>4407992</th>\n",
       "      <td>3156789756</td>\n",
       "      <td>0.890433</td>\n",
       "      <td>2021</td>\n",
       "      <td>NaN</td>\n",
       "      <td>NaN</td>\n",
       "    </tr>\n",
       "    <tr>\n",
       "      <th>4408056</th>\n",
       "      <td>3156829294</td>\n",
       "      <td>0.468636</td>\n",
       "      <td>2021</td>\n",
       "      <td>NaN</td>\n",
       "      <td>NaN</td>\n",
       "    </tr>\n",
       "  </tbody>\n",
       "</table>\n",
       "<p>4408080 rows × 5 columns</p>\n",
       "</div>"
      ],
      "text/plain": [
       "            paperid  uncertain  year  citation_count  prop_cc\n",
       "4408079  3156839789   0.991331  2021             0.0      0.0\n",
       "1604250  2955372003   0.084900  2019             0.0      0.0\n",
       "1604255  2955372853   0.049155  2019             0.0      0.0\n",
       "1604258  2955374072   0.943077  2019             0.0      0.0\n",
       "1604259  2955374082   0.757684  2019             0.0      0.0\n",
       "...             ...        ...   ...             ...      ...\n",
       "4406677  2981649924   0.245042  2020             NaN      NaN\n",
       "4406688  2981652790   0.191188  2019             NaN      NaN\n",
       "4406748  2981666593   0.790390  2019             NaN      NaN\n",
       "4407992  3156789756   0.890433  2021             NaN      NaN\n",
       "4408056  3156829294   0.468636  2021             NaN      NaN\n",
       "\n",
       "[4408080 rows x 5 columns]"
      ]
     },
     "execution_count": 30,
     "metadata": {},
     "output_type": "execute_result"
    }
   ],
   "source": [
    "bio_wcitation.sort_values(\"prop_cc\")"
   ]
  },
  {
   "cell_type": "code",
   "execution_count": 37,
   "id": "0e78719e",
   "metadata": {},
   "outputs": [
    {
     "data": {
      "text/html": [
       "<div>\n",
       "<style scoped>\n",
       "    .dataframe tbody tr th:only-of-type {\n",
       "        vertical-align: middle;\n",
       "    }\n",
       "\n",
       "    .dataframe tbody tr th {\n",
       "        vertical-align: top;\n",
       "    }\n",
       "\n",
       "    .dataframe thead th {\n",
       "        text-align: right;\n",
       "    }\n",
       "</style>\n",
       "<table border=\"1\" class=\"dataframe\">\n",
       "  <thead>\n",
       "    <tr style=\"text-align: right;\">\n",
       "      <th></th>\n",
       "      <th>paperid</th>\n",
       "      <th>uncertain</th>\n",
       "      <th>year</th>\n",
       "      <th>citation_count</th>\n",
       "      <th>prop_cc</th>\n",
       "    </tr>\n",
       "  </thead>\n",
       "  <tbody>\n",
       "    <tr>\n",
       "      <th>4408079</th>\n",
       "      <td>3156839789</td>\n",
       "      <td>0.991331</td>\n",
       "      <td>2021</td>\n",
       "      <td>0.0</td>\n",
       "      <td>0.0</td>\n",
       "    </tr>\n",
       "    <tr>\n",
       "      <th>1604250</th>\n",
       "      <td>2955372003</td>\n",
       "      <td>0.084900</td>\n",
       "      <td>2019</td>\n",
       "      <td>0.0</td>\n",
       "      <td>0.0</td>\n",
       "    </tr>\n",
       "    <tr>\n",
       "      <th>1604255</th>\n",
       "      <td>2955372853</td>\n",
       "      <td>0.049155</td>\n",
       "      <td>2019</td>\n",
       "      <td>0.0</td>\n",
       "      <td>0.0</td>\n",
       "    </tr>\n",
       "    <tr>\n",
       "      <th>1604258</th>\n",
       "      <td>2955374072</td>\n",
       "      <td>0.943077</td>\n",
       "      <td>2019</td>\n",
       "      <td>0.0</td>\n",
       "      <td>0.0</td>\n",
       "    </tr>\n",
       "    <tr>\n",
       "      <th>1604259</th>\n",
       "      <td>2955374082</td>\n",
       "      <td>0.757684</td>\n",
       "      <td>2019</td>\n",
       "      <td>0.0</td>\n",
       "      <td>0.0</td>\n",
       "    </tr>\n",
       "    <tr>\n",
       "      <th>...</th>\n",
       "      <td>...</td>\n",
       "      <td>...</td>\n",
       "      <td>...</td>\n",
       "      <td>...</td>\n",
       "      <td>...</td>\n",
       "    </tr>\n",
       "    <tr>\n",
       "      <th>4406677</th>\n",
       "      <td>2981649924</td>\n",
       "      <td>0.245042</td>\n",
       "      <td>2020</td>\n",
       "      <td>NaN</td>\n",
       "      <td>NaN</td>\n",
       "    </tr>\n",
       "    <tr>\n",
       "      <th>4406688</th>\n",
       "      <td>2981652790</td>\n",
       "      <td>0.191188</td>\n",
       "      <td>2019</td>\n",
       "      <td>NaN</td>\n",
       "      <td>NaN</td>\n",
       "    </tr>\n",
       "    <tr>\n",
       "      <th>4406748</th>\n",
       "      <td>2981666593</td>\n",
       "      <td>0.790390</td>\n",
       "      <td>2019</td>\n",
       "      <td>NaN</td>\n",
       "      <td>NaN</td>\n",
       "    </tr>\n",
       "    <tr>\n",
       "      <th>4407992</th>\n",
       "      <td>3156789756</td>\n",
       "      <td>0.890433</td>\n",
       "      <td>2021</td>\n",
       "      <td>NaN</td>\n",
       "      <td>NaN</td>\n",
       "    </tr>\n",
       "    <tr>\n",
       "      <th>4408056</th>\n",
       "      <td>3156829294</td>\n",
       "      <td>0.468636</td>\n",
       "      <td>2021</td>\n",
       "      <td>NaN</td>\n",
       "      <td>NaN</td>\n",
       "    </tr>\n",
       "  </tbody>\n",
       "</table>\n",
       "<p>4408080 rows × 5 columns</p>\n",
       "</div>"
      ],
      "text/plain": [
       "            paperid  uncertain  year  citation_count  prop_cc\n",
       "4408079  3156839789   0.991331  2021             0.0      0.0\n",
       "1604250  2955372003   0.084900  2019             0.0      0.0\n",
       "1604255  2955372853   0.049155  2019             0.0      0.0\n",
       "1604258  2955374072   0.943077  2019             0.0      0.0\n",
       "1604259  2955374082   0.757684  2019             0.0      0.0\n",
       "...             ...        ...   ...             ...      ...\n",
       "4406677  2981649924   0.245042  2020             NaN      NaN\n",
       "4406688  2981652790   0.191188  2019             NaN      NaN\n",
       "4406748  2981666593   0.790390  2019             NaN      NaN\n",
       "4407992  3156789756   0.890433  2021             NaN      NaN\n",
       "4408056  3156829294   0.468636  2021             NaN      NaN\n",
       "\n",
       "[4408080 rows x 5 columns]"
      ]
     },
     "execution_count": 37,
     "metadata": {},
     "output_type": "execute_result"
    }
   ],
   "source": [
    "bio_wcitation[\"prop_cc\"] = cc_prop(bio_wcitation, bio_cc_dict)\n",
    "phys_wcitation[\"prop_cc\"] = cc_prop(phys_wcitation, phys_cc_dict)\n",
    "ee_wcitation[\"prop_cc\"] = cc_prop(ee_wcitation, ee_cc_dict)\n",
    "\n",
    "bio_wcitation.sort_values(\"prop_cc\")"
   ]
  },
  {
   "cell_type": "code",
   "execution_count": 38,
   "id": "ef4ebe66",
   "metadata": {},
   "outputs": [
    {
     "data": {
      "text/html": [
       "<div>\n",
       "<style scoped>\n",
       "    .dataframe tbody tr th:only-of-type {\n",
       "        vertical-align: middle;\n",
       "    }\n",
       "\n",
       "    .dataframe tbody tr th {\n",
       "        vertical-align: top;\n",
       "    }\n",
       "\n",
       "    .dataframe thead th {\n",
       "        text-align: right;\n",
       "    }\n",
       "</style>\n",
       "<table border=\"1\" class=\"dataframe\">\n",
       "  <thead>\n",
       "    <tr style=\"text-align: right;\">\n",
       "      <th></th>\n",
       "      <th>paperid</th>\n",
       "      <th>uncertain</th>\n",
       "      <th>year</th>\n",
       "      <th>citation_count</th>\n",
       "      <th>prop_cc</th>\n",
       "    </tr>\n",
       "  </thead>\n",
       "  <tbody>\n",
       "    <tr>\n",
       "      <th>4408079</th>\n",
       "      <td>3156839789</td>\n",
       "      <td>0.991331</td>\n",
       "      <td>2021</td>\n",
       "      <td>0.0</td>\n",
       "      <td>0.0</td>\n",
       "    </tr>\n",
       "    <tr>\n",
       "      <th>1604250</th>\n",
       "      <td>2955372003</td>\n",
       "      <td>0.084900</td>\n",
       "      <td>2019</td>\n",
       "      <td>0.0</td>\n",
       "      <td>0.0</td>\n",
       "    </tr>\n",
       "    <tr>\n",
       "      <th>1604255</th>\n",
       "      <td>2955372853</td>\n",
       "      <td>0.049155</td>\n",
       "      <td>2019</td>\n",
       "      <td>0.0</td>\n",
       "      <td>0.0</td>\n",
       "    </tr>\n",
       "    <tr>\n",
       "      <th>1604258</th>\n",
       "      <td>2955374072</td>\n",
       "      <td>0.943077</td>\n",
       "      <td>2019</td>\n",
       "      <td>0.0</td>\n",
       "      <td>0.0</td>\n",
       "    </tr>\n",
       "    <tr>\n",
       "      <th>1604259</th>\n",
       "      <td>2955374082</td>\n",
       "      <td>0.757684</td>\n",
       "      <td>2019</td>\n",
       "      <td>0.0</td>\n",
       "      <td>0.0</td>\n",
       "    </tr>\n",
       "    <tr>\n",
       "      <th>...</th>\n",
       "      <td>...</td>\n",
       "      <td>...</td>\n",
       "      <td>...</td>\n",
       "      <td>...</td>\n",
       "      <td>...</td>\n",
       "    </tr>\n",
       "    <tr>\n",
       "      <th>1181360</th>\n",
       "      <td>1988317992</td>\n",
       "      <td>0.975416</td>\n",
       "      <td>1840</td>\n",
       "      <td>11.0</td>\n",
       "      <td>1.0</td>\n",
       "    </tr>\n",
       "    <tr>\n",
       "      <th>3384912</th>\n",
       "      <td>2006420098</td>\n",
       "      <td>0.993821</td>\n",
       "      <td>1842</td>\n",
       "      <td>2.0</td>\n",
       "      <td>1.0</td>\n",
       "    </tr>\n",
       "    <tr>\n",
       "      <th>937323</th>\n",
       "      <td>2143990523</td>\n",
       "      <td>0.921640</td>\n",
       "      <td>1821</td>\n",
       "      <td>3.0</td>\n",
       "      <td>1.0</td>\n",
       "    </tr>\n",
       "    <tr>\n",
       "      <th>2601511</th>\n",
       "      <td>2467115401</td>\n",
       "      <td>0.984629</td>\n",
       "      <td>1872</td>\n",
       "      <td>1.0</td>\n",
       "      <td>1.0</td>\n",
       "    </tr>\n",
       "    <tr>\n",
       "      <th>2122157</th>\n",
       "      <td>2627028266</td>\n",
       "      <td>0.741126</td>\n",
       "      <td>1848</td>\n",
       "      <td>3.0</td>\n",
       "      <td>1.0</td>\n",
       "    </tr>\n",
       "  </tbody>\n",
       "</table>\n",
       "<p>4396613 rows × 5 columns</p>\n",
       "</div>"
      ],
      "text/plain": [
       "            paperid  uncertain  year  citation_count  prop_cc\n",
       "4408079  3156839789   0.991331  2021             0.0      0.0\n",
       "1604250  2955372003   0.084900  2019             0.0      0.0\n",
       "1604255  2955372853   0.049155  2019             0.0      0.0\n",
       "1604258  2955374072   0.943077  2019             0.0      0.0\n",
       "1604259  2955374082   0.757684  2019             0.0      0.0\n",
       "...             ...        ...   ...             ...      ...\n",
       "1181360  1988317992   0.975416  1840            11.0      1.0\n",
       "3384912  2006420098   0.993821  1842             2.0      1.0\n",
       "937323   2143990523   0.921640  1821             3.0      1.0\n",
       "2601511  2467115401   0.984629  1872             1.0      1.0\n",
       "2122157  2627028266   0.741126  1848             3.0      1.0\n",
       "\n",
       "[4396613 rows x 5 columns]"
      ]
     },
     "execution_count": 38,
     "metadata": {},
     "output_type": "execute_result"
    }
   ],
   "source": [
    "bio_wcitation.dropna().sort_values(\"prop_cc\")"
   ]
  },
  {
   "cell_type": "markdown",
   "id": "4b16e2e5",
   "metadata": {},
   "source": [
    "### visualizing"
   ]
  },
  {
   "cell_type": "code",
   "execution_count": 39,
   "id": "1f67b429",
   "metadata": {},
   "outputs": [
    {
     "data": {
      "text/plain": [
       "<matplotlib.collections.PathCollection at 0x7f037e445820>"
      ]
     },
     "execution_count": 39,
     "metadata": {},
     "output_type": "execute_result"
    },
    {
     "data": {
      "image/png": "[encoded data removed]",
      "text/plain": [
       "<Figure size 432x288 with 1 Axes>"
      ]
     },
     "metadata": {
      "needs_background": "light"
     },
     "output_type": "display_data"
    }
   ],
   "source": [
    "plt.scatter(bio_wcitation.uncertain, bio_wcitation.prop_cc, c = \"goldenrod\", label = \"Biology\", alpha = 0.1)\n",
    "plt.scatter(phys_wcitation.uncertain, phys_wcitation.prop_cc, c = \"royalblue\", label = \"Physics\", alpha = 0.1)\n",
    "plt.scatter(ee_wcitation.uncertain, ee_wcitation.prop_cc, c = \"purple\", label = \"EE\", alpha = 0.1)"
   ]
  },
  {
   "cell_type": "code",
   "execution_count": 31,
   "id": "737f849f",
   "metadata": {},
   "outputs": [],
   "source": [
    "bio_wcitation = bio_wcitation.dropna()"
   ]
  },
  {
   "cell_type": "code",
   "execution_count": 37,
   "id": "5fe73c01",
   "metadata": {},
   "outputs": [
    {
     "data": {
      "text/plain": [
       "SpearmanrResult(correlation=0.0005240653080555313, pvalue=0.27182684836807386)"
      ]
     },
     "execution_count": 37,
     "metadata": {},
     "output_type": "execute_result"
    }
   ],
   "source": [
    "spearmanr(bio_wcitation.uncertain, bio_wcitation.prop_cc)"
   ]
  },
  {
   "cell_type": "code",
   "execution_count": 11,
   "id": "905d106e",
   "metadata": {},
   "outputs": [],
   "source": [
    "top_bio_cc = bio_wcitation.query(\"citation_count > 100\")\n",
    "top_phys_cc = phys_wcitation.query(\"citation_count > 100\")\n",
    "top_ee_cc = ee_wcitation.query(\"citation_count > 100\")"
   ]
  },
  {
   "cell_type": "code",
   "execution_count": 12,
   "id": "b8be50e1",
   "metadata": {},
   "outputs": [
    {
     "data": {
      "text/plain": [
       "<matplotlib.collections.PathCollection at 0x7f803536c700>"
      ]
     },
     "execution_count": 12,
     "metadata": {},
     "output_type": "execute_result"
    },
    {
     "data": {
      "image/png": "[encoded data removed]",
      "text/plain": [
       "<Figure size 432x288 with 1 Axes>"
      ]
     },
     "metadata": {
      "needs_background": "light"
     },
     "output_type": "display_data"
    }
   ],
   "source": [
    "plt.scatter(top_bio_cc.uncertain, top_bio_cc.prop_cc, c = \"goldenrod\", label = \"Biology\", alpha = 0.5)\n",
    "plt.scatter(top_phys_cc.uncertain, top_phys_cc.prop_cc, c = \"royalblue\", label = \"Physics\", alpha = 0.5)\n",
    "plt.scatter(top_ee_cc.uncertain, top_ee_cc.prop_cc, c = \"purple\", label = \"EE\", alpha = 0.5)\n",
    "# *! feel like citation counts aren't linear, hit a breakthrough point -- whether hit that or not related to uncertainty?"
   ]
  },
  {
   "cell_type": "code",
   "execution_count": 36,
   "id": "f54eaaa9",
   "metadata": {},
   "outputs": [
    {
     "data": {
      "text/plain": [
       "SpearmanrResult(correlation=0.062219469284043864, pvalue=2.7830766374540446e-298)"
      ]
     },
     "execution_count": 36,
     "metadata": {},
     "output_type": "execute_result"
    }
   ],
   "source": [
    "top_bio_cc = top_bio_cc.dropna()\n",
    "spearmanr(top_bio_cc.uncertain, top_bio_cc.porp_cc)"
   ]
  }
 ],
 "metadata": {
  "kernelspec": {
   "display_name": "Python 3 (ipykernel)",
   "language": "python",
   "name": "python3"
  },
  "language_info": {
   "codemirror_mode": {
    "name": "ipython",
    "version": 3
   },
   "file_extension": ".py",
   "mimetype": "text/x-python",
   "name": "python",
   "nbconvert_exporter": "python",
   "pygments_lexer": "ipython3",
   "version": "3.8.5"
  }
 },
 "nbformat": 4,
 "nbformat_minor": 5
}
