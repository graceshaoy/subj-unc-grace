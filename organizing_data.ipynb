{
 "cells": [
  {
   "cell_type": "code",
   "execution_count": 2,
   "id": "2392f354",
   "metadata": {},
   "outputs": [],
   "source": [
    "import pandas as pd\n",
    "import json"
   ]
  },
  {
   "cell_type": "markdown",
   "id": "19b42425",
   "metadata": {},
   "source": [
    "# **CTRL F \"*&\" to find paths / variables to change**"
   ]
  },
  {
   "cell_type": "markdown",
   "id": "fc3c336c",
   "metadata": {},
   "source": [
    "load zero shot measurements"
   ]
  },
  {
   "cell_type": "code",
   "execution_count": 21,
   "id": "8a51d09e",
   "metadata": {},
   "outputs": [],
   "source": [
    "# bio_fin_wyear = pd.read_csv('/project/jevans/jamshid/mag/biology/MAX_ZS_uncertainties_years.tsv', sep='\\t', index_col=0)\n",
    "phys_fin_wyear = pd.read_csv('/project/jevans/jamshid/mag/physics/MAX_ZS_uncertainties_years.tsv', sep='\\t', index_col=0)\n",
    "# ee_fin_wyear = pd.read_csv('/project/jevans/jamshid/mag/electrical_engineering//MAX_ZS_uncertainties_years.tsv', sep='\\t', index_col=0)\n",
    "# chem_fin_wyear = pd.read_csv('/project/jevans/jamshid/mag/chemistry//MAX_ZS_uncertainties_years.tsv', sep='\\t', index_col=0)\n",
    "# cs_fin_wyear = pd.read_csv('/project/jevans/jamshid/mag/computer_science//MAX_ZS_uncertainties_years.tsv', sep='\\t', index_col=0)\n",
    "# econ_fin_wyear = pd.read_csv('/project/jevans/jamshid/mag/economics//MAX_ZS_uncertainties_years.tsv', sep='\\t', index_col=0)\n",
    "# matsci_fin_wyear = pd.read_csv('/project/jevans/jamshid/mag/materials_science//MAX_ZS_uncertainties_years.tsv', sep='\\t', index_col=0)\n",
    "# math_fin_wyear = pd.read_csv('/project/jevans/jamshid/mag/math//MAX_ZS_uncertainties_years.tsv', sep='\\t', index_col=0)\n",
    "# psych_fin_wyear = pd.read_csv('/project/jevans/jamshid/mag/psychology/ MAX_ZS_uncertainties_years.tsv', sep='\\t', index_col=0)\n",
    "soc_fin_wyear = pd.read_csv('/project/jevans/jamshid/mag/sociology/MAX_ZS_uncertainties_years.tsv', sep='\\t', index_col=0)"
   ]
  },
  {
   "cell_type": "markdown",
   "id": "bb7daa99",
   "metadata": {},
   "source": [
    "load scibert measurements"
   ]
  },
  {
   "cell_type": "code",
   "execution_count": 79,
   "id": "3f438d87",
   "metadata": {},
   "outputs": [],
   "source": [
    "bio_fin_wyear = pd.read_csv('/project/jevans/jamshid/mag/biology/MAX_ScB_uncertainties_years.tsv', sep='\\t', index_col=0)\n",
    "phys_fin_wyear = pd.read_csv('/project/jevans/jamshid/mag/physics/MAX_ScB_uncertainties_years.tsv', sep='\\t', index_col=0)\n",
    "ee_fin_wyear = pd.read_csv('/project/jevans/jamshid/mag/electrical_engineering/MAX_ScB_uncertainties_years.tsv', sep='\\t', index_col=0)\n",
    "# chem_fin_wyear = pd.read_csv('/project/jevans/jamshid/mag/chemistry/MAX_ScB_uncertainties_years.tsv', sep='\\t', index_col=0)\n",
    "# cs_fin_wyear = pd.read_csv('/project/jevans/jamshid/mag/computer_science/MAX_ScB_uncertainties_years.tsv', sep='\\t', index_col=0)\n",
    "# econ_fin_wyear = pd.read_csv('/project/jevans/jamshid/mag/economics/MAX_ScB_uncertainties_years.tsv', sep='\\t', index_col=0)\n",
    "# matsci_fin_wyear = pd.read_csv('/project/jevans/jamshid/mag/materials_science/MAX_ScB_uncertainties_years.tsv', sep='\\t', index_col=0)\n",
    "# math_fin_wyear = pd.read_csv('/project/jevans/jamshid/mag/math/MAX_ScB_uncertainties_years.tsv', sep='\\t', index_col=0)\n",
    "# psych_fin_wyear = pd.read_csv('/project/jevans/jamshid/mag/psychology/MAX_ScB_uncertainties_years.tsv', sep='\\t', index_col=0)\n",
    "soc_fin_wyear = pd.read_csv('/project/jevans/jamshid/mag/sociology/MAX_ScB_uncertainties_years.tsv', sep='\\t', index_col=0)"
   ]
  },
  {
   "cell_type": "markdown",
   "id": "1f99b0e6",
   "metadata": {},
   "source": [
    "# Uncertainty vs. Journal location"
   ]
  },
  {
   "cell_type": "markdown",
   "id": "d4ce216b",
   "metadata": {},
   "source": [
    "### getting info"
   ]
  },
  {
   "cell_type": "code",
   "execution_count": 1,
   "id": "d548f391",
   "metadata": {},
   "outputs": [],
   "source": [
    "topic_string = 'physics' # *&\n",
    "# physics_jid = journals.loc[[x for x in journals.index if journals.norm_name[x].__contains__('physic')\\\n",
    "#                             and not journals.norm_name[x].__contains__('physical')\\\n",
    "#                             and not journals.norm_name[x].__contains__('physician')]]\n",
    "# *! physic includes physicians & medical physics, physics excludes physical , ..\n",
    "\n",
    "topic_filename = \"data_journalloc/phys_loc_pids.json\"  # *&"
   ]
  },
  {
   "cell_type": "code",
   "execution_count": 3,
   "id": "d592bcd3",
   "metadata": {},
   "outputs": [],
   "source": [
    "journals = pd.read_csv('/project/jevans/MAG_Dec_2021_snapshot/mag/Journals.txt', sep='\\t', header=None, usecols=[0,2,3,5,7])\n",
    "journals.columns = [\"jid\",\"norm_name\",\"display_name\",\"publisher\",\"pcount\"]"
   ]
  },
  {
   "cell_type": "code",
   "execution_count": 28,
   "id": "ecd7db8f",
   "metadata": {},
   "outputs": [],
   "source": [
    "topic_jid = journals.loc[[x for x in journals.index if journals.norm_name[x].__contains__(topic_string)]]"
   ]
  },
  {
   "cell_type": "code",
   "execution_count": 29,
   "id": "c227a97e",
   "metadata": {},
   "outputs": [],
   "source": [
    "america_jid = set([topic_jid.jid[x] for x in topic_jid.index if topic_jid.norm_name[x].__contains__('america')])\n",
    "japan_jid = set([topic_jid.jid[x] for x in topic_jid.index if topic_jid.norm_name[x].__contains__('japan')])\n",
    "china_jid = set([topic_jid.jid[x] for x in topic_jid.index if topic_jid.norm_name[x].__contains__('chine')])\n",
    "europe_jid = set([topic_jid.jid[x] for x in topic_jid.index if topic_jid.norm_name[x].__contains__('euro')])\n",
    "britain_jid = set([topic_jid.jid[x] for x in topic_jid.index if topic_jid.norm_name[x].__contains__('brit')])\n",
    "iran_jid = set([topic_jid.jid[x] for x in topic_jid.index if topic_jid.norm_name[x].__contains__('iran')])"
   ]
  },
  {
   "cell_type": "code",
   "execution_count": 30,
   "id": "d8367c5d",
   "metadata": {},
   "outputs": [],
   "source": [
    "america_pid, japan_pid, china_pid, europe_pid, britain_pid, iran_pid = [],[],[],[],[],[]\n",
    "for x in pjid.index:\n",
    "    xjid,xpid = pjid.jid[x],pjid.pid[x]\n",
    "    if xjid in america_jid:\n",
    "        america_pid.append(xpid)\n",
    "    elif xjid in japan_jid:\n",
    "        japan_pid.append(xpid)\n",
    "    elif xjid in china_jid:\n",
    "        china_pid.append(xpid)\n",
    "    elif xjid in europe_jid:\n",
    "        europe_pid.append(xpid)\n",
    "    elif xjid in britain_jid:\n",
    "        britain_pid.append(xpid)\n",
    "    elif xjid in iran_jid:\n",
    "        iran_pid.append(xpid)"
   ]
  },
  {
   "cell_type": "code",
   "execution_count": 21,
   "id": "9643604d",
   "metadata": {},
   "outputs": [
    {
     "data": {
      "text/plain": [
       "2144637206"
      ]
     },
     "execution_count": 21,
     "metadata": {},
     "output_type": "execute_result"
    }
   ],
   "source": [
    "topic_loc_pids['america'][0]"
   ]
  },
  {
   "cell_type": "code",
   "execution_count": 31,
   "id": "99454fea",
   "metadata": {},
   "outputs": [],
   "source": [
    "topic_loc_pids = {}\n",
    "for loc in [\"america\",\"japan\",\"china\",\"europe\",\"britain\",\"iran\"]:\n",
    "    loc_pids = list(map(int, locals()[loc+\"_pid\"]))\n",
    "    topic_loc_pids[loc] = loc_pids"
   ]
  },
  {
   "cell_type": "code",
   "execution_count": 32,
   "id": "74f700e3",
   "metadata": {},
   "outputs": [],
   "source": [
    "json.dump(topic_loc_pids, open(\"data_journalloc/\"+topic_filename,\"w\"), indent=4)"
   ]
  },
  {
   "cell_type": "markdown",
   "id": "a9a2cd20",
   "metadata": {},
   "source": [
    "### merging location w uncertainty df"
   ]
  },
  {
   "cell_type": "code",
   "execution_count": 47,
   "id": "c2ca800f",
   "metadata": {},
   "outputs": [],
   "source": [
    "topic_pids_filename = 'data_journalloc/soc_loc_pids.json'  # *&\n",
    "topic_uncertain_filename = 'data_journalloc/soc_ScB_uncertain_wloc.csv'  # *&\n",
    "df = soc_fin_wyear  # *&"
   ]
  },
  {
   "cell_type": "code",
   "execution_count": 48,
   "id": "485c09b5",
   "metadata": {},
   "outputs": [],
   "source": [
    "with open(topic_pids_filename,'r') as file:\n",
    "    loc_pids = json.load(file)\n",
    "for c in loc_pids:\n",
    "    loc_pids[c] = set(loc_pids[c])"
   ]
  },
  {
   "cell_type": "code",
   "execution_count": 49,
   "id": "2d21af2d",
   "metadata": {},
   "outputs": [],
   "source": [
    "locs, pids = [],[]\n",
    "for loc in loc_pids:\n",
    "    for p in loc_pids[loc]:\n",
    "        locs.append(loc)\n",
    "        pids.append(p)\n",
    "loc_df = pd.DataFrame()\n",
    "loc_df['pid'] = pids\n",
    "loc_df['location'] = locs\n",
    "loc_df = loc_df.set_index('pid')"
   ]
  },
  {
   "cell_type": "code",
   "execution_count": 50,
   "id": "ad2a3b6b",
   "metadata": {},
   "outputs": [],
   "source": [
    "topic_uncertain_wloc = pd.merge(loc_df,df,how='left',left_index=True,right_index=True).dropna()\n",
    "topic_uncertain_wloc.to_csv(topic_uncertain_filename)"
   ]
  },
  {
   "cell_type": "markdown",
   "id": "8ebdad2d",
   "metadata": {},
   "source": [
    "# Rank"
   ]
  },
  {
   "cell_type": "code",
   "execution_count": 52,
   "id": "fa3b5b6d",
   "metadata": {},
   "outputs": [
    {
     "name": "stderr",
     "output_type": "stream",
     "text": [
      "/software/python-anaconda-2020.11-el8-x86_64/lib/python3.8/site-packages/IPython/core/interactiveshell.py:3457: DtypeWarning: Columns (3,6) have mixed types.Specify dtype option on import or set low_memory=False.\n",
      "  exec(code_obj, self.user_global_ns, self.user_ns)\n"
     ]
    }
   ],
   "source": [
    "paper_presented_rank = pd.read_csv('data_rank/paper_presented_rank.csv')"
   ]
  },
  {
   "cell_type": "code",
   "execution_count": 80,
   "id": "a17b174d",
   "metadata": {},
   "outputs": [],
   "source": [
    "df = ee_fin_wyear  # *&\n",
    "rank_filename = 'ee_ScB_wrank.csv' # *&"
   ]
  },
  {
   "cell_type": "code",
   "execution_count": 81,
   "id": "ed6c3ebf",
   "metadata": {},
   "outputs": [
    {
     "data": {
      "text/html": [
       "<div>\n",
       "<style scoped>\n",
       "    .dataframe tbody tr th:only-of-type {\n",
       "        vertical-align: middle;\n",
       "    }\n",
       "\n",
       "    .dataframe tbody tr th {\n",
       "        vertical-align: top;\n",
       "    }\n",
       "\n",
       "    .dataframe thead th {\n",
       "        text-align: right;\n",
       "    }\n",
       "</style>\n",
       "<table border=\"1\" class=\"dataframe\">\n",
       "  <thead>\n",
       "    <tr style=\"text-align: right;\">\n",
       "      <th></th>\n",
       "      <th>uncertain</th>\n",
       "      <th>2</th>\n",
       "      <th>year</th>\n",
       "      <th>Unnamed: 0</th>\n",
       "      <th>Unnamed: 0.1</th>\n",
       "      <th>paperid</th>\n",
       "      <th>journalid</th>\n",
       "      <th>seriesid</th>\n",
       "      <th>seriesrank</th>\n",
       "      <th>journalrank</th>\n",
       "    </tr>\n",
       "  </thead>\n",
       "  <tbody>\n",
       "    <tr>\n",
       "      <th>50834836</th>\n",
       "      <td>0.172906</td>\n",
       "      <td>NaN</td>\n",
       "      <td>1998</td>\n",
       "      <td>50834836.0</td>\n",
       "      <td>50834836.0</td>\n",
       "      <td>2.913575e+09</td>\n",
       "      <td>NaN</td>\n",
       "      <td>NaN</td>\n",
       "      <td>NaN</td>\n",
       "      <td>NaN</td>\n",
       "    </tr>\n",
       "    <tr>\n",
       "      <th>50835551</th>\n",
       "      <td>0.172602</td>\n",
       "      <td>NaN</td>\n",
       "      <td>2000</td>\n",
       "      <td>50835551.0</td>\n",
       "      <td>50835551.0</td>\n",
       "      <td>3.128775e+09</td>\n",
       "      <td>NaN</td>\n",
       "      <td>NaN</td>\n",
       "      <td>NaN</td>\n",
       "      <td>NaN</td>\n",
       "    </tr>\n",
       "    <tr>\n",
       "      <th>50836794</th>\n",
       "      <td>0.171400</td>\n",
       "      <td>10.1109/TCOMM.2016.2520471</td>\n",
       "      <td>2016</td>\n",
       "      <td>50836794.0</td>\n",
       "      <td>50836794.0</td>\n",
       "      <td>2.087048e+09</td>\n",
       "      <td>174624592.0</td>\n",
       "      <td>NaN</td>\n",
       "      <td>NaN</td>\n",
       "      <td>11268.0</td>\n",
       "    </tr>\n",
       "    <tr>\n",
       "      <th>50853785</th>\n",
       "      <td>0.155465</td>\n",
       "      <td>NaN</td>\n",
       "      <td>1975</td>\n",
       "      <td>50853785.0</td>\n",
       "      <td>50853785.0</td>\n",
       "      <td>2.625391e+09</td>\n",
       "      <td>NaN</td>\n",
       "      <td>NaN</td>\n",
       "      <td>NaN</td>\n",
       "      <td>NaN</td>\n",
       "    </tr>\n",
       "    <tr>\n",
       "      <th>50854836</th>\n",
       "      <td>0.165315</td>\n",
       "      <td>NaN</td>\n",
       "      <td>1986</td>\n",
       "      <td>50854836.0</td>\n",
       "      <td>50854836.0</td>\n",
       "      <td>2.956054e+09</td>\n",
       "      <td>14544163.0</td>\n",
       "      <td>NaN</td>\n",
       "      <td>NaN</td>\n",
       "      <td>7527.0</td>\n",
       "    </tr>\n",
       "  </tbody>\n",
       "</table>\n",
       "</div>"
      ],
      "text/plain": [
       "          uncertain                           2  year  Unnamed: 0  \\\n",
       "50834836   0.172906                         NaN  1998  50834836.0   \n",
       "50835551   0.172602                         NaN  2000  50835551.0   \n",
       "50836794   0.171400  10.1109/TCOMM.2016.2520471  2016  50836794.0   \n",
       "50853785   0.155465                         NaN  1975  50853785.0   \n",
       "50854836   0.165315                         NaN  1986  50854836.0   \n",
       "\n",
       "          Unnamed: 0.1       paperid    journalid  seriesid  seriesrank  \\\n",
       "50834836    50834836.0  2.913575e+09          NaN       NaN         NaN   \n",
       "50835551    50835551.0  3.128775e+09          NaN       NaN         NaN   \n",
       "50836794    50836794.0  2.087048e+09  174624592.0       NaN         NaN   \n",
       "50853785    50853785.0  2.625391e+09          NaN       NaN         NaN   \n",
       "50854836    50854836.0  2.956054e+09   14544163.0       NaN         NaN   \n",
       "\n",
       "         journalrank  \n",
       "50834836         NaN  \n",
       "50835551         NaN  \n",
       "50836794     11268.0  \n",
       "50853785         NaN  \n",
       "50854836      7527.0  "
      ]
     },
     "execution_count": 81,
     "metadata": {},
     "output_type": "execute_result"
    }
   ],
   "source": [
    "df_wrank = pd.merge(df, paper_presented_rank, left_index=True, right_index=True, how='left')\n",
    "df_wrank.head()"
   ]
  },
  {
   "cell_type": "code",
   "execution_count": 82,
   "id": "442f2c43",
   "metadata": {},
   "outputs": [],
   "source": [
    "df_wrank.to_csv('/scratch/midway3/graceshaoy2/data_rank/'+rank_filename)"
   ]
  },
  {
   "cell_type": "markdown",
   "id": "02dd7fcd",
   "metadata": {},
   "source": [
    "# Citation Count"
   ]
  },
  {
   "cell_type": "code",
   "execution_count": 60,
   "id": "0f34fcaa",
   "metadata": {},
   "outputs": [],
   "source": [
    "paper_citations = pd.read_csv(\"data_citation/paper_citations.csv\")"
   ]
  },
  {
   "cell_type": "code",
   "execution_count": 83,
   "id": "e45a31b1",
   "metadata": {},
   "outputs": [],
   "source": [
    "df = ee_fin_wyear  # *&\n",
    "citation_filename = 'ee_ScB_wcitation.csv' # *&"
   ]
  },
  {
   "cell_type": "code",
   "execution_count": 84,
   "id": "67325314",
   "metadata": {},
   "outputs": [
    {
     "data": {
      "text/html": [
       "<div>\n",
       "<style scoped>\n",
       "    .dataframe tbody tr th:only-of-type {\n",
       "        vertical-align: middle;\n",
       "    }\n",
       "\n",
       "    .dataframe tbody tr th {\n",
       "        vertical-align: top;\n",
       "    }\n",
       "\n",
       "    .dataframe thead th {\n",
       "        text-align: right;\n",
       "    }\n",
       "</style>\n",
       "<table border=\"1\" class=\"dataframe\">\n",
       "  <thead>\n",
       "    <tr style=\"text-align: right;\">\n",
       "      <th></th>\n",
       "      <th>paperid</th>\n",
       "      <th>citation_count</th>\n",
       "    </tr>\n",
       "  </thead>\n",
       "  <tbody>\n",
       "    <tr>\n",
       "      <th>0</th>\n",
       "      <td>248996</td>\n",
       "      <td>4.0</td>\n",
       "    </tr>\n",
       "    <tr>\n",
       "      <th>1</th>\n",
       "      <td>2906390199</td>\n",
       "      <td>0.0</td>\n",
       "    </tr>\n",
       "    <tr>\n",
       "      <th>2</th>\n",
       "      <td>760496</td>\n",
       "      <td>2.0</td>\n",
       "    </tr>\n",
       "    <tr>\n",
       "      <th>3</th>\n",
       "      <td>1727602</td>\n",
       "      <td>0.0</td>\n",
       "    </tr>\n",
       "    <tr>\n",
       "      <th>4</th>\n",
       "      <td>2401921836</td>\n",
       "      <td>7.0</td>\n",
       "    </tr>\n",
       "  </tbody>\n",
       "</table>\n",
       "</div>"
      ],
      "text/plain": [
       "      paperid  citation_count\n",
       "0      248996             4.0\n",
       "1  2906390199             0.0\n",
       "2      760496             2.0\n",
       "3     1727602             0.0\n",
       "4  2401921836             7.0"
      ]
     },
     "execution_count": 84,
     "metadata": {},
     "output_type": "execute_result"
    }
   ],
   "source": [
    "# paper_citations = paper_citations[[\"pid\",\"citation_count\"]].rename(columns = {\"pid\":\"paperid\"}).set_index(\"paperid\")\n",
    "paper_citations.head()"
   ]
  },
  {
   "cell_type": "code",
   "execution_count": 85,
   "id": "76b007bd",
   "metadata": {},
   "outputs": [],
   "source": [
    "df_wcitation = pd.merge(df, paper_citations, left_index=True, right_index=True, how='left')"
   ]
  },
  {
   "cell_type": "code",
   "execution_count": 86,
   "id": "29d27e67",
   "metadata": {},
   "outputs": [
    {
     "name": "stdout",
     "output_type": "stream",
     "text": [
      "1015968 null citation counts out of 1040923\n"
     ]
    }
   ],
   "source": [
    "print(str(df_wcitation['citation_count'].isnull().values.sum())\\\n",
    "      + \" null citation counts out of \" + str(len(df_wcitation)))"
   ]
  },
  {
   "cell_type": "code",
   "execution_count": 87,
   "id": "9410338c",
   "metadata": {},
   "outputs": [],
   "source": [
    "df_wcitation.to_csv('data_citation/'+citation_filename)"
   ]
  },
  {
   "cell_type": "code",
   "execution_count": null,
   "id": "2586fb10",
   "metadata": {},
   "outputs": [],
   "source": []
  }
 ],
 "metadata": {
  "kernelspec": {
   "display_name": "Python 3 (ipykernel)",
   "language": "python",
   "name": "python3"
  },
  "language_info": {
   "codemirror_mode": {
    "name": "ipython",
    "version": 3
   },
   "file_extension": ".py",
   "mimetype": "text/x-python",
   "name": "python",
   "nbconvert_exporter": "python",
   "pygments_lexer": "ipython3",
   "version": "3.8.5"
  }
 },
 "nbformat": 4,
 "nbformat_minor": 5
}
