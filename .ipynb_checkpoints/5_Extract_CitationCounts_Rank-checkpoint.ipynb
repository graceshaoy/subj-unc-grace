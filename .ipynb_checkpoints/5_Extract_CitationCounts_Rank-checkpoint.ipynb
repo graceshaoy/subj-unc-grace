{
 "cells": [
  {
   "cell_type": "code",
   "execution_count": 1,
   "id": "be6ec530",
   "metadata": {},
   "outputs": [
    {
     "name": "stderr",
     "output_type": "stream",
     "text": [
      "\n",
      "Bad key text.latex.preview in file /software/python-anaconda-2020.11-el8-x86_64/lib/python3.8/site-packages/matplotlib/mpl-data/stylelib/_classic_test.mplstyle, line 123 ('text.latex.preview : False')\n",
      "You probably need to get an updated matplotlibrc file from\n",
      "https://github.com/matplotlib/matplotlib/blob/v3.6.0/matplotlibrc.template\n",
      "or from the matplotlib source distribution\n",
      "\n",
      "Bad key mathtext.fallback_to_cm in file /software/python-anaconda-2020.11-el8-x86_64/lib/python3.8/site-packages/matplotlib/mpl-data/stylelib/_classic_test.mplstyle, line 155 ('mathtext.fallback_to_cm : True  # When True, use symbols from the Computer Modern')\n",
      "You probably need to get an updated matplotlibrc file from\n",
      "https://github.com/matplotlib/matplotlib/blob/v3.6.0/matplotlibrc.template\n",
      "or from the matplotlib source distribution\n",
      "\n",
      "Bad key savefig.jpeg_quality in file /software/python-anaconda-2020.11-el8-x86_64/lib/python3.8/site-packages/matplotlib/mpl-data/stylelib/_classic_test.mplstyle, line 418 ('savefig.jpeg_quality: 95       # when a jpeg is saved, the default quality parameter.')\n",
      "You probably need to get an updated matplotlibrc file from\n",
      "https://github.com/matplotlib/matplotlib/blob/v3.6.0/matplotlibrc.template\n",
      "or from the matplotlib source distribution\n",
      "\n",
      "Bad key keymap.all_axes in file /software/python-anaconda-2020.11-el8-x86_64/lib/python3.8/site-packages/matplotlib/mpl-data/stylelib/_classic_test.mplstyle, line 466 ('keymap.all_axes : a                 # enable all axes')\n",
      "You probably need to get an updated matplotlibrc file from\n",
      "https://github.com/matplotlib/matplotlib/blob/v3.6.0/matplotlibrc.template\n",
      "or from the matplotlib source distribution\n",
      "\n",
      "Bad key animation.avconv_path in file /software/python-anaconda-2020.11-el8-x86_64/lib/python3.8/site-packages/matplotlib/mpl-data/stylelib/_classic_test.mplstyle, line 477 ('animation.avconv_path: avconv     # Path to avconv binary. Without full path')\n",
      "You probably need to get an updated matplotlibrc file from\n",
      "https://github.com/matplotlib/matplotlib/blob/v3.6.0/matplotlibrc.template\n",
      "or from the matplotlib source distribution\n",
      "\n",
      "Bad key animation.avconv_args in file /software/python-anaconda-2020.11-el8-x86_64/lib/python3.8/site-packages/matplotlib/mpl-data/stylelib/_classic_test.mplstyle, line 479 ('animation.avconv_args:            # Additional arguments to pass to avconv')\n",
      "You probably need to get an updated matplotlibrc file from\n",
      "https://github.com/matplotlib/matplotlib/blob/v3.6.0/matplotlibrc.template\n",
      "or from the matplotlib source distribution\n"
     ]
    }
   ],
   "source": [
    "import csv\n",
    "import time\n",
    "import sys\n",
    "import os\n",
    "\n",
    "import dask.dataframe as dd \n",
    "import pandas as pd\n",
    "import numpy as np\n",
    "import matplotlib.pyplot as plt\n",
    "\n",
    "%matplotlib inline\n",
    "path_prefix = \"/project/jevans/jamshid/mag/\""
   ]
  },
  {
   "cell_type": "markdown",
   "id": "bfb079c4",
   "metadata": {},
   "source": [
    "## paper citations"
   ]
  },
  {
   "cell_type": "code",
   "execution_count": null,
   "id": "343e9c3b",
   "metadata": {},
   "outputs": [],
   "source": [
    "paper_citations = pd.read_csv('/project/jevans/MAG_Dec_2021_snapshot/mag/Papers.txt', sep='\\t', header=None, usecols=[0,19])\n",
    "paper_citations = paper_citations.rename(columns = {0:\"paperid\", 19:\"citation_count\"})"
   ]
  },
  {
   "cell_type": "code",
   "execution_count": null,
   "id": "e462aac4",
   "metadata": {},
   "outputs": [],
   "source": [
    "paper_citations.head()"
   ]
  },
  {
   "cell_type": "code",
   "execution_count": null,
   "id": "8fd66fd7",
   "metadata": {},
   "outputs": [],
   "source": [
    "paper_citations.to_csv('paper_citations.csv')"
   ]
  },
  {
   "cell_type": "markdown",
   "id": "b88e2e08",
   "metadata": {},
   "source": [
    "## rank"
   ]
  },
  {
   "cell_type": "code",
   "execution_count": 2,
   "id": "7471b638",
   "metadata": {},
   "outputs": [
    {
     "name": "stderr",
     "output_type": "stream",
     "text": [
      "/software/python-anaconda-2020.11-el8-x86_64/lib/python3.8/site-packages/IPython/core/interactiveshell.py:3457: DtypeWarning: Columns (11) have mixed types.Specify dtype option on import or set low_memory=False.\n",
      "  exec(code_obj, self.user_global_ns, self.user_ns)\n"
     ]
    }
   ],
   "source": [
    "paper_presented = pd.read_csv('/project/jevans/MAG_Dec_2021_snapshot/mag/Papers.txt', sep='\\t', header=None, usecols=[0,11,12])"
   ]
  },
  {
   "cell_type": "code",
   "execution_count": 3,
   "id": "db7c02e1",
   "metadata": {},
   "outputs": [],
   "source": [
    "conference = pd.read_csv('/project/jevans/MAG_Dec_2021_snapshot/mag/ConferenceSeries.txt', sep='\\t', header=None, usecols=[0,1,2])"
   ]
  },
  {
   "cell_type": "code",
   "execution_count": 4,
   "id": "65e6b377",
   "metadata": {},
   "outputs": [],
   "source": [
    "journal = pd.read_csv('/project/jevans/MAG_Dec_2021_snapshot/mag/Journals.txt', sep='\\t', header=None, usecols=[0,1,2])"
   ]
  },
  {
   "cell_type": "code",
   "execution_count": 5,
   "id": "abf017e2",
   "metadata": {},
   "outputs": [],
   "source": [
    "paper_presented = paper_presented.rename(columns = {0:\"paperid\",11:\"journalid\",12:\"seriesid\"})\n",
    "conference = conference.rename(columns = {0:\"seriesid\",1:\"seriesrank\",2:\"seriesname\"})\n",
    "journal = journal.rename(columns = {0:\"journalid\",1:\"journalrank\",2:\"journalname\"})"
   ]
  },
  {
   "cell_type": "code",
   "execution_count": 2,
   "id": "151101d3",
   "metadata": {},
   "outputs": [
    {
     "name": "stderr",
     "output_type": "stream",
     "text": [
      "/software/python-anaconda-2020.11-el8-x86_64/lib/python3.8/site-packages/IPython/core/interactiveshell.py:3457: DtypeWarning: Columns (2) have mixed types.Specify dtype option on import or set low_memory=False.\n",
      "  exec(code_obj, self.user_global_ns, self.user_ns)\n"
     ]
    }
   ],
   "source": [
    "# paper_presented.to_csv(\"paper_presented.csv\")\n",
    "# conference.to_csv(\"conference.csv\")\n",
    "# journal.to_csv(\"journal.csv\")\n",
    "paper_presented = pd.read_csv(\"paper_presented.csv\")\n",
    "conference = pd.read_csv(\"conference.csv\")\n",
    "journal = pd.read_csv(\"journal.csv\")"
   ]
  },
  {
   "cell_type": "code",
   "execution_count": 3,
   "id": "a879b10b",
   "metadata": {},
   "outputs": [],
   "source": [
    "conference_dict = conference.set_index('seriesid').to_dict()['seriesrank']\n",
    "journal_dict = journal.set_index('journalid').to_dict()['journalrank']"
   ]
  },
  {
   "cell_type": "code",
   "execution_count": 4,
   "id": "49be788a",
   "metadata": {},
   "outputs": [],
   "source": [
    "paper_presented_rank = paper_presented\n",
    "paper_presented_rank['seriesrank'] = paper_presented_rank['seriesid'].apply(lambda x: conference_dict[x] if x in conference_dict else x)"
   ]
  },
  {
   "cell_type": "code",
   "execution_count": 5,
   "id": "03362e12",
   "metadata": {},
   "outputs": [],
   "source": [
    "paper_presented_rank['journalrank'] = paper_presented_rank['journalid'].apply(lambda x: journal_dict[x] if x in journal_dict else x)"
   ]
  },
  {
   "cell_type": "code",
   "execution_count": 6,
   "id": "22ff4479",
   "metadata": {},
   "outputs": [
    {
     "data": {
      "text/html": [
       "<div>\n",
       "<style scoped>\n",
       "    .dataframe tbody tr th:only-of-type {\n",
       "        vertical-align: middle;\n",
       "    }\n",
       "\n",
       "    .dataframe tbody tr th {\n",
       "        vertical-align: top;\n",
       "    }\n",
       "\n",
       "    .dataframe thead th {\n",
       "        text-align: right;\n",
       "    }\n",
       "</style>\n",
       "<table border=\"1\" class=\"dataframe\">\n",
       "  <thead>\n",
       "    <tr style=\"text-align: right;\">\n",
       "      <th></th>\n",
       "      <th>Unnamed: 0</th>\n",
       "      <th>paperid</th>\n",
       "      <th>journalid</th>\n",
       "      <th>seriesid</th>\n",
       "      <th>seriesrank</th>\n",
       "      <th>journalrank</th>\n",
       "    </tr>\n",
       "  </thead>\n",
       "  <tbody>\n",
       "    <tr>\n",
       "      <th>29</th>\n",
       "      <td>29</td>\n",
       "      <td>9694411</td>\n",
       "      <td>NaN</td>\n",
       "      <td>2.755927e+09</td>\n",
       "      <td>10037.0</td>\n",
       "      <td>NaN</td>\n",
       "    </tr>\n",
       "    <tr>\n",
       "      <th>37</th>\n",
       "      <td>37</td>\n",
       "      <td>14558443</td>\n",
       "      <td>NaN</td>\n",
       "      <td>1.131603e+09</td>\n",
       "      <td>11355.0</td>\n",
       "      <td>NaN</td>\n",
       "    </tr>\n",
       "    <tr>\n",
       "      <th>39</th>\n",
       "      <td>39</td>\n",
       "      <td>15354235</td>\n",
       "      <td>NaN</td>\n",
       "      <td>1.154039e+09</td>\n",
       "      <td>10766.0</td>\n",
       "      <td>NaN</td>\n",
       "    </tr>\n",
       "    <tr>\n",
       "      <th>55</th>\n",
       "      <td>55</td>\n",
       "      <td>21605082</td>\n",
       "      <td>NaN</td>\n",
       "      <td>1.190394e+09</td>\n",
       "      <td>11259.0</td>\n",
       "      <td>NaN</td>\n",
       "    </tr>\n",
       "    <tr>\n",
       "      <th>68</th>\n",
       "      <td>68</td>\n",
       "      <td>24327294</td>\n",
       "      <td>NaN</td>\n",
       "      <td>1.196984e+09</td>\n",
       "      <td>11612.0</td>\n",
       "      <td>NaN</td>\n",
       "    </tr>\n",
       "    <tr>\n",
       "      <th>...</th>\n",
       "      <td>...</td>\n",
       "      <td>...</td>\n",
       "      <td>...</td>\n",
       "      <td>...</td>\n",
       "      <td>...</td>\n",
       "      <td>...</td>\n",
       "    </tr>\n",
       "    <tr>\n",
       "      <th>269814128</th>\n",
       "      <td>269814128</td>\n",
       "      <td>3175551660</td>\n",
       "      <td>NaN</td>\n",
       "      <td>1.136618e+09</td>\n",
       "      <td>12133.0</td>\n",
       "      <td>NaN</td>\n",
       "    </tr>\n",
       "    <tr>\n",
       "      <th>269814175</th>\n",
       "      <td>269814175</td>\n",
       "      <td>3190861375</td>\n",
       "      <td>NaN</td>\n",
       "      <td>1.131240e+09</td>\n",
       "      <td>11510.0</td>\n",
       "      <td>NaN</td>\n",
       "    </tr>\n",
       "    <tr>\n",
       "      <th>269814184</th>\n",
       "      <td>269814184</td>\n",
       "      <td>3194650788</td>\n",
       "      <td>NaN</td>\n",
       "      <td>2.755031e+09</td>\n",
       "      <td>10788.0</td>\n",
       "      <td>NaN</td>\n",
       "    </tr>\n",
       "    <tr>\n",
       "      <th>269814237</th>\n",
       "      <td>269814237</td>\n",
       "      <td>3211011266</td>\n",
       "      <td>NaN</td>\n",
       "      <td>2.755283e+09</td>\n",
       "      <td>9875.0</td>\n",
       "      <td>NaN</td>\n",
       "    </tr>\n",
       "    <tr>\n",
       "      <th>269814257</th>\n",
       "      <td>269814257</td>\n",
       "      <td>3217727977</td>\n",
       "      <td>NaN</td>\n",
       "      <td>1.180663e+09</td>\n",
       "      <td>7764.0</td>\n",
       "      <td>NaN</td>\n",
       "    </tr>\n",
       "  </tbody>\n",
       "</table>\n",
       "<p>5208264 rows × 6 columns</p>\n",
       "</div>"
      ],
      "text/plain": [
       "           Unnamed: 0     paperid journalid      seriesid  seriesrank  \\\n",
       "29                 29     9694411       NaN  2.755927e+09     10037.0   \n",
       "37                 37    14558443       NaN  1.131603e+09     11355.0   \n",
       "39                 39    15354235       NaN  1.154039e+09     10766.0   \n",
       "55                 55    21605082       NaN  1.190394e+09     11259.0   \n",
       "68                 68    24327294       NaN  1.196984e+09     11612.0   \n",
       "...               ...         ...       ...           ...         ...   \n",
       "269814128   269814128  3175551660       NaN  1.136618e+09     12133.0   \n",
       "269814175   269814175  3190861375       NaN  1.131240e+09     11510.0   \n",
       "269814184   269814184  3194650788       NaN  2.755031e+09     10788.0   \n",
       "269814237   269814237  3211011266       NaN  2.755283e+09      9875.0   \n",
       "269814257   269814257  3217727977       NaN  1.180663e+09      7764.0   \n",
       "\n",
       "          journalrank  \n",
       "29                NaN  \n",
       "37                NaN  \n",
       "39                NaN  \n",
       "55                NaN  \n",
       "68                NaN  \n",
       "...               ...  \n",
       "269814128         NaN  \n",
       "269814175         NaN  \n",
       "269814184         NaN  \n",
       "269814237         NaN  \n",
       "269814257         NaN  \n",
       "\n",
       "[5208264 rows x 6 columns]"
      ]
     },
     "execution_count": 6,
     "metadata": {},
     "output_type": "execute_result"
    }
   ],
   "source": [
    "paper_presented_rank.query(\"seriesrank > 0\")"
   ]
  },
  {
   "cell_type": "code",
   "execution_count": 7,
   "id": "f2188e40",
   "metadata": {},
   "outputs": [],
   "source": [
    "paper_presented_rank.to_csv(\"/scratch/midway3/graceshaoy2/paper_presented_rank.csv\")"
   ]
  },
  {
   "cell_type": "code",
   "execution_count": 8,
   "id": "cdc9bc45",
   "metadata": {},
   "outputs": [
    {
     "data": {
      "text/html": [
       "<div>\n",
       "<style scoped>\n",
       "    .dataframe tbody tr th:only-of-type {\n",
       "        vertical-align: middle;\n",
       "    }\n",
       "\n",
       "    .dataframe tbody tr th {\n",
       "        vertical-align: top;\n",
       "    }\n",
       "\n",
       "    .dataframe thead th {\n",
       "        text-align: right;\n",
       "    }\n",
       "</style>\n",
       "<table border=\"1\" class=\"dataframe\">\n",
       "  <thead>\n",
       "    <tr style=\"text-align: right;\">\n",
       "      <th></th>\n",
       "      <th>Unnamed: 0</th>\n",
       "      <th>paperid</th>\n",
       "      <th>journalid</th>\n",
       "      <th>seriesid</th>\n",
       "      <th>seriesrank</th>\n",
       "      <th>journalrank</th>\n",
       "    </tr>\n",
       "  </thead>\n",
       "  <tbody>\n",
       "    <tr>\n",
       "      <th>0</th>\n",
       "      <td>0</td>\n",
       "      <td>248996</td>\n",
       "      <td>NaN</td>\n",
       "      <td>NaN</td>\n",
       "      <td>NaN</td>\n",
       "      <td>NaN</td>\n",
       "    </tr>\n",
       "    <tr>\n",
       "      <th>1</th>\n",
       "      <td>1</td>\n",
       "      <td>2906390199</td>\n",
       "      <td>NaN</td>\n",
       "      <td>NaN</td>\n",
       "      <td>NaN</td>\n",
       "      <td>NaN</td>\n",
       "    </tr>\n",
       "    <tr>\n",
       "      <th>2</th>\n",
       "      <td>2</td>\n",
       "      <td>760496</td>\n",
       "      <td>NaN</td>\n",
       "      <td>NaN</td>\n",
       "      <td>NaN</td>\n",
       "      <td>NaN</td>\n",
       "    </tr>\n",
       "    <tr>\n",
       "      <th>3</th>\n",
       "      <td>3</td>\n",
       "      <td>1727602</td>\n",
       "      <td>NaN</td>\n",
       "      <td>NaN</td>\n",
       "      <td>NaN</td>\n",
       "      <td>NaN</td>\n",
       "    </tr>\n",
       "    <tr>\n",
       "      <th>4</th>\n",
       "      <td>4</td>\n",
       "      <td>2401921836</td>\n",
       "      <td>NaN</td>\n",
       "      <td>NaN</td>\n",
       "      <td>NaN</td>\n",
       "      <td>NaN</td>\n",
       "    </tr>\n",
       "  </tbody>\n",
       "</table>\n",
       "</div>"
      ],
      "text/plain": [
       "   Unnamed: 0     paperid journalid  seriesid  seriesrank journalrank\n",
       "0           0      248996       NaN       NaN         NaN         NaN\n",
       "1           1  2906390199       NaN       NaN         NaN         NaN\n",
       "2           2      760496       NaN       NaN         NaN         NaN\n",
       "3           3     1727602       NaN       NaN         NaN         NaN\n",
       "4           4  2401921836       NaN       NaN         NaN         NaN"
      ]
     },
     "execution_count": 8,
     "metadata": {},
     "output_type": "execute_result"
    }
   ],
   "source": [
    "paper_presented_rank.head()"
   ]
  }
 ],
 "metadata": {
  "kernelspec": {
   "display_name": "Python 3 (ipykernel)",
   "language": "python",
   "name": "python3"
  },
  "language_info": {
   "codemirror_mode": {
    "name": "ipython",
    "version": 3
   },
   "file_extension": ".py",
   "mimetype": "text/x-python",
   "name": "python",
   "nbconvert_exporter": "python",
   "pygments_lexer": "ipython3",
   "version": "3.8.5"
  }
 },
 "nbformat": 4,
 "nbformat_minor": 5
}
