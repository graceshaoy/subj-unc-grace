{
 "cells": [
  {
   "cell_type": "markdown",
   "id": "1f99b0e6",
   "metadata": {},
   "source": [
    "# Uncertainty vs. Journal location"
   ]
  },
  {
   "cell_type": "markdown",
   "id": "d4ce216b",
   "metadata": {},
   "source": [
    "### getting info"
   ]
  },
  {
   "cell_type": "code",
   "execution_count": 1,
   "id": "d548f391",
   "metadata": {},
   "outputs": [],
   "source": [
    "topic_string = 'physics'\n",
    "# physics_jid = journals.loc[[x for x in journals.index if journals.norm_name[x].__contains__('physic')\\\n",
    "#                             and not journals.norm_name[x].__contains__('physical')\\\n",
    "#                             and not journals.norm_name[x].__contains__('physician')]]\n",
    "# *! physic includes physicians & medical physics, physics excludes physical , ..\n",
    "\n",
    "topic_filename = \"phys_loc_pids.json\""
   ]
  },
  {
   "cell_type": "code",
   "execution_count": 3,
   "id": "d592bcd3",
   "metadata": {},
   "outputs": [],
   "source": [
    "journals = pd.read_csv('/project/jevans/MAG_Dec_2021_snapshot/mag/Journals.txt', sep='\\t', header=None, usecols=[0,2,3,5,7])\n",
    "journals.columns = [\"jid\",\"norm_name\",\"display_name\",\"publisher\",\"pcount\"]"
   ]
  },
  {
   "cell_type": "code",
   "execution_count": 28,
   "id": "ecd7db8f",
   "metadata": {},
   "outputs": [],
   "source": [
    "topic_jid = journals.loc[[x for x in journals.index if journals.norm_name[x].__contains__(topic_string)]]"
   ]
  },
  {
   "cell_type": "code",
   "execution_count": 29,
   "id": "c227a97e",
   "metadata": {},
   "outputs": [],
   "source": [
    "america_jid = set([topic_jid.jid[x] for x in topic_jid.index if topic_jid.norm_name[x].__contains__('america')])\n",
    "japan_jid = set([topic_jid.jid[x] for x in topic_jid.index if topic_jid.norm_name[x].__contains__('japan')])\n",
    "china_jid = set([topic_jid.jid[x] for x in topic_jid.index if topic_jid.norm_name[x].__contains__('chine')])\n",
    "europe_jid = set([topic_jid.jid[x] for x in topic_jid.index if topic_jid.norm_name[x].__contains__('euro')])\n",
    "britain_jid = set([topic_jid.jid[x] for x in topic_jid.index if topic_jid.norm_name[x].__contains__('brit')])\n",
    "iran_jid = set([topic_jid.jid[x] for x in topic_jid.index if topic_jid.norm_name[x].__contains__('iran')])"
   ]
  },
  {
   "cell_type": "code",
   "execution_count": 7,
   "id": "e991ad2a",
   "metadata": {},
   "outputs": [
    {
     "name": "stderr",
     "output_type": "stream",
     "text": [
      "/software/python-anaconda-2020.11-el8-x86_64/lib/python3.8/site-packages/IPython/core/interactiveshell.py:3457: DtypeWarning: Columns (2) have mixed types.Specify dtype option on import or set low_memory=False.\n",
      "  exec(code_obj, self.user_global_ns, self.user_ns)\n"
     ]
    }
   ],
   "source": [
    "# pjid = pd.read_csv('pjid.csv')"
   ]
  },
  {
   "cell_type": "code",
   "execution_count": 30,
   "id": "d8367c5d",
   "metadata": {},
   "outputs": [],
   "source": [
    "america_pid, japan_pid, china_pid, europe_pid, britain_pid, iran_pid = [],[],[],[],[],[]\n",
    "for x in pjid.index:\n",
    "    xjid,xpid = pjid.jid[x],pjid.pid[x]\n",
    "    if xjid in america_jid:\n",
    "        america_pid.append(xpid)\n",
    "    elif xjid in japan_jid:\n",
    "        japan_pid.append(xpid)\n",
    "    elif xjid in china_jid:\n",
    "        china_pid.append(xpid)\n",
    "    elif xjid in europe_jid:\n",
    "        europe_pid.append(xpid)\n",
    "    elif xjid in britain_jid:\n",
    "        britain_pid.append(xpid)\n",
    "    elif xjid in iran_jid:\n",
    "        iran_pid.append(xpid)"
   ]
  },
  {
   "cell_type": "code",
   "execution_count": 21,
   "id": "9643604d",
   "metadata": {},
   "outputs": [
    {
     "data": {
      "text/plain": [
       "2144637206"
      ]
     },
     "execution_count": 21,
     "metadata": {},
     "output_type": "execute_result"
    }
   ],
   "source": [
    "topic_loc_pids['america'][0]"
   ]
  },
  {
   "cell_type": "code",
   "execution_count": 31,
   "id": "99454fea",
   "metadata": {},
   "outputs": [],
   "source": [
    "topic_loc_pids = {}\n",
    "for loc in [\"america\",\"japan\",\"china\",\"europe\",\"britain\",\"iran\"]:\n",
    "    loc_pids = list(map(int, locals()[loc+\"_pid\"]))\n",
    "    topic_loc_pids[loc] = loc_pids"
   ]
  },
  {
   "cell_type": "code",
   "execution_count": 32,
   "id": "74f700e3",
   "metadata": {},
   "outputs": [],
   "source": [
    "json.dump(topic_loc_pids, open(topic_filename,\"w\"), indent=4)"
   ]
  },
  {
   "cell_type": "markdown",
   "id": "a9a2cd20",
   "metadata": {},
   "source": [
    "### merging location w uncertainty df"
   ]
  },
  {
   "cell_type": "code",
   "execution_count": null,
   "id": "c2ca800f",
   "metadata": {},
   "outputs": [],
   "source": [
    "topic_pids_filename = 'soc_loc_pids.json'\n",
    "topic_uncertain_filename = 'phys_uncertain_wloc.csv'"
   ]
  },
  {
   "cell_type": "code",
   "execution_count": 51,
   "id": "485c09b5",
   "metadata": {},
   "outputs": [],
   "source": [
    "with open(topic_pids_filename,'r') as file:\n",
    "    loc_pids = json.load(file)\n",
    "for c in loc_pids:\n",
    "    loc_pids[c] = set(loc_pids[c])"
   ]
  },
  {
   "cell_type": "code",
   "execution_count": 52,
   "id": "2d21af2d",
   "metadata": {},
   "outputs": [],
   "source": [
    "locs, pids = [],[]\n",
    "for loc in loc_pids:\n",
    "    for p in loc_pids[loc]:\n",
    "        locs.append(loc)\n",
    "        pids.append(p)\n",
    "loc_df = pd.DataFrame()\n",
    "loc_df['pid'] = pids\n",
    "loc_df['location'] = locs\n",
    "loc_df = loc_df.set_index('pid')"
   ]
  },
  {
   "cell_type": "code",
   "execution_count": 49,
   "id": "ad2a3b6b",
   "metadata": {},
   "outputs": [],
   "source": [
    "topic_uncertain_wloc = pd.merge(loc_df,phys_fin_wyear,how='left',left_index=True,right_index=True).dropna()\n",
    "topic_uncertain_wloc.to_csv(topic_uncertain_filename)"
   ]
  },
  {
   "cell_type": "code",
   "execution_count": 60,
   "id": "00e6ae39",
   "metadata": {},
   "outputs": [],
   "source": [
    "# topic_uncertain_wloc = pd.merge(loc_df,soc_fin_wyear,how='left',left_index=True,right_index=True).dropna()\n",
    "# topic_uncertain_wloc.to_csv(topic_uncertain_filename)"
   ]
  },
  {
   "cell_type": "markdown",
   "id": "8ebdad2d",
   "metadata": {},
   "source": [
    "# Rank"
   ]
  },
  {
   "cell_type": "code",
   "execution_count": null,
   "id": "fa3b5b6d",
   "metadata": {},
   "outputs": [],
   "source": [
    "paper_presented_rank = pd.read_csv('paper_presented_rank.csv')"
   ]
  },
  {
   "cell_type": "code",
   "execution_count": null,
   "id": "ed6c3ebf",
   "metadata": {},
   "outputs": [],
   "source": [
    "df_wrank = pd.merge(phys_fin_wyear, paper_presented_rank, left_index=True, right_index=True, how='left')\n",
    "df_wrank.head()"
   ]
  },
  {
   "cell_type": "code",
   "execution_count": null,
   "id": "442f2c43",
   "metadata": {},
   "outputs": [],
   "source": [
    "df_wrank.to_csv('/scratch/midway3/graceshaoy2/phys_wrank.csv')"
   ]
  },
  {
   "cell_type": "markdown",
   "id": "02dd7fcd",
   "metadata": {},
   "source": [
    "# Citation Count"
   ]
  },
  {
   "cell_type": "code",
   "execution_count": 232,
   "id": "0f34fcaa",
   "metadata": {},
   "outputs": [],
   "source": [
    "paper_citations = pd.read_csv(\"paper_citations.csv\")"
   ]
  },
  {
   "cell_type": "code",
   "execution_count": 4,
   "id": "67325314",
   "metadata": {},
   "outputs": [
    {
     "data": {
      "text/html": [
       "<div>\n",
       "<style scoped>\n",
       "    .dataframe tbody tr th:only-of-type {\n",
       "        vertical-align: middle;\n",
       "    }\n",
       "\n",
       "    .dataframe tbody tr th {\n",
       "        vertical-align: top;\n",
       "    }\n",
       "\n",
       "    .dataframe thead th {\n",
       "        text-align: right;\n",
       "    }\n",
       "</style>\n",
       "<table border=\"1\" class=\"dataframe\">\n",
       "  <thead>\n",
       "    <tr style=\"text-align: right;\">\n",
       "      <th></th>\n",
       "      <th>paperid</th>\n",
       "      <th>citation_count</th>\n",
       "    </tr>\n",
       "  </thead>\n",
       "  <tbody>\n",
       "    <tr>\n",
       "      <th>0</th>\n",
       "      <td>248996</td>\n",
       "      <td>4.0</td>\n",
       "    </tr>\n",
       "    <tr>\n",
       "      <th>1</th>\n",
       "      <td>2906390199</td>\n",
       "      <td>0.0</td>\n",
       "    </tr>\n",
       "    <tr>\n",
       "      <th>2</th>\n",
       "      <td>760496</td>\n",
       "      <td>2.0</td>\n",
       "    </tr>\n",
       "    <tr>\n",
       "      <th>3</th>\n",
       "      <td>1727602</td>\n",
       "      <td>0.0</td>\n",
       "    </tr>\n",
       "    <tr>\n",
       "      <th>4</th>\n",
       "      <td>2401921836</td>\n",
       "      <td>7.0</td>\n",
       "    </tr>\n",
       "  </tbody>\n",
       "</table>\n",
       "</div>"
      ],
      "text/plain": [
       "      paperid  citation_count\n",
       "0      248996             4.0\n",
       "1  2906390199             0.0\n",
       "2      760496             2.0\n",
       "3     1727602             0.0\n",
       "4  2401921836             7.0"
      ]
     },
     "execution_count": 4,
     "metadata": {},
     "output_type": "execute_result"
    }
   ],
   "source": [
    "# paper_citations = paper_citations[[\"pid\",\"citation_count\"]].rename(columns = {\"pid\":\"paperid\"}).set_index(\"paperid\")\n",
    "paper_citations.head()"
   ]
  },
  {
   "cell_type": "code",
   "execution_count": 12,
   "id": "76b007bd",
   "metadata": {},
   "outputs": [],
   "source": [
    "df_wcitation = pd.merge(phys_fin_wyear, paper_citations, left_index=True, right_index=True, how='left')"
   ]
  },
  {
   "cell_type": "code",
   "execution_count": 10,
   "id": "29d27e67",
   "metadata": {},
   "outputs": [
    {
     "name": "stdout",
     "output_type": "stream",
     "text": [
      "4290990 null citation counts out of 4408080\n"
     ]
    }
   ],
   "source": [
    "print(str(df_wcitation['citation_count'].isnull().values.sum())\\\n",
    "      + \" null citation counts out of \" + str(len(df_wcitation)))"
   ]
  },
  {
   "cell_type": "code",
   "execution_count": 13,
   "id": "9410338c",
   "metadata": {},
   "outputs": [],
   "source": [
    "df_wcitation.to_csv('phys_wcitation.csv')"
   ]
  },
  {
   "cell_type": "code",
   "execution_count": null,
   "id": "2586fb10",
   "metadata": {},
   "outputs": [],
   "source": []
  }
 ],
 "metadata": {
  "kernelspec": {
   "display_name": "Python 3 (ipykernel)",
   "language": "python",
   "name": "python3"
  },
  "language_info": {
   "codemirror_mode": {
    "name": "ipython",
    "version": 3
   },
   "file_extension": ".py",
   "mimetype": "text/x-python",
   "name": "python",
   "nbconvert_exporter": "python",
   "pygments_lexer": "ipython3",
   "version": "3.8.5"
  }
 },
 "nbformat": 4,
 "nbformat_minor": 5
}
